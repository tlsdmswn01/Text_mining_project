{
  "nbformat": 4,
  "nbformat_minor": 0,
  "metadata": {
    "colab": {
      "private_outputs": true,
      "provenance": [],
      "include_colab_link": true
    },
    "kernelspec": {
      "name": "python3",
      "display_name": "Python 3"
    },
    "language_info": {
      "name": "python"
    }
  },
  "cells": [
    {
      "cell_type": "markdown",
      "metadata": {
        "id": "view-in-github",
        "colab_type": "text"
      },
      "source": [
        "<a href=\"https://colab.research.google.com/github/tlsdmswn01/Text_mining_project/blob/main/Dart_Doc2vec/Dart%EA%B3%B5%EC%8B%9C%EC%9E%90%EB%A3%8C.ipynb\" target=\"_parent\"><img src=\"https://colab.research.google.com/assets/colab-badge.svg\" alt=\"Open In Colab\"/></a>"
      ]
    },
    {
      "cell_type": "code",
      "source": [
        "from google.colab import drive\n",
        "drive.mount('/content/drive')"
      ],
      "metadata": {
        "id": "8KiZGyQ8m-jg"
      },
      "execution_count": null,
      "outputs": []
    },
    {
      "cell_type": "code",
      "source": [
        "#!pip install dart-fss\n",
        "!pip install opendartreader"
      ],
      "metadata": {
        "id": "mMf-mQFY2aBt"
      },
      "execution_count": null,
      "outputs": []
    },
    {
      "cell_type": "code",
      "execution_count": null,
      "metadata": {
        "id": "ZBPbDE_S2OK5"
      },
      "outputs": [],
      "source": [
        "#dart api 인증키 : c585539e39b9f04f5aec7f95223bf660c253a73c\n",
        "import OpenDartReader\n",
        "import requests\n",
        "from bs4 import BeautifulSoup\n",
        "import pandas as pd\n",
        "import numpy as np"
      ]
    },
    {
      "cell_type": "code",
      "source": [
        "#pip install --upgrade opendartreader"
      ],
      "metadata": {
        "id": "P-K__Ky13dVm"
      },
      "execution_count": null,
      "outputs": []
    },
    {
      "cell_type": "code",
      "source": [
        "import OpenDartReader\n",
        "\n",
        "### 0. 객체 생성 ###\n",
        "# 객체 생성 (API KEY 지정)\n",
        "api_key = 'c585539e39b9f04f5aec7f95223bf660c253a73c'\n",
        "\n",
        "dart = OpenDartReader(api_key)\n"
      ],
      "metadata": {
        "id": "njHxp88r3hrK"
      },
      "execution_count": null,
      "outputs": []
    },
    {
      "cell_type": "code",
      "source": [
        "\n",
        "report = dart.list('삼성전자', start='2023', kind='A', final=False)\n",
        "report_nm =report[report['report_nm'].str.contains('사업보고서')]\n",
        "report_num=report_nm['rcept_no']\n",
        "report_num\n",
        "for j in report_num:\n",
        "    sub_report=dart.sub_docs(j)\n",
        "    report_url =sub_report[sub_report['title'].str.contains('사업의 개요')]\n",
        "    report_url2=report_url['url']\n",
        "for k in report_url2:\n",
        "    url = k\n",
        "    soup = BeautifulSoup(requests.get(url).text)\n",
        "\n",
        "text=soup.text"
      ],
      "metadata": {
        "id": "5IA9yKV3WGuP"
      },
      "execution_count": null,
      "outputs": []
    },
    {
      "cell_type": "code",
      "source": [
        "# 불용어 사전\n",
        "stop_words=pd.read_csv('/content/drive/Shareddrives/텍스트 마이닝 프로젝트/웹 크롤링 코드 및 데이터/stopwords.txt',sep='\\t')"
      ],
      "metadata": {
        "id": "8d_eRmwxG6Df"
      },
      "execution_count": null,
      "outputs": []
    },
    {
      "cell_type": "code",
      "source": [
        "from konlpy.tag import Okt # komoran, hannanum, kkma, mecab\n",
        "import re\n",
        "import nltk\n",
        "nltk.download('wordnet') #Lemmatization - 표제어 추출(통일화)\n",
        "from nltk.stem import WordNetLemmatizer\n",
        "wl = WordNetLemmatizer()\n",
        "okt=Okt()\n",
        "# 토큰화하기\n",
        "def preprocessing(s):\n",
        "    try:\n",
        "    #[]제거\n",
        "        s = re.sub(pattern='\\[[^)]*\\]\\n+', repl='', string=s)\n",
        "\n",
        "    # 특수문자 제거\n",
        "        s = re.sub('[^a-zA-Z가-힣\\s]', repl='', string=s)\n",
        "    #원하는 불용어 제거하기\n",
        "        for j in stop_words['가']:\n",
        "            s = re.sub(j, repl='', string=s)\n",
        "    except:\n",
        "        print(s)\n",
        "\n",
        "\n",
        "    # 토큰화\n",
        "    s_token=okt.morphs(s,norm=True)\n",
        "\n",
        "\n",
        "    # 글자 1개만 있으면 제외하기\n",
        "    word_list = []\n",
        "    for word in s_token:\n",
        "        if len(word) !=1:\n",
        "            word_list.append(wl.lemmatize(word))\n",
        "\n",
        "    return word_list"
      ],
      "metadata": {
        "id": "ARhmnAiOEBWs"
      },
      "execution_count": null,
      "outputs": []
    },
    {
      "cell_type": "code",
      "source": [
        "cor_text=preprocessing(text)\n",
        "del cor_text[0]\n",
        "del cor_text[2]\n",
        "\n",
        "import pickle\n",
        "with open(\"삼성전자 사업개요.pkl\",\"wb\") as f:\n",
        "    pickle.dump(samsung_text, f)"
      ],
      "metadata": {
        "id": "wH2JaY17Fkhb"
      },
      "execution_count": null,
      "outputs": []
    },
    {
      "cell_type": "code",
      "source": [
        "cor_list=pd.read_excel('/content/drive/Shareddrives/텍스트 마이닝 프로젝트/웹 크롤링 코드 및 데이터/상장법인목록.xlsx')"
      ],
      "metadata": {
        "id": "TT_FQabQmzb-"
      },
      "execution_count": null,
      "outputs": []
    },
    {
      "cell_type": "code",
      "source": [
        "cor_list.info()"
      ],
      "metadata": {
        "id": "6Dk8VvdYnRSn"
      },
      "execution_count": null,
      "outputs": []
    },
    {
      "cell_type": "code",
      "source": [
        "cor_list['회사명'][0]"
      ],
      "metadata": {
        "id": "-ucqS9HeoNO8"
      },
      "execution_count": null,
      "outputs": []
    },
    {
      "cell_type": "code",
      "source": [
        "from tqdm import tqdm\n",
        "import time\n"
      ],
      "metadata": {
        "id": "cirEdTNghHnk"
      },
      "execution_count": null,
      "outputs": []
    },
    {
      "cell_type": "code",
      "source": [
        "document=[]\n",
        "company_name=cor_list['회사명'][1000:]\n",
        "for i in tqdm(company_name):\n",
        "    try:\n",
        "        report = dart.list(i, start='2023', kind='A', final=False)\n",
        "        report_nm =report[report['report_nm'].str.contains('사업보고서')]\n",
        "        report_num=report_nm['rcept_no']\n",
        "        report_num\n",
        "        for j in report_num:\n",
        "            sub_report=dart.sub_docs(j)\n",
        "            report_url =sub_report[sub_report['title'].str.contains('사업의 개요')]\n",
        "            report_url2=report_url['url']\n",
        "        for k in report_url2:\n",
        "            url = k\n",
        "            soup = BeautifulSoup(requests.get(url).text)\n",
        "            document.append(soup.text)\n",
        "    except:\n",
        "        document.append('na')\n",
        "document"
      ],
      "metadata": {
        "id": "nLD_g7ZNoQJU"
      },
      "execution_count": null,
      "outputs": []
    },
    {
      "cell_type": "code",
      "source": [
        "company_name = company_name.reset_index(drop=True)\n",
        "\n",
        "print(len(company_name))\n",
        "print(len(document))\n",
        "\n",
        "a = 0\n",
        "for i in range(len(document)):\n",
        "    if str(document[i]) == 'na':\n",
        "        a += 1\n",
        "print(a)"
      ],
      "metadata": {
        "id": "NFalCmz_JCSY"
      },
      "execution_count": null,
      "outputs": []
    },
    {
      "cell_type": "code",
      "source": [
        "document[0]\n",
        "# company_name[0]"
      ],
      "metadata": {
        "id": "LlVjAkscKxTF"
      },
      "execution_count": null,
      "outputs": []
    },
    {
      "cell_type": "code",
      "source": [
        "df=pd.DataFrame({'company1':company_name,'document1':document})\n",
        "df"
      ],
      "metadata": {
        "id": "h4vBvI7_oA-Q"
      },
      "execution_count": null,
      "outputs": []
    },
    {
      "cell_type": "code",
      "source": [
        "!pip install konlpy\n",
        "!pip install mecab-python\n",
        "!bash <(curl -s https://raw.githubusercontent.com/konlpy/konlpy/master/scripts/mecab.sh)"
      ],
      "metadata": {
        "id": "o0Chkwrq6ORe"
      },
      "execution_count": null,
      "outputs": []
    },
    {
      "cell_type": "code",
      "source": [
        "import pandas as pd\n",
        "from konlpy.tag import Mecab\n",
        "from gensim.models.doc2vec import TaggedDocument\n",
        "from tqdm import tqdm"
      ],
      "metadata": {
        "id": "zi35o71u6V4T"
      },
      "execution_count": null,
      "outputs": []
    },
    {
      "cell_type": "code",
      "source": [],
      "metadata": {
        "id": "HosRO3pF6amD"
      },
      "execution_count": null,
      "outputs": []
    }
  ]
}