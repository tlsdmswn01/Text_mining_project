{
  "nbformat": 4,
  "nbformat_minor": 0,
  "metadata": {
    "colab": {
      "private_outputs": true,
      "provenance": [],
      "include_colab_link": true
    },
    "kernelspec": {
      "name": "python3",
      "display_name": "Python 3"
    },
    "language_info": {
      "name": "python"
    }
  },
  "cells": [
    {
      "cell_type": "markdown",
      "metadata": {
        "id": "view-in-github",
        "colab_type": "text"
      },
      "source": [
        "<a href=\"https://colab.research.google.com/github/tlsdmswn01/Text_mining_project/blob/main/Dart_Doc2vec/Dart%EA%B3%B5%EC%8B%9C%EC%9E%90%EB%A3%8C.ipynb\" target=\"_parent\"><img src=\"https://colab.research.google.com/assets/colab-badge.svg\" alt=\"Open In Colab\"/></a>"
      ]
    },
    {
      "cell_type": "code",
      "source": [
        "from google.colab import drive\n",
        "drive.mount('/content/drive')"
      ],
      "metadata": {
        "id": "8KiZGyQ8m-jg"
      },
      "execution_count": null,
      "outputs": []
    },
    {
      "cell_type": "code",
      "source": [
        "cd/content/drive/Shareddrives/텍스트 마이닝 프로젝트/경쟁사 찾기"
      ],
      "metadata": {
        "id": "_tWUDdNrXAql"
      },
      "execution_count": null,
      "outputs": []
    },
    {
      "cell_type": "code",
      "source": [
        "#!pip install dart-fss\n",
        "!pip install opendartreader"
      ],
      "metadata": {
        "id": "mMf-mQFY2aBt"
      },
      "execution_count": null,
      "outputs": []
    },
    {
      "cell_type": "code",
      "execution_count": null,
      "metadata": {
        "id": "ZBPbDE_S2OK5"
      },
      "outputs": [],
      "source": [
        "#dart api 인증키 : c585539e39b9f04f5aec7f95223bf660c253a73c\n",
        "import OpenDartReader\n",
        "import requests\n",
        "from bs4 import BeautifulSoup\n",
        "import pandas as pd\n",
        "import numpy as np\n",
        "from tqdm import tqdm\n",
        "import time"
      ]
    },
    {
      "cell_type": "code",
      "source": [
        "#pip install --upgrade opendartreader"
      ],
      "metadata": {
        "id": "P-K__Ky13dVm"
      },
      "execution_count": null,
      "outputs": []
    },
    {
      "cell_type": "code",
      "source": [
        "import OpenDartReader\n",
        "\n",
        "### 0. 객체 생성 ###\n",
        "# 객체 생성 (API KEY 지정)\n",
        "api_key = 'c585539e39b9f04f5aec7f95223bf660c253a73c'\n",
        "\n",
        "dart = OpenDartReader(api_key)\n",
        "\n"
      ],
      "metadata": {
        "id": "njHxp88r3hrK"
      },
      "execution_count": null,
      "outputs": []
    },
    {
      "cell_type": "markdown",
      "source": [
        "# 전처리: 불용어 처리 및 토큰화"
      ],
      "metadata": {
        "id": "DLL5jFkG4BgD"
      }
    },
    {
      "cell_type": "code",
      "source": [
        "# 불용어 사전\n",
        "stop_words=pd.read_csv('/content/drive/Shareddrives/텍스트 마이닝 프로젝트/웹 크롤링 코드 및 데이터/stopwords.txt',sep='\\t')"
      ],
      "metadata": {
        "id": "8d_eRmwxG6Df"
      },
      "execution_count": null,
      "outputs": []
    },
    {
      "cell_type": "code",
      "source": [
        "!pip install konlpy"
      ],
      "metadata": {
        "id": "3JYHU2z15LPo"
      },
      "execution_count": null,
      "outputs": []
    },
    {
      "cell_type": "markdown",
      "source": [
        "# 삼성전자 사업개요서 추출"
      ],
      "metadata": {
        "id": "f4GBWAPH36m9"
      }
    },
    {
      "cell_type": "code",
      "source": [
        "report = dart.list('삼성전자', start='2023', kind='A', final=False)\n",
        "report_nm =report[report['report_nm'].str.contains('사업보고서')]\n",
        "report_num=report_nm['rcept_no']\n",
        "report_num\n",
        "for j in report_num:\n",
        "    sub_report=dart.sub_docs(j)\n",
        "    report_url =sub_report[sub_report['title'].str.contains('사업의 개요')]\n",
        "    report_url2=report_url['url']\n",
        "for k in report_url2:\n",
        "    url = k\n",
        "    soup = BeautifulSoup(requests.get(url).text)\n",
        "\n",
        "text=soup.text\n"
      ],
      "metadata": {
        "id": "5IA9yKV3WGuP"
      },
      "execution_count": null,
      "outputs": []
    },
    {
      "cell_type": "code",
      "source": [
        "text"
      ],
      "metadata": {
        "id": "o1f-XLldfLwX"
      },
      "execution_count": null,
      "outputs": []
    },
    {
      "cell_type": "code",
      "source": [
        "report = dart.list('엔에이치스팩25호', start='2023', kind='A', final=False)\n",
        "report_nm =report[report['report_nm'].str.contains('사업보고서')]\n",
        "report_num=report_nm['rcept_no']\n",
        "num=report_num.iloc[0]\n",
        "sub_report=dart.sub_docs(num)\n",
        "report_url =sub_report[sub_report['title'].str.contains('사업의 개요')]\n",
        "report_url2=report_url['url'].iloc[0]\n",
        "report_url2"
      ],
      "metadata": {
        "id": "MVMjoRk95U-0"
      },
      "execution_count": null,
      "outputs": []
    },
    {
      "cell_type": "code",
      "source": [
        "url=report_url2\n",
        "soup = BeautifulSoup(requests.get(url).text)\n",
        "text=soup.text"
      ],
      "metadata": {
        "id": "fGMopYV36mY0"
      },
      "execution_count": null,
      "outputs": []
    },
    {
      "cell_type": "code",
      "source": [
        "cor_text=preprocessing(text)\n",
        "del cor_text[0]\n",
        "del cor_text[2]\n",
        "\n",
        "import pickle\n",
        "with open(\"삼성전자 사업개요.pkl\",\"wb\") as f:\n",
        "    pickle.dump(samsung_text, f)"
      ],
      "metadata": {
        "id": "wH2JaY17Fkhb"
      },
      "execution_count": null,
      "outputs": []
    },
    {
      "cell_type": "markdown",
      "source": [
        "# 전체 상장기업 사업개요서 가져오기"
      ],
      "metadata": {
        "id": "ZCcuW6tu4HBm"
      }
    },
    {
      "cell_type": "code",
      "source": [
        "cor_list=pd.read_excel('/content/drive/Shareddrives/텍스트 마이닝 프로젝트/웹 크롤링 코드 및 데이터/상장법인목록.xlsx')"
      ],
      "metadata": {
        "id": "TT_FQabQmzb-"
      },
      "execution_count": null,
      "outputs": []
    },
    {
      "cell_type": "code",
      "source": [
        "document=[]\n",
        "company_name=cor_list['회사명'][1000:]\n",
        "for i in tqdm(company_name):\n",
        "    try:\n",
        "        report = dart.list(i, start='2023', kind='A', final=False)\n",
        "        report_nm =report[report['report_nm'].str.contains('사업보고서')]\n",
        "        report_num=report_nm['rcept_no']\n",
        "        num=report_num.iloc[0]\n",
        "        sub_report=dart.sub_docs(num)\n",
        "        report_url =sub_report[sub_report['title'].str.contains('사업의 개요')]\n",
        "        report_url2=report_url['url'].iloc[0]\n",
        "        url=report_url2\n",
        "        soup = BeautifulSoup(requests.get(url).text)\n",
        "        document.append(soup.text)\n",
        "    except:\n",
        "        document.append('na')\n",
        "document"
      ],
      "metadata": {
        "id": "nLD_g7ZNoQJU"
      },
      "execution_count": null,
      "outputs": []
    },
    {
      "cell_type": "code",
      "source": [
        "company_name = company_name.reset_index(drop=True)\n",
        "df=pd.DataFrame({'company1':company_name,'document1':document})\n",
        "df.to_csv('Doc2vec할 데이터.csv')"
      ],
      "metadata": {
        "id": "h4vBvI7_oA-Q"
      },
      "execution_count": null,
      "outputs": []
    },
    {
      "cell_type": "code",
      "source": [
        "!pip install konlpy\n",
        "!pip install mecab-python\n",
        "!bash <(curl -s https://raw.githubusercontent.com/konlpy/konlpy/master/scripts/mecab.sh)"
      ],
      "metadata": {
        "id": "o0Chkwrq6ORe"
      },
      "execution_count": null,
      "outputs": []
    },
    {
      "cell_type": "code",
      "source": [
        "import pandas as pd\n",
        "from konlpy.tag import Mecab\n",
        "from gensim.models.doc2vec import TaggedDocument\n",
        "from tqdm import tqdm"
      ],
      "metadata": {
        "id": "zi35o71u6V4T"
      },
      "execution_count": null,
      "outputs": []
    },
    {
      "cell_type": "code",
      "source": [
        "okt = Mecab()\n",
        "\n",
        "tagged_corpus_list = []\n",
        "\n",
        "for index, row in tqdm(df.iterrows(), total=len(df)):\n",
        "  text = row['document1']\n",
        "  tag = row['company1']\n",
        "  tagged_corpus_list.append(TaggedDocument(tags=[tag], words=okt.morphs(text)))\n",
        "\n",
        "print('문서의 수 :', len(tagged_corpus_list))"
      ],
      "metadata": {
        "id": "HosRO3pF6amD"
      },
      "execution_count": null,
      "outputs": []
    },
    {
      "cell_type": "code",
      "source": [
        "tagged_corpus_list[0]"
      ],
      "metadata": {
        "id": "i-fmhPlI8vMd"
      },
      "execution_count": null,
      "outputs": []
    },
    {
      "cell_type": "code",
      "source": [
        "from gensim.models import doc2vec"
      ],
      "metadata": {
        "id": "0l4YpzsuBvCu"
      },
      "execution_count": null,
      "outputs": []
    },
    {
      "cell_type": "code",
      "source": [
        "model = doc2vec.Doc2Vec(vector_size=300, alpha=0.025, min_alpha=0.025, workers=8, window=8)\n",
        "\n",
        "# Vocabulary 빌드\n",
        "model.build_vocab(tagged_corpus_list)\n",
        "#print(f\"Tag Size: {len(model.docvecs.doctags.keys())}\", end=' / ')\n",
        "\n",
        "# Doc2Vec 학습\n",
        "model.train(tagged_corpus_list, total_examples=model.corpus_count, epochs=50)\n",
        "\n",
        "# 모델 저장\n",
        "model.save('/content/drive/Shareddrives/텍스트 마이닝 프로젝트/경쟁사 찾기/dart.doc2vec')"
      ],
      "metadata": {
        "id": "NsdVT7Za803a"
      },
      "execution_count": null,
      "outputs": []
    },
    {
      "cell_type": "code",
      "source": [
        "similar_doc = model.docvecs.most_similar('삼성전자 반도체 사업을 하고 있다.')\n",
        "print(similar_doc)"
      ],
      "metadata": {
        "id": "U_3Dp4op9H43"
      },
      "execution_count": null,
      "outputs": []
    },
    {
      "cell_type": "code",
      "source": [
        "model = doc2vec.Doc2Vec(vector_size=3, alpha=0.025, min_alpha=0.025, workers=8, window=8)\n",
        "\n",
        "# Vocabulary 빌드\n",
        "model.build_vocab(tagged_corpus_list)\n",
        "#print(f\"Tag Size: {len(model.docvecs.doctags.keys())}\", end=' / ')\n",
        "\n",
        "# Doc2Vec 학습\n",
        "model.train(tagged_corpus_list, total_examples=model.corpus_count, epochs=50)\n",
        "\n",
        "# 모델 저장\n",
        "model.save('dart.doc2vec')"
      ],
      "metadata": {
        "id": "pHPBI9OPWQQN"
      },
      "execution_count": null,
      "outputs": []
    }
  ]
}