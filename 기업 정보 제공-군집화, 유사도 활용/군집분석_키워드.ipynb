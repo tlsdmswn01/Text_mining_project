{
  "nbformat": 4,
  "nbformat_minor": 0,
  "metadata": {
    "colab": {
      "private_outputs": true,
      "provenance": [],
      "include_colab_link": true
    },
    "kernelspec": {
      "name": "python3",
      "display_name": "Python 3"
    },
    "language_info": {
      "name": "python"
    }
  },
  "cells": [
    {
      "cell_type": "markdown",
      "metadata": {
        "id": "view-in-github",
        "colab_type": "text"
      },
      "source": [
        "<a href=\"https://colab.research.google.com/github/tlsdmswn01/Text_mining_project/blob/main/%EA%B8%B0%EC%97%85%20%EC%A0%95%EB%B3%B4%20%EC%A0%9C%EA%B3%B5-%EA%B5%B0%EC%A7%91%ED%99%94%2C%20%EC%9C%A0%EC%82%AC%EB%8F%84%20%ED%99%9C%EC%9A%A9/%EA%B5%B0%EC%A7%91%EB%B6%84%EC%84%9D_%ED%82%A4%EC%9B%8C%EB%93%9C.ipynb\" target=\"_parent\"><img src=\"https://colab.research.google.com/assets/colab-badge.svg\" alt=\"Open In Colab\"/></a>"
      ]
    },
    {
      "cell_type": "code",
      "execution_count": null,
      "metadata": {
        "id": "gCcK-H8HZpis"
      },
      "outputs": [],
      "source": [
        "!pip install konlpy\n",
        "\n",
        "import pandas as pd\n",
        "from konlpy.tag import Okt\n",
        "from sklearn.feature_extraction.text import TfidfVectorizer\n",
        "\n",
        "df = pd.read_excel('삼성전자_주가_2020_2023.xlsx')\n",
        "df\n",
        "\n",
        "df['일자'] = df['일자'].astype('int')\n",
        "df = df[df['일자'] >= 20230501]\n",
        "\n",
        "df = df[['일자', '언론사', '제목', '본문', '키워드' ,'URL']]\n",
        "\n",
        "# 문서를 명사 집합으로 보고 문서 리스트로 치환 (tfidfVectorizer 인풋 형태를 맞추기 위해)\n",
        "\n",
        "#text = [\"\".join(noun) for noun in df['키워드']]\n",
        "text = ''\n",
        "for word in df['키워드']:\n",
        "    text = text.join(word)\n",
        "\n",
        "tfidf_vectorizer = TfidfVectorizer(min_df = 5, ngram_range=(1,5))\n",
        "tfidf_vectorizer.fit(text)\n",
        "vector = tfidf_vectorizer.transform(text).toarray()\n",
        "vector = np.array(vector) # Normalizer를 이용해 변환된 벡터\n",
        "\n",
        "# DBSCAN Clustering\n",
        "from sklearn.cluster import DBSCAN\n",
        "import numpy as np\n",
        "\n",
        "model = DBSCAN(eps=0.3,min_samples=5, metric = \"cosine\")\n",
        "# 거리 계산 식으로는 Cosine distance를 이용\n",
        "result = model.fit_predict(vector)\n",
        "df['cluster1st'] = result\n"
      ]
    }
  ]
}