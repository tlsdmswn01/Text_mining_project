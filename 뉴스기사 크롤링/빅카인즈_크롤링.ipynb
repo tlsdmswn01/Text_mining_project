{
  "cells": [
    {
      "cell_type": "markdown",
      "metadata": {
        "id": "view-in-github",
        "colab_type": "text"
      },
      "source": [
        "<a href=\"https://colab.research.google.com/github/tlsdmswn01/Text_mining_project/blob/main/%EB%89%B4%EC%8A%A4%EA%B8%B0%EC%82%AC%20%ED%81%AC%EB%A1%A4%EB%A7%81/%EB%B9%85%EC%B9%B4%EC%9D%B8%EC%A6%88_%ED%81%AC%EB%A1%A4%EB%A7%81.ipynb\" target=\"_parent\"><img src=\"https://colab.research.google.com/assets/colab-badge.svg\" alt=\"Open In Colab\"/></a>"
      ]
    },
    {
      "cell_type": "code",
      "execution_count": null,
      "id": "bffe34e8",
      "metadata": {
        "id": "bffe34e8"
      },
      "outputs": [],
      "source": [
        "import time\n",
        "import pyautogui\n",
        "import pyperclip #한글 입력을 하기 위해서\n",
        "import cv2 # 이미지 해상도 조절"
      ]
    },
    {
      "cell_type": "code",
      "execution_count": null,
      "id": "e842caac",
      "metadata": {
        "id": "e842caac",
        "outputId": "302e6c5a-51f8-470d-87ad-7b36a15d274f"
      },
      "outputs": [
        {
          "name": "stdout",
          "output_type": "stream",
          "text": [
            "Point(x=1188, y=301)\n"
          ]
        }
      ],
      "source": [
        "time.sleep(4)\n",
        "print(pyautogui.position()) # 마우스 위치를 알려주는\n",
        "#Point(x=1188, y=301) 창 너비"
      ]
    },
    {
      "cell_type": "code",
      "execution_count": null,
      "id": "307b9ee9",
      "metadata": {
        "id": "307b9ee9"
      },
      "outputs": [],
      "source": [
        "def imgClick(filename,t):\n",
        "    '''\n",
        "    filename에 'test.png'와 같이 이미지 파일을 입력하면 클릭 하고, t초를 대기하는 함수\n",
        "    '''\n",
        "    imgfile= pyautogui.locateOnScreen(filename,confidence=0.9) # 내가 입력한 이미지와 같은 화면을 반환해라\n",
        "    center=pyautogui.center(imgfile) # 중앙값\n",
        "    pyautogui.moveTo(center)# 중간으로마우스로 이동해라\n",
        "    pyautogui.click(center)\n",
        "    time.sleep(t)"
      ]
    },
    {
      "cell_type": "code",
      "execution_count": null,
      "id": "9ddea02e",
      "metadata": {
        "id": "9ddea02e"
      },
      "outputs": [],
      "source": [
        "def scroll(line):\n",
        "    '''\n",
        "    아래로 스크로 : -\n",
        "    위로 스크롤: +\n",
        "    '''\n",
        "    time.sleep(0.5)\n",
        "    pyautogui.scroll(line)\n",
        "    time.sleep(0.5)\n",
        "\n",
        "\n"
      ]
    },
    {
      "cell_type": "code",
      "execution_count": null,
      "id": "65d7a06f",
      "metadata": {
        "id": "65d7a06f"
      },
      "outputs": [],
      "source": [
        "keywords=['카카오 주가','삼성전자 주가']\n",
        "date='2023-01-01'"
      ]
    },
    {
      "cell_type": "code",
      "execution_count": null,
      "id": "d3420018",
      "metadata": {
        "id": "d3420018",
        "outputId": "493e6905-bd7a-49a3-e953-6375b5aaf30f"
      },
      "outputs": [
        {
          "ename": "TypeError",
          "evalue": "'NoneType' object is not subscriptable",
          "output_type": "error",
          "traceback": [
            "\u001b[1;31m---------------------------------------------------------------------------\u001b[0m",
            "\u001b[1;31mTypeError\u001b[0m                                 Traceback (most recent call last)",
            "\u001b[1;32m<ipython-input-79-860fe31ab3a9>\u001b[0m in \u001b[0;36m<module>\u001b[1;34m\u001b[0m\n\u001b[0;32m      4\u001b[0m \u001b[1;33m\u001b[0m\u001b[0m\n\u001b[0;32m      5\u001b[0m     \u001b[1;31m#1. 검색어 창을 입력해서 클릭해라\u001b[0m\u001b[1;33m\u001b[0m\u001b[1;33m\u001b[0m\u001b[1;33m\u001b[0m\u001b[0m\n\u001b[1;32m----> 6\u001b[1;33m     \u001b[0mimgClick\u001b[0m\u001b[1;33m(\u001b[0m\u001b[1;34m'search_bar.png'\u001b[0m\u001b[1;33m,\u001b[0m\u001b[1;36m0.2\u001b[0m\u001b[1;33m)\u001b[0m\u001b[1;33m\u001b[0m\u001b[1;33m\u001b[0m\u001b[0m\n\u001b[0m\u001b[0;32m      7\u001b[0m     \u001b[0mpyautogui\u001b[0m\u001b[1;33m.\u001b[0m\u001b[0mhotkey\u001b[0m\u001b[1;33m(\u001b[0m\u001b[1;34m'ctrl'\u001b[0m\u001b[1;33m,\u001b[0m\u001b[1;34m'a'\u001b[0m\u001b[1;33m)\u001b[0m \u001b[1;31m#hotkey 단축키\u001b[0m\u001b[1;33m\u001b[0m\u001b[1;33m\u001b[0m\u001b[0m\n\u001b[0;32m      8\u001b[0m     \u001b[0mpyautogui\u001b[0m\u001b[1;33m.\u001b[0m\u001b[0mpress\u001b[0m\u001b[1;33m(\u001b[0m\u001b[1;34m'delete'\u001b[0m\u001b[1;33m)\u001b[0m\u001b[1;33m\u001b[0m\u001b[1;33m\u001b[0m\u001b[0m\n",
            "\u001b[1;32m<ipython-input-5-88ad2b9a63b7>\u001b[0m in \u001b[0;36mimgClick\u001b[1;34m(filename, t)\u001b[0m\n\u001b[0;32m      4\u001b[0m     '''\n\u001b[0;32m      5\u001b[0m     \u001b[0mimgfile\u001b[0m\u001b[1;33m=\u001b[0m \u001b[0mpyautogui\u001b[0m\u001b[1;33m.\u001b[0m\u001b[0mlocateOnScreen\u001b[0m\u001b[1;33m(\u001b[0m\u001b[0mfilename\u001b[0m\u001b[1;33m,\u001b[0m\u001b[0mconfidence\u001b[0m\u001b[1;33m=\u001b[0m\u001b[1;36m0.9\u001b[0m\u001b[1;33m)\u001b[0m \u001b[1;31m# 내가 입력한 이미지와 같은 화면을 반환해라\u001b[0m\u001b[1;33m\u001b[0m\u001b[1;33m\u001b[0m\u001b[0m\n\u001b[1;32m----> 6\u001b[1;33m     \u001b[0mcenter\u001b[0m\u001b[1;33m=\u001b[0m\u001b[0mpyautogui\u001b[0m\u001b[1;33m.\u001b[0m\u001b[0mcenter\u001b[0m\u001b[1;33m(\u001b[0m\u001b[0mimgfile\u001b[0m\u001b[1;33m)\u001b[0m \u001b[1;31m# 중앙값\u001b[0m\u001b[1;33m\u001b[0m\u001b[1;33m\u001b[0m\u001b[0m\n\u001b[0m\u001b[0;32m      7\u001b[0m     \u001b[0mpyautogui\u001b[0m\u001b[1;33m.\u001b[0m\u001b[0mmoveTo\u001b[0m\u001b[1;33m(\u001b[0m\u001b[0mcenter\u001b[0m\u001b[1;33m)\u001b[0m\u001b[1;31m# 중간으로마우스로 이동해라\u001b[0m\u001b[1;33m\u001b[0m\u001b[1;33m\u001b[0m\u001b[0m\n\u001b[0;32m      8\u001b[0m     \u001b[0mpyautogui\u001b[0m\u001b[1;33m.\u001b[0m\u001b[0mclick\u001b[0m\u001b[1;33m(\u001b[0m\u001b[0mcenter\u001b[0m\u001b[1;33m)\u001b[0m\u001b[1;33m\u001b[0m\u001b[1;33m\u001b[0m\u001b[0m\n",
            "\u001b[1;32mc:\\users\\신은주\\appdata\\local\\programs\\python\\python39\\lib\\site-packages\\pyscreeze\\__init__.py\u001b[0m in \u001b[0;36mcenter\u001b[1;34m(coords)\u001b[0m\n\u001b[0;32m    647\u001b[0m \u001b[1;33m\u001b[0m\u001b[0m\n\u001b[0;32m    648\u001b[0m     \u001b[1;31m# TODO - one day, add code to handle a Box namedtuple.\u001b[0m\u001b[1;33m\u001b[0m\u001b[1;33m\u001b[0m\u001b[1;33m\u001b[0m\u001b[0m\n\u001b[1;32m--> 649\u001b[1;33m     \u001b[1;32mreturn\u001b[0m \u001b[0mPoint\u001b[0m\u001b[1;33m(\u001b[0m\u001b[0mcoords\u001b[0m\u001b[1;33m[\u001b[0m\u001b[1;36m0\u001b[0m\u001b[1;33m]\u001b[0m \u001b[1;33m+\u001b[0m \u001b[0mint\u001b[0m\u001b[1;33m(\u001b[0m\u001b[0mcoords\u001b[0m\u001b[1;33m[\u001b[0m\u001b[1;36m2\u001b[0m\u001b[1;33m]\u001b[0m \u001b[1;33m/\u001b[0m \u001b[1;36m2\u001b[0m\u001b[1;33m)\u001b[0m\u001b[1;33m,\u001b[0m \u001b[0mcoords\u001b[0m\u001b[1;33m[\u001b[0m\u001b[1;36m1\u001b[0m\u001b[1;33m]\u001b[0m \u001b[1;33m+\u001b[0m \u001b[0mint\u001b[0m\u001b[1;33m(\u001b[0m\u001b[0mcoords\u001b[0m\u001b[1;33m[\u001b[0m\u001b[1;36m3\u001b[0m\u001b[1;33m]\u001b[0m \u001b[1;33m/\u001b[0m \u001b[1;36m2\u001b[0m\u001b[1;33m)\u001b[0m\u001b[1;33m)\u001b[0m\u001b[1;33m\u001b[0m\u001b[1;33m\u001b[0m\u001b[0m\n\u001b[0m\u001b[0;32m    650\u001b[0m \u001b[1;33m\u001b[0m\u001b[0m\n\u001b[0;32m    651\u001b[0m \u001b[1;33m\u001b[0m\u001b[0m\n",
            "\u001b[1;31mTypeError\u001b[0m: 'NoneType' object is not subscriptable"
          ]
        }
      ],
      "source": [
        "time.sleep(1)\n",
        "\n",
        "for keyword in keywords:\n",
        "\n",
        "    #1. 검색어 창을 입력해서 클릭해라\n",
        "    imgClick('search_bar.png',0.2)\n",
        "    pyautogui.hotkey('ctrl','a') #hotkey 단축키\n",
        "    pyautogui.press('delete')\n",
        "    pyperclip.copy(keyword)\n",
        "    pyautogui.hotkey('ctrl','v')\n",
        "    pyautogui.hotkey()\n",
        "\n",
        "    pyautogui.moveTo(1110, 400)\n",
        "    pyautogui.click()\n",
        "    time.sleep(1)\n",
        "\n",
        "    #1. 기간 설정 입력해서 클릭해라\n",
        "    pyautogui.moveTo(438, 730)\n",
        "    pyautogui.click()\n",
        "\n",
        "    pyautogui.hotkey('ctrl','a') #hotkey 단축키\n",
        "    pyautogui.press('delete')\n",
        "    pyperclip.copy(date)\n",
        "    pyautogui.hotkey('ctrl','v')\n",
        "    pyautogui.hotkey()\n",
        "\n",
        "    scroll(-100)\n",
        "    pyautogui.moveTo(989, 790)\n",
        "    pyautogui.click()\n",
        "\n",
        "    #2. 스크롤을 내려서 검색 버튼 클릭\n",
        "    for i in range(1,5):\n",
        "        scroll(-600)\n",
        "    scroll(40)\n",
        "    pyautogui.moveTo(577, 228)\n",
        "    pyautogui.click()\n",
        "    scroll(-10000)\n",
        "    scroll(20)\n",
        "    pyautogui.click(x=1100, y=230,interval=0.5)\n",
        "    pyautogui.click(x=711, y=238,interval=0.5)\n"
      ]
    }
  ],
  "metadata": {
    "kernelspec": {
      "display_name": "Python 3",
      "language": "python",
      "name": "python3"
    },
    "language_info": {
      "codemirror_mode": {
        "name": "ipython",
        "version": 3
      },
      "file_extension": ".py",
      "mimetype": "text/x-python",
      "name": "python",
      "nbconvert_exporter": "python",
      "pygments_lexer": "ipython3",
      "version": "3.9.6"
    },
    "colab": {
      "provenance": [],
      "include_colab_link": true
    }
  },
  "nbformat": 4,
  "nbformat_minor": 5
}