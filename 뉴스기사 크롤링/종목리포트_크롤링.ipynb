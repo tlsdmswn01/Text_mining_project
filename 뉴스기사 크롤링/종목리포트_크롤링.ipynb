{
  "nbformat": 4,
  "nbformat_minor": 0,
  "metadata": {
    "colab": {
      "private_outputs": true,
      "provenance": [],
      "include_colab_link": true
    },
    "kernelspec": {
      "name": "python3",
      "display_name": "Python 3"
    },
    "language_info": {
      "name": "python"
    }
  },
  "cells": [
    {
      "cell_type": "markdown",
      "metadata": {
        "id": "view-in-github",
        "colab_type": "text"
      },
      "source": [
        "<a href=\"https://colab.research.google.com/github/tlsdmswn01/Text_mining_project/blob/main/%EB%89%B4%EC%8A%A4%EA%B8%B0%EC%82%AC%20%ED%81%AC%EB%A1%A4%EB%A7%81/%EC%A2%85%EB%AA%A9%EB%A6%AC%ED%8F%AC%ED%8A%B8_%ED%81%AC%EB%A1%A4%EB%A7%81.ipynb\" target=\"_parent\"><img src=\"https://colab.research.google.com/assets/colab-badge.svg\" alt=\"Open In Colab\"/></a>"
      ]
    },
    {
      "cell_type": "code",
      "execution_count": null,
      "metadata": {
        "id": "hHajQpLyeLBY"
      },
      "outputs": [],
      "source": [
        "# 종목리포트 크롤링\n",
        "\n",
        "import re\n",
        "import requests\n",
        "from bs4 import BeautifulSoup\n",
        "import pandas as pd\n",
        "from datetime import datetime\n",
        "\n",
        "text_list = []\n",
        "result = []\n",
        "\n",
        "for i in range(1,2):\n",
        "    url = 'http://www.paxnet.co.kr/stock/report/report?menuCode=2222&currentPageNo={}&reportId=0&searchKey=stock&searchValue=삼성전자'.format(i)\n",
        "\n",
        "    res = requests.get(url)\n",
        "\n",
        "    html = BeautifulSoup(res.text, 'html.parser')\n",
        "    html = html.find('ul', class_='board-list pnesec100 pnesec')\n",
        "\n",
        "    for j in range(1, 31):\n",
        "        for k in range(6):\n",
        "            text = html.find_all('li')[j].find_all('div')[k].text\n",
        "            text_list.append(re.sub(r'\\n|\\t|\\r', '',text))\n",
        "\n",
        "    for i in range(0, len(text_list), 6):\n",
        "        result.append(text_list[i:i+6])\n",
        "\n",
        "columns = ['종목', '평가', '적정가격', '투자의견', '증권사', '날짜']\n",
        "df = pd.DataFrame(result, columns=columns)\n",
        "\n",
        "df['종목'] = df['종목'].apply(lambda x: x.replace('[', '').replace(']', ''))\n",
        "df['적정가격'] = df['적정가격'].apply(lambda x: x.replace('적정가격', '').replace('원', '').replace(\" \", ''))\n",
        "df['날짜'] = pd.to_datetime(df['날짜'])\n",
        "df = df[df['날짜'] >= '2023-01-01']\n",
        "price_df = df[df['투자의견'] != '-']\n",
        "price_df['적정가격'] = price_df['적정가격'].astype('int')"
      ]
    },
    {
      "cell_type": "code",
      "source": [
        "df"
      ],
      "metadata": {
        "id": "A5OA01S6Y1Lz"
      },
      "execution_count": null,
      "outputs": []
    },
    {
      "cell_type": "markdown",
      "source": [
        "### 적정 가격 시각화"
      ],
      "metadata": {
        "id": "IFqdT4_qj2X_"
      }
    },
    {
      "cell_type": "code",
      "source": [
        "# 폰트 설정\n",
        "!sudo apt-get install -y fonts-nanum\n",
        "!sudo fc-cache -fv\n",
        "!rm ~/.cache/matplotlib -rf\n",
        "\n",
        "import matplotlib.pyplot as plt"
      ],
      "metadata": {
        "id": "s1NjydfQj7pU"
      },
      "execution_count": null,
      "outputs": []
    },
    {
      "cell_type": "code",
      "source": [
        "# 그래프 그리기\n",
        "plt.rc('font', family='NanumBarunGothic')\n",
        "plt.figure(figsize=(10, 6))\n",
        "plt.plot(price_df['날짜'], price_df['적정가격'], marker='o', linestyle='--')\n",
        "plt.title('날짜별 적정가격 그래프', fontsize=16)\n",
        "plt.xticks(price_df['날짜'], [f'{date.strftime(\"%Y-%m-%d\")} ({broker})' for date, broker in zip(price_df['날짜'], price_df['증권사'])], rotation=45)\n",
        "plt.tight_layout()\n",
        "plt.show()"
      ],
      "metadata": {
        "id": "2MrcUjioehME"
      },
      "execution_count": null,
      "outputs": []
    }
  ]
}