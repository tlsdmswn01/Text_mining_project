{
  "nbformat": 4,
  "nbformat_minor": 0,
  "metadata": {
    "colab": {
      "private_outputs": true,
      "provenance": [],
      "authorship_tag": "ABX9TyPwIs2luwLk37TFOR9y/v8s",
      "include_colab_link": true
    },
    "kernelspec": {
      "name": "python3",
      "display_name": "Python 3"
    },
    "language_info": {
      "name": "python"
    }
  },
  "cells": [
    {
      "cell_type": "markdown",
      "metadata": {
        "id": "view-in-github",
        "colab_type": "text"
      },
      "source": [
        "<a href=\"https://colab.research.google.com/github/tlsdmswn01/Text_mining_project/blob/main/%EA%B0%90%EC%84%B1%EB%B6%84%EC%84%9D/%EA%B0%90%EC%84%B1%EB%B6%84%EC%84%9D.ipynb\" target=\"_parent\"><img src=\"https://colab.research.google.com/assets/colab-badge.svg\" alt=\"Open In Colab\"/></a>"
      ]
    },
    {
      "cell_type": "code",
      "execution_count": null,
      "metadata": {
        "id": "_vtrYGzOe7xb"
      },
      "outputs": [],
      "source": [
        "from google.colab import drive\n",
        "drive.mount('/content/drive')"
      ]
    },
    {
      "cell_type": "code",
      "source": [
        "cd/content/drive/Shareddrives/텍스트 마이닝 프로젝트/웹 크롤링 코드 및 데이터"
      ],
      "metadata": {
        "id": "6TkeJoNrljXa"
      },
      "execution_count": null,
      "outputs": []
    },
    {
      "cell_type": "code",
      "source": [
        "import pandas as pd\n",
        "data=pd.read_excel('삼성전자_주가_2020_2023.xlsx')"
      ],
      "metadata": {
        "id": "7El5mpsjjcTf"
      },
      "execution_count": null,
      "outputs": []
    },
    {
      "cell_type": "code",
      "source": [
        "data.columns"
      ],
      "metadata": {
        "id": "NeaP5uUXCTc1"
      },
      "execution_count": null,
      "outputs": []
    },
    {
      "cell_type": "code",
      "source": [
        "df=data.loc[:200,['뉴스 식별자','제목','키워드','본문']]\n",
        "df.to_excel('감성분석 라벨링{}.xlsx'.format(200))\n",
        "df=data.loc[201:400,['뉴스 식별자','키워드','제목','본문']]\n",
        "df.to_excel('감성분석 라벨링{}.xlsx'.format(400))\n",
        "df=data.loc[401:600,['뉴스 식별자','키워드','제목','본문']]\n",
        "df.to_excel('감성분석 라벨링{}.xlsx'.format(600))\n",
        "df=data.loc[601:800,['뉴스 식별자','키워드','제목','본문']]\n",
        "df.to_excel('감성분석 라벨링{}.xlsx'.format(800))\n",
        "df=data.loc[801:1000,['뉴스 식별자','키워드','제목','본문']]\n",
        "df.to_excel('감성분석 라벨링{}.xlsx'.format(1000))\n"
      ],
      "metadata": {
        "id": "NmBfzieKSgC6"
      },
      "execution_count": null,
      "outputs": []
    },
    {
      "cell_type": "code",
      "source": [
        "# KNU 한국어 감성사전\n",
        "import json\n",
        "import pandas as pd\n",
        "\n",
        "with open('/content/SentiWord_info.json', encoding='utf-8-sig', mode='r') as f:\n",
        "  SentiWord_info = json.load(f)\n",
        "\n",
        "sentiword_dic = pd.DataFrame(SentiWord_info)"
      ],
      "metadata": {
        "id": "pokv8_UlqUw6"
      },
      "execution_count": null,
      "outputs": []
    },
    {
      "cell_type": "markdown",
      "source": [
        "## 키워드 벡터화"
      ],
      "metadata": {
        "id": "OAKyiW3oT0BM"
      }
    },
    {
      "cell_type": "code",
      "source": [],
      "metadata": {
        "id": "2KPujwNkT-El"
      },
      "execution_count": null,
      "outputs": []
    }
  ]
}