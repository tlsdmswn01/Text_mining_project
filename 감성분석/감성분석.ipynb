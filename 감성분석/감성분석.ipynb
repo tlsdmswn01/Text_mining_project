{
  "nbformat": 4,
  "nbformat_minor": 0,
  "metadata": {
    "colab": {
      "private_outputs": true,
      "provenance": [],
      "collapsed_sections": [
        "wJ1q8MsXKyYg"
      ],
      "include_colab_link": true
    },
    "kernelspec": {
      "name": "python3",
      "display_name": "Python 3"
    },
    "language_info": {
      "name": "python"
    }
  },
  "cells": [
    {
      "cell_type": "markdown",
      "metadata": {
        "id": "view-in-github",
        "colab_type": "text"
      },
      "source": [
        "<a href=\"https://colab.research.google.com/github/tlsdmswn01/Text_mining_project/blob/main/%EA%B0%90%EC%84%B1%EB%B6%84%EC%84%9D/%EA%B0%90%EC%84%B1%EB%B6%84%EC%84%9D.ipynb\" target=\"_parent\"><img src=\"https://colab.research.google.com/assets/colab-badge.svg\" alt=\"Open In Colab\"/></a>"
      ]
    },
    {
      "cell_type": "code",
      "execution_count": null,
      "metadata": {
        "id": "_vtrYGzOe7xb"
      },
      "outputs": [],
      "source": [
        "from google.colab import drive\n",
        "drive.mount('/content/drive')"
      ]
    },
    {
      "cell_type": "code",
      "source": [
        "import pandas as pd\n",
        "import numpy as np\n",
        "import matplotlib.pyplot as plt\n"
      ],
      "metadata": {
        "id": "-3qEMx-7OY3U"
      },
      "execution_count": null,
      "outputs": []
    },
    {
      "cell_type": "code",
      "source": [
        "cd/content/drive/Shareddrives/텍스트 마이닝 프로젝트/감성분석"
      ],
      "metadata": {
        "id": "6TkeJoNrljXa"
      },
      "execution_count": null,
      "outputs": []
    },
    {
      "cell_type": "markdown",
      "source": [
        "## 데이터 합치기"
      ],
      "metadata": {
        "id": "KmaboKGhKtwy"
      }
    },
    {
      "cell_type": "code",
      "source": [
        "df1=pd.read_excel('/content/drive/Shareddrives/텍스트 마이닝 프로젝트/감성분석/감성분석 라벨링1000.xlsx')\n",
        "df2=pd.read_excel('/content/drive/Shareddrives/텍스트 마이닝 프로젝트/감성분석/감성분석 라벨링_title1000 (2).xlsx')\n",
        "df3=pd.read_excel('/content/drive/Shareddrives/텍스트 마이닝 프로젝트/감성분석/감성분석 라벨링_title800 (2).xlsx')\n",
        "df4=pd.read_excel('/content/drive/Shareddrives/텍스트 마이닝 프로젝트/감성분석/감성분석 라벨링600.xlsx')\n",
        "df5=pd.read_excel('/content/drive/Shareddrives/텍스트 마이닝 프로젝트/감성분석/감성분석 라벨링800.xlsx')\n",
        "df6=pd.read_excel('/content/drive/Shareddrives/텍스트 마이닝 프로젝트/감성분석/감성분석 라벨링_title400.xlsx')\n",
        "df7=pd.read_excel('/content/drive/Shareddrives/텍스트 마이닝 프로젝트/감성분석/감성분석 라벨링_title600.xlsx')\n",
        "df8=pd.read_excel('/content/drive/Shareddrives/텍스트 마이닝 프로젝트/감성분석/감성분석 라벨링_미완성800.xlsx')\n",
        "df9=pd.read_excel('/content/drive/Shareddrives/텍스트 마이닝 프로젝트/감성분석/감성분석 라벨링_미완성600.xlsx')\n",
        "df10=pd.read_excel('/content/drive/Shareddrives/텍스트 마이닝 프로젝트/감성분석/감성분석 라벨링_미완성1000.xlsx')\n",
        "df11=pd.read_excel('/content/drive/Shareddrives/텍스트 마이닝 프로젝트/감성분석/감성분석 라벨링_미완성400.xlsx')\n",
        "df12=pd.read_excel('/content/drive/Shareddrives/텍스트 마이닝 프로젝트/감성분석/감성분석 라벨링_미완성200.xlsx')\n",
        "df13=pd.read_excel('/content/drive/Shareddrives/텍스트 마이닝 프로젝트/감성분석/감성분석 라벨링 마지막.xlsx')\n",
        "\n",
        "\n",
        "\n",
        "\n"
      ],
      "metadata": {
        "id": "x4v5ElPbOX5I"
      },
      "execution_count": null,
      "outputs": []
    },
    {
      "cell_type": "code",
      "source": [
        "df_list=[df1,df2,df3,df4,df5,df6,df7,df8,df9,df10,df11,df12,df13]\n",
        "analyze_df=pd.concat(df_list,ignore_index=True)"
      ],
      "metadata": {
        "id": "wLuDcS6bPJ9t"
      },
      "execution_count": null,
      "outputs": []
    },
    {
      "cell_type": "code",
      "source": [
        "analyze_df.info()"
      ],
      "metadata": {
        "id": "fXl5uc62R5gN"
      },
      "execution_count": null,
      "outputs": []
    },
    {
      "cell_type": "code",
      "source": [
        "analyze_df.dropna(inplace=True)"
      ],
      "metadata": {
        "id": "2OkVajtKtGFK"
      },
      "execution_count": null,
      "outputs": []
    },
    {
      "cell_type": "code",
      "source": [
        "analyze_df['감성라벨'].value_counts()\n",
        "#analyze_df['감성라벨'].unique()"
      ],
      "metadata": {
        "id": "buIePpK3s7ac"
      },
      "execution_count": null,
      "outputs": []
    },
    {
      "cell_type": "code",
      "source": [
        "\n",
        "fig=plt.figure(figsize=(6,6))\n",
        "ax1=fig.add_subplot(1,1,1)\n",
        "\n",
        "\n",
        "ax1.pie(x=list(analyze_df['감성라벨'].value_counts()),labels=list(analyze_df['감성라벨'].unique()),autopct='%.2f%%')\n",
        "\n",
        "ax1.set_title('analyze_df_dist')\n",
        "\n",
        "fig.suptitle('Lable_data')\n",
        "\n",
        "fig.tight_layout()"
      ],
      "metadata": {
        "id": "TJzz31dXfdZr"
      },
      "execution_count": null,
      "outputs": []
    },
    {
      "cell_type": "markdown",
      "source": [
        "## 데이터 전처리"
      ],
      "metadata": {
        "id": "wJ1q8MsXKyYg"
      }
    },
    {
      "cell_type": "code",
      "source": [
        "analyze_df['감성라벨'].value_counts()"
      ],
      "metadata": {
        "id": "9BErrBTfLwHo"
      },
      "execution_count": null,
      "outputs": []
    },
    {
      "cell_type": "code",
      "source": [
        "analyze_df=analyze_df[analyze_df['감성라벨']!='-']"
      ],
      "metadata": {
        "id": "Kb-uQzNTNlFi"
      },
      "execution_count": null,
      "outputs": []
    },
    {
      "cell_type": "code",
      "source": [
        "analyze_df=analyze_df.dropna()"
      ],
      "metadata": {
        "id": "FLdI45R5a3n7"
      },
      "execution_count": null,
      "outputs": []
    },
    {
      "cell_type": "code",
      "source": [
        "analyze_df['감성라벨']=analyze_df['감성라벨'].astype('int')"
      ],
      "metadata": {
        "id": "pnKWs5G3LoJX"
      },
      "execution_count": null,
      "outputs": []
    },
    {
      "cell_type": "code",
      "source": [
        "analyze_df.info()"
      ],
      "metadata": {
        "id": "WJt5Oq6uQcL5"
      },
      "execution_count": null,
      "outputs": []
    },
    {
      "cell_type": "code",
      "source": [
        "# 불용어 제거 - 한글과 공백 이외에 다른 글자들 제거(영어 제거하기)\n",
        "analyze_df['제목'] = analyze_df['제목'].str.replace(\"[^ㄱ-ㅎㅏ-ㅣ가-힣!+?+❤️+ ]\",\"\")\n",
        "print(analyze_df.isnull().sum())"
      ],
      "metadata": {
        "id": "LbnVu49_0kjv"
      },
      "execution_count": null,
      "outputs": []
    },
    {
      "cell_type": "markdown",
      "source": [
        "## 테스트 데이터 바꿔보기  \n",
        "- 1. SVM 2.LG"
      ],
      "metadata": {
        "id": "9BeSlviocbts"
      }
    },
    {
      "cell_type": "code",
      "source": [
        "from sklearn.model_selection import train_test_split\n",
        "x_train, x_test, y_train, y_test = train_test_split(analyze_df['키워드'], analyze_df['감성라벨'] , test_size=0.2,random_state=112)\n"
      ],
      "metadata": {
        "id": "w_PIi6GDHh2P"
      },
      "execution_count": null,
      "outputs": []
    },
    {
      "cell_type": "markdown",
      "source": [
        "## 토큰화, 벡터화"
      ],
      "metadata": {
        "id": "64tDwlEKcywY"
      }
    },
    {
      "cell_type": "code",
      "source": [
        "!pip install konlpy"
      ],
      "metadata": {
        "id": "m-yf3xGIS8Me"
      },
      "execution_count": null,
      "outputs": []
    },
    {
      "cell_type": "code",
      "source": [
        "from konlpy.tag import Okt # komoran, hannanum, kkma, mecab\n",
        "from konlpy.tag import Kkma # komoran, hannanum, kkma, mecab\n",
        "\n",
        "import re\n",
        "import nltk\n",
        "from nltk.stem import WordNetLemmatizer\n",
        "# 불용어 사전 다운로드\n",
        "stop_words=pd.read_csv('/content/drive/Shareddrives/텍스트 마이닝 프로젝트/웹 크롤링 코드 및 데이터/stopwords.txt',sep='\\t')"
      ],
      "metadata": {
        "id": "tkNK3YTC0t0K"
      },
      "execution_count": null,
      "outputs": []
    },
    {
      "cell_type": "code",
      "source": [
        "# 토큰화\n",
        "nltk.download('wordnet') #Lemmatization - 표제어 추출(통일화)\n",
        "wl = WordNetLemmatizer()\n",
        "okt=Okt()\n",
        "def tokenizer(s):\n",
        "    tk=okt.morphs(s)\n",
        "    word_list=[]\n",
        "    for word in tk:\n",
        "        if word not in stop_words and len(word)!=1:\n",
        "            word_list.append(wl.lemmatize(word))\n",
        "\n",
        "    return word_list\n"
      ],
      "metadata": {
        "id": "7ONsDjTkLV-a"
      },
      "execution_count": null,
      "outputs": []
    },
    {
      "cell_type": "code",
      "source": [
        "#벡터화\n",
        "from sklearn.feature_extraction.text import TfidfVectorizer\n",
        "tfidf = TfidfVectorizer(tokenizer=tokenizer,lowercase=False)\n",
        "X_train=tfidf.fit_transform(x_train)\n"
      ],
      "metadata": {
        "id": "iPadKp6qQkmk"
      },
      "execution_count": null,
      "outputs": []
    },
    {
      "cell_type": "code",
      "source": [
        "tfidf.inverse_transform(X_train[0].toarray())"
      ],
      "metadata": {
        "id": "pAlY3bMfJdgi"
      },
      "execution_count": null,
      "outputs": []
    },
    {
      "cell_type": "code",
      "source": [
        "X_test=tfidf.transform(x_test)"
      ],
      "metadata": {
        "id": "Cay8ex5HTbNP"
      },
      "execution_count": null,
      "outputs": []
    },
    {
      "cell_type": "code",
      "source": [
        "tfidf.inverse_transform(X_test[0].toarray())"
      ],
      "metadata": {
        "id": "N3Ro-q5VKZQI"
      },
      "execution_count": null,
      "outputs": []
    },
    {
      "cell_type": "markdown",
      "source": [
        "## 모델"
      ],
      "metadata": {
        "id": "D7BbdsT3JAIS"
      }
    },
    {
      "cell_type": "code",
      "source": [
        "!pip install catboost"
      ],
      "metadata": {
        "id": "etuUnwh5tdDw"
      },
      "execution_count": null,
      "outputs": []
    },
    {
      "cell_type": "code",
      "source": [
        "from sklearn.metrics import accuracy_score, precision_score, recall_score, confusion_matrix\n",
        "from sklearn.model_selection import GridSearchCV\n",
        "from sklearn.linear_model import LogisticRegression\n",
        "from sklearn.ensemble import RandomForestClassifier\n",
        "from xgboost import XGBClassifier\n",
        "from lightgbm import LGBMClassifier\n",
        "from catboost import CatBoostClassifier\n",
        "from sklearn.ensemble import VotingClassifier"
      ],
      "metadata": {
        "id": "qmouEoY8KnRo"
      },
      "execution_count": null,
      "outputs": []
    },
    {
      "cell_type": "markdown",
      "source": [
        "### 로지스틱"
      ],
      "metadata": {
        "id": "zOga5YjdS5Ar"
      }
    },
    {
      "cell_type": "code",
      "source": [
        "from sklearn.linear_model import LogisticRegression\n",
        "log_reg = LogisticRegression(random_state=1004)\n",
        "params = {'C': [15, 18, 19, 20, 22]}\n",
        "grid_cv = GridSearchCV(log_reg, param_grid=params, cv=3, scoring='accuracy', verbose=1)\n",
        "grid_cv.fit(X_train, y_train)\n",
        "print(grid_cv.best_params_)"
      ],
      "metadata": {
        "id": "Xw80QaCmSWzr"
      },
      "execution_count": null,
      "outputs": []
    },
    {
      "cell_type": "code",
      "source": [
        "log_reg = LogisticRegression(C=19,random_state=1004)\n",
        "log_reg.fit(X_train,y_train)"
      ],
      "metadata": {
        "id": "Gi0MyyZVSaD1"
      },
      "execution_count": null,
      "outputs": []
    },
    {
      "cell_type": "code",
      "source": [
        "print(log_reg.score(X_train, y_train)) # overfiting을 보려고 확인 -> train데이터서는 점수가 너무 좋은데 test 데이터에서는 성능이 좋지 않으면 overfiting발생\n",
        "print(log_reg.score(X_test, y_test))"
      ],
      "metadata": {
        "id": "8IOrdPRMSe56"
      },
      "execution_count": null,
      "outputs": []
    },
    {
      "cell_type": "markdown",
      "source": [
        "### 랜덤포레스트"
      ],
      "metadata": {
        "id": "eh_Oa8MDeq1q"
      }
    },
    {
      "cell_type": "code",
      "source": [
        "from sklearn.model_selection import KFold"
      ],
      "metadata": {
        "id": "XTGGfpv9slR6"
      },
      "execution_count": null,
      "outputs": []
    },
    {
      "cell_type": "code",
      "source": [
        "folds = KFold(n_splits = 3, shuffle = True, random_state = 100)"
      ],
      "metadata": {
        "id": "cZTl5o7zskH6"
      },
      "execution_count": null,
      "outputs": []
    },
    {
      "cell_type": "code",
      "source": [
        "model=RandomForestClassifier()\n",
        "\n",
        "#최적화할 파라미터 범위\n",
        "rf_param = {'n_estimators': [100, 200],\n",
        "             'max_depth': [20, 25],\n",
        "             'min_samples_leaf' : [1, 2],\n",
        "             'min_samples_split' : [2, 4]\n",
        "             }\n",
        "\n",
        "grid_rf = GridSearchCV(model, param_grid=rf_param, scoring = 'accuracy', cv=folds, n_jobs=-1)\n",
        "grid_rf.fit(X_train, y_train)\n",
        "print(grid_rf.best_params_)"
      ],
      "metadata": {
        "id": "se_rMBM5XthY"
      },
      "execution_count": null,
      "outputs": []
    },
    {
      "cell_type": "code",
      "source": [
        "RF = RandomForestClassifier(n_estimators=100,max_depth=25,min_samples_leaf=1,min_samples_split=2,random_state=1004)\n",
        "RF.fit(X_train,y_train)"
      ],
      "metadata": {
        "id": "3fvAqW6Ss-jI"
      },
      "execution_count": null,
      "outputs": []
    },
    {
      "cell_type": "code",
      "source": [
        "print(RF.score(X_train, y_train)) # overfiting을 보려고 확인 -> train데이터서는 점수가 너무 좋은데 test 데이터에서는 성능이 좋지 않으면 overfiting발생\n",
        "print(RF.score(X_test, y_test))"
      ],
      "metadata": {
        "id": "7w8fzG2xtYAM"
      },
      "execution_count": null,
      "outputs": []
    },
    {
      "cell_type": "markdown",
      "source": [
        "### XGBoost"
      ],
      "metadata": {
        "id": "Hco85C6Ueuty"
      }
    },
    {
      "cell_type": "code",
      "source": [
        "model=XGBClassifier()\n",
        "\n",
        "#최적화할 파라미터 범위\n",
        "xg_param = {'learning_rate': [0.05, 0.1, 0.2],\n",
        "             'n_estimator': [25, 50, 100],\n",
        "             'max_depth': [6, 8, 10]\n",
        "             }\n",
        "\n",
        "grid_xg = GridSearchCV(model, param_grid=xg_param, scoring = 'accuracy', cv=folds, n_jobs=-1)\n",
        "grid_xg.fit(X_train, y_train)\n",
        "print(grid_xg.best_params_)"
      ],
      "metadata": {
        "id": "Qype8PYgt_sy"
      },
      "execution_count": null,
      "outputs": []
    },
    {
      "cell_type": "code",
      "source": [
        "XG = XGBClassifier(learning_rate=0.05,n_estimator=25,max_depth=8,random_state=1004)\n",
        "XG.fit(X_train,y_train)"
      ],
      "metadata": {
        "id": "JlqXrM4mvSm9"
      },
      "execution_count": null,
      "outputs": []
    },
    {
      "cell_type": "code",
      "source": [
        "print(XG.score(X_train, y_train)) # oveXGiting을 보려고 확인 -> train데이터서는 점수가 너무 좋은데 test 데이터에서는 성능이 좋지 않으면 oveXGiting발생\n",
        "print(XG.score(X_test, y_test))"
      ],
      "metadata": {
        "id": "mKt2A46JTUUv"
      },
      "execution_count": null,
      "outputs": []
    },
    {
      "cell_type": "markdown",
      "source": [
        "### SVM"
      ],
      "metadata": {
        "id": "G_8h3pU90TYM"
      }
    },
    {
      "cell_type": "code",
      "source": [
        "from sklearn.svm import SVC\n",
        "linear_svm = SVC(kernel = 'linear', C = 1).fit(X_train, y_train)"
      ],
      "metadata": {
        "id": "UCGcX4gd0Uvk"
      },
      "execution_count": null,
      "outputs": []
    },
    {
      "cell_type": "code",
      "source": [
        "params={'C':[0.0001, 0.001, 0.01, 0.1, 1, 2,3,4,5,6]}"
      ],
      "metadata": {
        "id": "FVBH8KtXbQ9l"
      },
      "execution_count": null,
      "outputs": []
    },
    {
      "cell_type": "code",
      "source": [
        "grid_svm_linear = GridSearchCV(linear_svm, param_grid=params, scoring = 'accuracy', cv=folds, n_jobs=-1)\n",
        "grid_svm_linear.fit(X_train, y_train)\n",
        "print(grid_svm_linear.best_params_)"
      ],
      "metadata": {
        "id": "DyaL7R8dbKxG"
      },
      "execution_count": null,
      "outputs": []
    },
    {
      "cell_type": "code",
      "source": [
        "C_list = [0.0001, 0.001, 0.01, 0.1, 1, 2,3,4,5,6]\n",
        "\n",
        "# C값이 커질 수록 마진이 작아진다.\n",
        "# C값을 변경해 가면서 각 모델들의 score를 확인하고자 한다.\n",
        "# 한 번에 확인하기 위해서 C값을 리스트로 저장하고 for문을 이용하여 score를 구했다.\n",
        "\n",
        "train_score = []\n",
        "test_score = []\n",
        "fig, axes = plt.subplots(nrows=4, ncols=1, figsize=(15, 16))\n",
        "\n",
        "for C in C_list:\n",
        "    linear_svm = SVC(kernel ='linear', C = C).fit(X_train, y_train)\n",
        "    score_tr = linear_svm.score(X_train, y_train)\n",
        "    score_te = linear_svm.score(X_test, y_test)\n",
        "    train_score.append(score_tr)\n",
        "    test_score.append(score_te)\n",
        "\n",
        "    plt.figure(figsize=(10,5))\n",
        "    plt.plot(train_score, 'go-')\n",
        "    plt.plot(test_score, 'mo:')\n",
        "    plt.xticks(range(len(C_list)),C_list)\n",
        "    plt.xlabel('C')\n",
        "    plt.ylabel('Accuracy')\n",
        "    plt.legend(['train', 'test'])\n",
        "    plt.show()\n"
      ],
      "metadata": {
        "id": "rk0w4HLnEJNO"
      },
      "execution_count": null,
      "outputs": []
    },
    {
      "cell_type": "code",
      "source": [
        "linear_svm = SVC(kernel = 'linear', C =1,probability=True).fit(X_train, y_train)\n",
        "print(linear_svm.score(X_train, y_train)) # ovefitting을 보려고 확인 -> train데이터서는 점수가 너무 좋은데 test 데이터에서는 성능이 좋지 않으면 ovelinear_svmiting발생\n",
        "print(linear_svm.score(X_test, y_test))"
      ],
      "metadata": {
        "id": "kEbu18dT1Gdb"
      },
      "execution_count": null,
      "outputs": []
    },
    {
      "cell_type": "code",
      "source": [
        "train_score = []\n",
        "test_score = []\n",
        "\n",
        "for C in C_list:\n",
        "    linear_svm = SVC(kernel ='sigmoid', C = C).fit(X_train, y_train)\n",
        "    score_tr = linear_svm.score(X_train, y_train)\n",
        "    score_te = linear_svm.score(X_test, y_test)\n",
        "    train_score.append(score_tr)\n",
        "    test_score.append(score_te)\n",
        "\n",
        "    plt.figure(figsize=(10,5))\n",
        "    plt.plot(train_score, 'go-')\n",
        "    plt.plot(test_score, 'mo:')\n",
        "    plt.xticks(range(len(C_list)),C_list)\n",
        "    plt.xlabel('C')\n",
        "    plt.ylabel('Accuracy')\n",
        "    plt.legend(['train', 'test'])\n",
        "    plt.show()"
      ],
      "metadata": {
        "id": "DAHaAHPV3H1N"
      },
      "execution_count": null,
      "outputs": []
    },
    {
      "cell_type": "code",
      "source": [
        "sigmoid_svm = SVC(kernel = 'sigmoid', C =1,probability=True).fit(X_train, y_train)\n",
        "print(sigmoid_svm.score(X_train, y_train))\n",
        "print(sigmoid_svm.score(X_test, y_test))"
      ],
      "metadata": {
        "id": "vLZSSYYW2hXE"
      },
      "execution_count": null,
      "outputs": []
    },
    {
      "cell_type": "markdown",
      "source": [
        "## 모델 평가"
      ],
      "metadata": {
        "id": "aRhuwmLZhSEi"
      }
    },
    {
      "cell_type": "markdown",
      "source": [
        "### ROC_curve 그래프 그리기"
      ],
      "metadata": {
        "id": "47ed0f55usYu"
      }
    },
    {
      "cell_type": "markdown",
      "source": [
        "### AUC 면적 구하기\n",
        "AUC는 ROC 커브 아래의 면적을 의미하는데, 0 ~ 1 사이의 값을 가지고,\n",
        "\n",
        "1에 가까울수록 모델 분류 성능이 좋음을 의미"
      ],
      "metadata": {
        "id": "hYsMdnHKul3K"
      }
    },
    {
      "cell_type": "code",
      "source": [
        "from sklearn.metrics import roc_curve\n",
        "from sklearn.metrics import roc_auc_score\n",
        "score1 = log_reg.predict_proba(X_test)[:, 1]\n",
        "score2 = RF.predict_proba(X_test)[:, 1]\n",
        "score3 = XG.predict_proba(X_test)[:, 1]\n",
        "score5 = linear_svm.decision_function(X_test)\n",
        "score6 = sigmoid_svm.decision_function(X_test)\n",
        "\n",
        "\n",
        "fpr1, tpr1, _ = roc_curve(y_test, score1)\n",
        "fpr2, tpr2, _ = roc_curve(y_test, score2)\n",
        "fpr3, tpr3, _ = roc_curve(y_test, score3)\n",
        "fpr5, tpr5, _ = roc_curve(y_test, score5)\n",
        "fpr6, tpr6, _ = roc_curve(y_test, score6)\n",
        "\n",
        "\n",
        "fig = plt.figure(figsize=(8,8))\n",
        "fig.set_facecolor('white')\n",
        "ax1 = fig.add_subplot()\n",
        "ax1.plot(fpr1, tpr1, label='LR Score:{:.2f} AUC-{:.2f}'.format(log_reg.score(X_test, y_test),roc_auc_score(y_test, score1)))\n",
        "ax1.plot(fpr2, tpr2, label='RF Score:{:.2f} AUC-{:.2f}'.format(RF.score(X_test, y_test),roc_auc_score(y_test, score2)))\n",
        "ax1.plot(fpr3, tpr3, label='XG Score:{:.2f} AUC-{:.2f}'.format(XG.score(X_test, y_test),roc_auc_score(y_test, score3)))\n",
        "ax1.plot(fpr5, tpr5, label='SVM_linear Score:{:.2f} AUC-{:.2f}'.format(linear_svm.score(X_test, y_test),roc_auc_score(y_test, score5)))\n",
        "ax1.plot(fpr6, tpr6, label='SVM_sigmoid Score:{:.2f} AUC-{:.2f}'.format(sigmoid_svm.score(X_test, y_test),roc_auc_score(y_test, score6)))\n",
        "\n",
        "ax1.plot([0, 1], [0, 1], color='red', label='Random Model')\n",
        "ax1.legend()\n",
        "plt.show()"
      ],
      "metadata": {
        "id": "TZLcCMqwsmcA"
      },
      "execution_count": null,
      "outputs": []
    },
    {
      "cell_type": "markdown",
      "source": [
        "## 최적화된 모델로 감성예측하기"
      ],
      "metadata": {
        "id": "kqljZH-DdsxN"
      }
    },
    {
      "cell_type": "code",
      "source": [
        "cd/content/drive/Shareddrives/텍스트 마이닝 프로젝트/군집분석"
      ],
      "metadata": {
        "id": "_F5KDRa-2M4B"
      },
      "execution_count": null,
      "outputs": []
    },
    {
      "cell_type": "code",
      "source": [
        "df=pd.read_csv('/content/drive/Shareddrives/텍스트 마이닝 프로젝트/군집분석/메인기사 10개 추출.csv')"
      ],
      "metadata": {
        "id": "mQDKSKK92kla"
      },
      "execution_count": null,
      "outputs": []
    },
    {
      "cell_type": "code",
      "source": [
        "for i in range(10):\n",
        "    input_text = df['key'][i]\n",
        "    #입력 텍스트에 대한 전처리 수행\n",
        "    input_text = re.compile(r'[ㄱ-ㅣ가-힣]+').findall(input_text)\n",
        "    input_text = [\" \".join(input_text)]\n",
        "    # 입력 텍스트의 피처 벡터화\n",
        "    st_tfidf = tfidf.transform(input_text)\n",
        "\n",
        "    # 최적 감성 분석 모델에 적용하여 감성 분석 평가\n",
        "    #st_predict = grid_cat.best_estimator_.predict(st_tfidf)\n",
        "    st_predict = sigmoid_svm.predict(st_tfidf)\n",
        "\n",
        "    #st_predict = log_reg.predict(st_tfidf)\n",
        "\n",
        "    #예측 결과 출력\n",
        "    if(st_predict == 0):\n",
        "        print(df['title'][i])\n",
        "        print('예측 결과: ->> 부정 감성')\n",
        "        print('=====================================================')\n",
        "    else :\n",
        "        print(df['title'][i])\n",
        "        print('예측 결과: ->> 긍정 감성')\n",
        "        print('=====================================================')"
      ],
      "metadata": {
        "id": "kzpqVLhvdsin"
      },
      "execution_count": null,
      "outputs": []
    },
    {
      "cell_type": "code",
      "source": [],
      "metadata": {
        "id": "X9bZ2VUvj246"
      },
      "execution_count": null,
      "outputs": []
    }
  ]
}