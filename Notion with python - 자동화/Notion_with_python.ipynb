{
  "nbformat": 4,
  "nbformat_minor": 0,
  "metadata": {
    "colab": {
      "private_outputs": true,
      "provenance": [],
      "include_colab_link": true
    },
    "kernelspec": {
      "name": "python3",
      "display_name": "Python 3"
    },
    "language_info": {
      "name": "python"
    }
  },
  "cells": [
    {
      "cell_type": "markdown",
      "metadata": {
        "id": "view-in-github",
        "colab_type": "text"
      },
      "source": [
        "<a href=\"https://colab.research.google.com/github/tlsdmswn01/Text_mining_project/blob/main/Notion%20with%20python%20-%20%EC%9E%90%EB%8F%99%ED%99%94/Notion_with_python.ipynb\" target=\"_parent\"><img src=\"https://colab.research.google.com/assets/colab-badge.svg\" alt=\"Open In Colab\"/></a>"
      ]
    },
    {
      "cell_type": "code",
      "source": [
        "from google.colab import drive\n",
        "drive.mount('/content/drive')"
      ],
      "metadata": {
        "id": "NMczcmX4tbpa"
      },
      "execution_count": null,
      "outputs": []
    },
    {
      "cell_type": "code",
      "source": [
        "cd/content/drive/Shareddrives/텍스트 마이닝 프로젝트/Notion"
      ],
      "metadata": {
        "id": "qo6JudTst1lo"
      },
      "execution_count": null,
      "outputs": []
    },
    {
      "cell_type": "code",
      "execution_count": null,
      "metadata": {
        "id": "dfiAqe48yCqb"
      },
      "outputs": [],
      "source": [
        "!pip install notion"
      ]
    },
    {
      "cell_type": "code",
      "source": [
        "!pip install 'urllib3<2'"
      ],
      "metadata": {
        "id": "pTh9B-xpDuwa"
      },
      "execution_count": null,
      "outputs": []
    },
    {
      "cell_type": "code",
      "source": [
        "from datetime import datetime\n",
        "from notion.client import *\n",
        "from notion.block import *\n",
        "\n",
        "# Log-in\n",
        "#개인 토큰을 받으셔야 합니다.\n",
        "#개인 노션 페이지를 파셔서 url을 받아서 사용하세요\n",
        "\n"
      ],
      "metadata": {
        "id": "YwEcgKK7CkxU"
      },
      "execution_count": null,
      "outputs": []
    },
    {
      "cell_type": "code",
      "source": [
        "client = NotionClient(token_v2=token_v2)\n",
        "page = client.get_block(PAGE_URL)"
      ],
      "metadata": {
        "id": "oi7hnkruRH8e"
      },
      "execution_count": null,
      "outputs": []
    },
    {
      "cell_type": "code",
      "source": [
        "print(\"The old title is:\",page.title)\n",
        "page.title=\"삼성전자\" # 제목 변경"
      ],
      "metadata": {
        "id": "01-sPNCfRtQ7"
      },
      "execution_count": null,
      "outputs": []
    },
    {
      "cell_type": "code",
      "source": [
        "# 거시경제 정보\n",
        "header1 = page.children.add_new(HeaderBlock)\n",
        "header1.title=\"오늘의 경제소식\"\n",
        "div=page.children.add_new(DividerBlock)\n",
        "div\n",
        "#현재 시장이 삼성전자에 어떤 영향을 줄 것인가 전문가의 한줄 의견 적기\n",
        "important = page.children.add_new(CalloutBlock)\n",
        "important.icon='💡'\n",
        "important.title='AI 혁명으로 우량의 메모리 반도체 변화에 따라 HBM3의 수요와 낙관적인 거시경제 영향에 따라 삼성전자가 수혜를 받을 것으로 예상된다.'\n",
        "# 현재 시장정보\n",
        "text = page.children.add_new(TextBlock)\n",
        "text.title = \"\"\"미국 연준 파월 의장에 의하면 성장과 미국 실업률 3.5%에 너무 강한 노동시장을 염려하며 인풀레이션이 지난 고점에서 한풀 꺾였지만 아직도 2% 표적에 비해 높기 때문에 연준이 목표하는 인플레이션 2% 아래로 내려가는 것을 자신하지 않는 한, 매파적 금리 동결 (hawkish rate hold) 은 제한적일 것이며 필요하면 연방 금리(Fed Fund Rate)을 올릴 준비가 돼있다는 입장을 밝혔습니다.\n",
        "\n",
        " 데이터 의존 견해에서, 인풀레이션이 지속적으로 약해지면 연방 금리 목표 범위: 5.25% - 5.5% 에 머물 것이며 다른 이변이 없는 한 국내/국외 주식시장도 낙관적인(bullish) 추세로 유지될 것이며 그 반대의 경우에 연방 금리가 오르면 10년 만기 국고 체 와 미국 달러(green back)의 강세는 항상 국내/국외 주식시장에 약세의(bearish) 영향을 주며 순탄치 않은 주식시장이 될 가라는 전망입니다.\"\"\"\n"
      ],
      "metadata": {
        "id": "4QZPp74dbT8o"
      },
      "execution_count": null,
      "outputs": []
    },
    {
      "cell_type": "code",
      "source": [
        "# 증권사 보고서\n",
        "header1 = page.children.add_new(HeaderBlock)\n",
        "header1.title=\"증권사 소식\"\n",
        "div=page.children.add_new(DividerBlock)\n",
        "div\n",
        "# 적정가격 시각화 자료 넣기\n",
        "Image = page.children.add_new(ImageBlock, width=500)\n",
        "# sets \"property.source\" to the URL, and \"format.display_source\" to the embedly-converted URL\n",
        "Image.upload_file('적정가격.png')\n",
        "\n",
        "\n",
        "#3개월 증권사 pdf\n",
        "important = page.children.add_new(PageBlock)\n",
        "important.title='📌이성적 실리주의로의 전환 가속'\n",
        "important2 = page.children.add_new(PageBlock)\n",
        "important2.title='📌2Q23P-아쉬운 실적 = 반작용의 촉매'\n"
      ],
      "metadata": {
        "id": "DMTYBvBck-xV"
      },
      "execution_count": null,
      "outputs": []
    },
    {
      "cell_type": "code",
      "source": [
        "import pandas as pd"
      ],
      "metadata": {
        "id": "FVCoedYX5eS7"
      },
      "execution_count": null,
      "outputs": []
    },
    {
      "cell_type": "code",
      "source": [
        "# 삼성전자  주요뉴스\n",
        "header1 = page.children.add_new(HeaderBlock)\n",
        "header1.title=\"삼성전자 주요뉴스\"\n",
        "div=page.children.add_new(DividerBlock)\n",
        "div"
      ],
      "metadata": {
        "id": "pJ3WUEl058OL"
      },
      "execution_count": null,
      "outputs": []
    },
    {
      "cell_type": "code",
      "source": [
        "df=pd.read_csv('/content/drive/Shareddrives/텍스트 마이닝 프로젝트/군집분석/메인기사 10개 추출.csv')\n",
        "for i in df.loc[:1,'url']:\n",
        "    try:\n",
        "        bookmark1 = page.children.add_new(BookmarkBlock, width=500)\n",
        "    # sets \"property.source\" to the URL, and \"format.display_source\" to the embedly-converted URL\n",
        "        bookmark1.set_new_link(i)\n",
        "    except:\n",
        "        print('pass')\n",
        "\n",
        "toggle = page.children.add_new(ToggleBlock)\n",
        "toggle.title=\"뉴스 더보기\"\n",
        "toggle_page = client.get_block(toggle.id)\n",
        "for k in df.loc[1:5,:'url']:\n",
        "    try:\n",
        "        new_child = toggle_page.children.add_new(BookmarkBlock, width=500)\n",
        "        new_child.set_new_link(k)\n",
        "    except:\n",
        "        print('pass')\n",
        "\n"
      ],
      "metadata": {
        "id": "haoGmSfswHPp"
      },
      "execution_count": null,
      "outputs": []
    },
    {
      "cell_type": "code",
      "source": [
        "# 삼성전자 연관 키워드\n",
        "header1 = page.children.add_new(HeaderBlock)\n",
        "header1.title=\"삼성전자 연관 키워드 뉴스\"\n",
        "div=page.children.add_new(DividerBlock)\n",
        "div"
      ],
      "metadata": {
        "id": "bnXhGfwbmeDr"
      },
      "execution_count": null,
      "outputs": []
    },
    {
      "cell_type": "code",
      "source": [
        "# 북마크 만들기\n",
        "try:\n",
        "    bookmark1 = page.children.add_new(BookmarkBlock, width=500)\n",
        "    # sets \"property.source\" to the URL, and \"format.display_source\" to the embedly-converted URL\n",
        "    bookmark1.set_new_link(\"https://www.dailycnc.com/news/articleView.html?idxno=217647\")\n",
        "except:\n",
        "    print('pass')\n",
        "try:\n",
        "    bookmark2 = page.children.add_new(BookmarkBlock, width=500)\n",
        "    # sets \"property.source\" to the URL, and \"format.display_source\" to the embedly-converted URL\n",
        "    bookmark2.set_new_link(\"http://www.greenpostkorea.co.kr/news/articleView.html?idxno=208317\")\n",
        "except:\n",
        "    print('pass')\n",
        "\n",
        "toggle = page.children.add_new(ToggleBlock)\n",
        "toggle.title=\"뉴스 더보기\"\n",
        "toggle_page = client.get_block(toggle.id)\n",
        "new_child = toggle_page.children.add_new(BookmarkBlock, width=500)\n",
        "new_child.set_new_link(\"https://news.kbs.co.kr/news/view.do?ncd=7762584\")\n"
      ],
      "metadata": {
        "id": "fhDP7vKka1qx"
      },
      "execution_count": null,
      "outputs": []
    },
    {
      "cell_type": "code",
      "source": [],
      "metadata": {
        "id": "FxrViFE-hHIq"
      },
      "execution_count": null,
      "outputs": []
    }
  ]
}