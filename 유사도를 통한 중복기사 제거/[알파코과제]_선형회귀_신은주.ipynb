{
  "nbformat": 4,
  "nbformat_minor": 0,
  "metadata": {
    "colab": {
      "provenance": []
    },
    "kernelspec": {
      "name": "python3",
      "display_name": "Python 3"
    },
    "language_info": {
      "name": "python"
    }
  },
  "cells": [
    {
      "cell_type": "markdown",
      "metadata": {
        "id": "acfded7a"
      },
      "source": [
        "## 실습 - Insurance Prediction"
      ]
    },
    {
      "cell_type": "markdown",
      "metadata": {
        "id": "c8b09c5e"
      },
      "source": [
        "의료보험 데이터를 활용해 한 사람이 보험료를 얼마나 낼지를 예측하는 회귀 문제를 다뤄보겠습니다.데이터를 이루고 있는 column들에 대한 설명은 다음과 같습니다.\n",
        "\n",
        "- Age: 피보험자의 나이\n",
        "- Sex: 피보험자의 성별\n",
        "- BMI: 피보험자의 체질량 지수 -  $weight(kg) / height(m)^2$\n",
        "- Children: 피보험자의 자녀의 수\n",
        "- Smoker: 흡연 여부 (yes / no)\n",
        "- Region: 피보험자가 거주하는 지역 (Southeast / Southwest / Northeast / Northwest)\n",
        "- Charges: 보험료"
      ]
    },
    {
      "cell_type": "code",
      "source": [
        "!gdown --id 1cdFYc-VI-1nDuSecY-H1eSC1W0OR-CR_"
      ],
      "metadata": {
        "id": "GPh-vJYIJXvm",
        "outputId": "0232b403-9e03-4a1f-97a2-cab827b0e7e0",
        "colab": {
          "base_uri": "https://localhost:8080/"
        }
      },
      "execution_count": 107,
      "outputs": [
        {
          "output_type": "stream",
          "name": "stdout",
          "text": [
            "/usr/local/lib/python3.10/dist-packages/gdown/cli.py:121: FutureWarning: Option `--id` was deprecated in version 4.3.1 and will be removed in 5.0. You don't need to pass it anymore to use a file ID.\n",
            "  warnings.warn(\n",
            "Downloading...\n",
            "From: https://drive.google.com/uc?id=1cdFYc-VI-1nDuSecY-H1eSC1W0OR-CR_\n",
            "To: /content/insurance.csv\n",
            "100% 55.6k/55.6k [00:00<00:00, 80.6MB/s]\n"
          ]
        }
      ]
    },
    {
      "cell_type": "markdown",
      "source": [
        "data 준비를 위한 코드는 이번에 제공해드리겠습니다.\n",
        "\n",
        "아래 코드를 그대로 실행하시면 됩니다.\n",
        "\n",
        "단 지금 data를 이미 trian, test가 나누어져 있으니 이를 감안하시고 나중에 test를 또 나누지 않아도 됩니다.\n",
        "\n",
        "스케일링 과정에서 fit과 transform을 유의해주세요"
      ],
      "metadata": {
        "id": "6r-jXV5qvDJE"
      }
    },
    {
      "cell_type": "code",
      "source": [
        "# 시험환경 세팅 (코드 변경 X)\n",
        "import pandas as pd\n",
        "import numpy as np\n",
        "from sklearn.model_selection import train_test_split\n",
        "\n",
        "def exam_data_load(df, target, id_name=\"\", null_name=\"\"):\n",
        "    if id_name == \"\":\n",
        "        df = df.reset_index().rename(columns={\"index\": \"id\"})\n",
        "        id_name = 'id'\n",
        "    else:\n",
        "        id_name = id_name\n",
        "\n",
        "    if null_name != \"\":\n",
        "        df[df == null_name] = np.nan\n",
        "\n",
        "    X_train, X_test = train_test_split(df, test_size=0.2, random_state=2021)\n",
        "\n",
        "    y_train = X_train[[id_name, target]]\n",
        "    X_train = X_train.drop(columns=[target])\n",
        "\n",
        "\n",
        "    y_test = X_test[[id_name, target]]\n",
        "    X_test = X_test.drop(columns=[target])\n",
        "    return X_train, X_test, y_train, y_test\n",
        "\n",
        "df = pd.read_csv(\"insurance.csv\")\n",
        "X_train, X_test, y_train, y_test = exam_data_load(df, target='charges')\n",
        "\n",
        "X_train.shape, X_test.shape, y_train.shape, y_test.shape"
      ],
      "metadata": {
        "id": "tTr5xdkqJeco",
        "outputId": "00392d4e-3595-4637-a2ff-ff2c19b8e90e",
        "colab": {
          "base_uri": "https://localhost:8080/"
        }
      },
      "execution_count": 108,
      "outputs": [
        {
          "output_type": "execute_result",
          "data": {
            "text/plain": [
              "((1070, 7), (268, 7), (1070, 2), (268, 2))"
            ]
          },
          "metadata": {},
          "execution_count": 108
        }
      ]
    },
    {
      "cell_type": "code",
      "source": [
        "X_test"
      ],
      "metadata": {
        "colab": {
          "base_uri": "https://localhost:8080/",
          "height": 423
        },
        "id": "slIDinrqMtHY",
        "outputId": "7213536e-466b-4fb2-9773-0656d580d59f"
      },
      "execution_count": 109,
      "outputs": [
        {
          "output_type": "execute_result",
          "data": {
            "text/plain": [
              "        id  age     sex     bmi  children smoker     region\n",
              "1088  1088   52    male  47.740         1     no  southeast\n",
              "1157  1157   23  female  23.180         2     no  northwest\n",
              "1267  1267   24    male  31.065         0    yes  northeast\n",
              "506    506   22    male  31.350         1     no  northwest\n",
              "659    659   57  female  28.785         4     no  northeast\n",
              "...    ...  ...     ...     ...       ...    ...        ...\n",
              "1275  1275   57    male  23.700         0     no  southwest\n",
              "88      88   46  female  27.740         0     no  northwest\n",
              "646    646   39    male  26.220         1     no  northwest\n",
              "654    654   59  female  35.200         0     no  southeast\n",
              "116    116   58    male  49.060         0     no  southeast\n",
              "\n",
              "[268 rows x 7 columns]"
            ],
            "text/html": [
              "\n",
              "  <div id=\"df-0c48e7f9-447e-44f7-a412-a9b1dde3c351\" class=\"colab-df-container\">\n",
              "    <div>\n",
              "<style scoped>\n",
              "    .dataframe tbody tr th:only-of-type {\n",
              "        vertical-align: middle;\n",
              "    }\n",
              "\n",
              "    .dataframe tbody tr th {\n",
              "        vertical-align: top;\n",
              "    }\n",
              "\n",
              "    .dataframe thead th {\n",
              "        text-align: right;\n",
              "    }\n",
              "</style>\n",
              "<table border=\"1\" class=\"dataframe\">\n",
              "  <thead>\n",
              "    <tr style=\"text-align: right;\">\n",
              "      <th></th>\n",
              "      <th>id</th>\n",
              "      <th>age</th>\n",
              "      <th>sex</th>\n",
              "      <th>bmi</th>\n",
              "      <th>children</th>\n",
              "      <th>smoker</th>\n",
              "      <th>region</th>\n",
              "    </tr>\n",
              "  </thead>\n",
              "  <tbody>\n",
              "    <tr>\n",
              "      <th>1088</th>\n",
              "      <td>1088</td>\n",
              "      <td>52</td>\n",
              "      <td>male</td>\n",
              "      <td>47.740</td>\n",
              "      <td>1</td>\n",
              "      <td>no</td>\n",
              "      <td>southeast</td>\n",
              "    </tr>\n",
              "    <tr>\n",
              "      <th>1157</th>\n",
              "      <td>1157</td>\n",
              "      <td>23</td>\n",
              "      <td>female</td>\n",
              "      <td>23.180</td>\n",
              "      <td>2</td>\n",
              "      <td>no</td>\n",
              "      <td>northwest</td>\n",
              "    </tr>\n",
              "    <tr>\n",
              "      <th>1267</th>\n",
              "      <td>1267</td>\n",
              "      <td>24</td>\n",
              "      <td>male</td>\n",
              "      <td>31.065</td>\n",
              "      <td>0</td>\n",
              "      <td>yes</td>\n",
              "      <td>northeast</td>\n",
              "    </tr>\n",
              "    <tr>\n",
              "      <th>506</th>\n",
              "      <td>506</td>\n",
              "      <td>22</td>\n",
              "      <td>male</td>\n",
              "      <td>31.350</td>\n",
              "      <td>1</td>\n",
              "      <td>no</td>\n",
              "      <td>northwest</td>\n",
              "    </tr>\n",
              "    <tr>\n",
              "      <th>659</th>\n",
              "      <td>659</td>\n",
              "      <td>57</td>\n",
              "      <td>female</td>\n",
              "      <td>28.785</td>\n",
              "      <td>4</td>\n",
              "      <td>no</td>\n",
              "      <td>northeast</td>\n",
              "    </tr>\n",
              "    <tr>\n",
              "      <th>...</th>\n",
              "      <td>...</td>\n",
              "      <td>...</td>\n",
              "      <td>...</td>\n",
              "      <td>...</td>\n",
              "      <td>...</td>\n",
              "      <td>...</td>\n",
              "      <td>...</td>\n",
              "    </tr>\n",
              "    <tr>\n",
              "      <th>1275</th>\n",
              "      <td>1275</td>\n",
              "      <td>57</td>\n",
              "      <td>male</td>\n",
              "      <td>23.700</td>\n",
              "      <td>0</td>\n",
              "      <td>no</td>\n",
              "      <td>southwest</td>\n",
              "    </tr>\n",
              "    <tr>\n",
              "      <th>88</th>\n",
              "      <td>88</td>\n",
              "      <td>46</td>\n",
              "      <td>female</td>\n",
              "      <td>27.740</td>\n",
              "      <td>0</td>\n",
              "      <td>no</td>\n",
              "      <td>northwest</td>\n",
              "    </tr>\n",
              "    <tr>\n",
              "      <th>646</th>\n",
              "      <td>646</td>\n",
              "      <td>39</td>\n",
              "      <td>male</td>\n",
              "      <td>26.220</td>\n",
              "      <td>1</td>\n",
              "      <td>no</td>\n",
              "      <td>northwest</td>\n",
              "    </tr>\n",
              "    <tr>\n",
              "      <th>654</th>\n",
              "      <td>654</td>\n",
              "      <td>59</td>\n",
              "      <td>female</td>\n",
              "      <td>35.200</td>\n",
              "      <td>0</td>\n",
              "      <td>no</td>\n",
              "      <td>southeast</td>\n",
              "    </tr>\n",
              "    <tr>\n",
              "      <th>116</th>\n",
              "      <td>116</td>\n",
              "      <td>58</td>\n",
              "      <td>male</td>\n",
              "      <td>49.060</td>\n",
              "      <td>0</td>\n",
              "      <td>no</td>\n",
              "      <td>southeast</td>\n",
              "    </tr>\n",
              "  </tbody>\n",
              "</table>\n",
              "<p>268 rows × 7 columns</p>\n",
              "</div>\n",
              "    <div class=\"colab-df-buttons\">\n",
              "\n",
              "  <div class=\"colab-df-container\">\n",
              "    <button class=\"colab-df-convert\" onclick=\"convertToInteractive('df-0c48e7f9-447e-44f7-a412-a9b1dde3c351')\"\n",
              "            title=\"Convert this dataframe to an interactive table.\"\n",
              "            style=\"display:none;\">\n",
              "\n",
              "  <svg xmlns=\"http://www.w3.org/2000/svg\" height=\"24px\" viewBox=\"0 -960 960 960\">\n",
              "    <path d=\"M120-120v-720h720v720H120Zm60-500h600v-160H180v160Zm220 220h160v-160H400v160Zm0 220h160v-160H400v160ZM180-400h160v-160H180v160Zm440 0h160v-160H620v160ZM180-180h160v-160H180v160Zm440 0h160v-160H620v160Z\"/>\n",
              "  </svg>\n",
              "    </button>\n",
              "\n",
              "  <style>\n",
              "    .colab-df-container {\n",
              "      display:flex;\n",
              "      gap: 12px;\n",
              "    }\n",
              "\n",
              "    .colab-df-convert {\n",
              "      background-color: #E8F0FE;\n",
              "      border: none;\n",
              "      border-radius: 50%;\n",
              "      cursor: pointer;\n",
              "      display: none;\n",
              "      fill: #1967D2;\n",
              "      height: 32px;\n",
              "      padding: 0 0 0 0;\n",
              "      width: 32px;\n",
              "    }\n",
              "\n",
              "    .colab-df-convert:hover {\n",
              "      background-color: #E2EBFA;\n",
              "      box-shadow: 0px 1px 2px rgba(60, 64, 67, 0.3), 0px 1px 3px 1px rgba(60, 64, 67, 0.15);\n",
              "      fill: #174EA6;\n",
              "    }\n",
              "\n",
              "    .colab-df-buttons div {\n",
              "      margin-bottom: 4px;\n",
              "    }\n",
              "\n",
              "    [theme=dark] .colab-df-convert {\n",
              "      background-color: #3B4455;\n",
              "      fill: #D2E3FC;\n",
              "    }\n",
              "\n",
              "    [theme=dark] .colab-df-convert:hover {\n",
              "      background-color: #434B5C;\n",
              "      box-shadow: 0px 1px 3px 1px rgba(0, 0, 0, 0.15);\n",
              "      filter: drop-shadow(0px 1px 2px rgba(0, 0, 0, 0.3));\n",
              "      fill: #FFFFFF;\n",
              "    }\n",
              "  </style>\n",
              "\n",
              "    <script>\n",
              "      const buttonEl =\n",
              "        document.querySelector('#df-0c48e7f9-447e-44f7-a412-a9b1dde3c351 button.colab-df-convert');\n",
              "      buttonEl.style.display =\n",
              "        google.colab.kernel.accessAllowed ? 'block' : 'none';\n",
              "\n",
              "      async function convertToInteractive(key) {\n",
              "        const element = document.querySelector('#df-0c48e7f9-447e-44f7-a412-a9b1dde3c351');\n",
              "        const dataTable =\n",
              "          await google.colab.kernel.invokeFunction('convertToInteractive',\n",
              "                                                    [key], {});\n",
              "        if (!dataTable) return;\n",
              "\n",
              "        const docLinkHtml = 'Like what you see? Visit the ' +\n",
              "          '<a target=\"_blank\" href=https://colab.research.google.com/notebooks/data_table.ipynb>data table notebook</a>'\n",
              "          + ' to learn more about interactive tables.';\n",
              "        element.innerHTML = '';\n",
              "        dataTable['output_type'] = 'display_data';\n",
              "        await google.colab.output.renderOutput(dataTable, element);\n",
              "        const docLink = document.createElement('div');\n",
              "        docLink.innerHTML = docLinkHtml;\n",
              "        element.appendChild(docLink);\n",
              "      }\n",
              "    </script>\n",
              "  </div>\n",
              "\n",
              "\n",
              "<div id=\"df-7179f405-ebe4-4b40-b6aa-f4c09ab32eb0\">\n",
              "  <button class=\"colab-df-quickchart\" onclick=\"quickchart('df-7179f405-ebe4-4b40-b6aa-f4c09ab32eb0')\"\n",
              "            title=\"Suggest charts.\"\n",
              "            style=\"display:none;\">\n",
              "\n",
              "<svg xmlns=\"http://www.w3.org/2000/svg\" height=\"24px\"viewBox=\"0 0 24 24\"\n",
              "     width=\"24px\">\n",
              "    <g>\n",
              "        <path d=\"M19 3H5c-1.1 0-2 .9-2 2v14c0 1.1.9 2 2 2h14c1.1 0 2-.9 2-2V5c0-1.1-.9-2-2-2zM9 17H7v-7h2v7zm4 0h-2V7h2v10zm4 0h-2v-4h2v4z\"/>\n",
              "    </g>\n",
              "</svg>\n",
              "  </button>\n",
              "\n",
              "<style>\n",
              "  .colab-df-quickchart {\n",
              "    background-color: #E8F0FE;\n",
              "    border: none;\n",
              "    border-radius: 50%;\n",
              "    cursor: pointer;\n",
              "    display: none;\n",
              "    fill: #1967D2;\n",
              "    height: 32px;\n",
              "    padding: 0 0 0 0;\n",
              "    width: 32px;\n",
              "  }\n",
              "\n",
              "  .colab-df-quickchart:hover {\n",
              "    background-color: #E2EBFA;\n",
              "    box-shadow: 0px 1px 2px rgba(60, 64, 67, 0.3), 0px 1px 3px 1px rgba(60, 64, 67, 0.15);\n",
              "    fill: #174EA6;\n",
              "  }\n",
              "\n",
              "  [theme=dark] .colab-df-quickchart {\n",
              "    background-color: #3B4455;\n",
              "    fill: #D2E3FC;\n",
              "  }\n",
              "\n",
              "  [theme=dark] .colab-df-quickchart:hover {\n",
              "    background-color: #434B5C;\n",
              "    box-shadow: 0px 1px 3px 1px rgba(0, 0, 0, 0.15);\n",
              "    filter: drop-shadow(0px 1px 2px rgba(0, 0, 0, 0.3));\n",
              "    fill: #FFFFFF;\n",
              "  }\n",
              "</style>\n",
              "\n",
              "  <script>\n",
              "    async function quickchart(key) {\n",
              "      const charts = await google.colab.kernel.invokeFunction(\n",
              "          'suggestCharts', [key], {});\n",
              "    }\n",
              "    (() => {\n",
              "      let quickchartButtonEl =\n",
              "        document.querySelector('#df-7179f405-ebe4-4b40-b6aa-f4c09ab32eb0 button');\n",
              "      quickchartButtonEl.style.display =\n",
              "        google.colab.kernel.accessAllowed ? 'block' : 'none';\n",
              "    })();\n",
              "  </script>\n",
              "</div>\n",
              "    </div>\n",
              "  </div>\n"
            ]
          },
          "metadata": {},
          "execution_count": 109
        }
      ]
    },
    {
      "cell_type": "markdown",
      "metadata": {
        "id": "8a327952"
      },
      "source": [
        "### EDA"
      ]
    },
    {
      "cell_type": "code",
      "execution_count": 110,
      "metadata": {
        "id": "56ba593e",
        "outputId": "6fc9bc85-2ba8-46da-d65e-4f561d9bf311",
        "colab": {
          "base_uri": "https://localhost:8080/"
        }
      },
      "outputs": [
        {
          "output_type": "stream",
          "name": "stdout",
          "text": [
            "<class 'pandas.core.frame.DataFrame'>\n",
            "Int64Index: 1070 entries, 209 to 1140\n",
            "Data columns (total 7 columns):\n",
            " #   Column    Non-Null Count  Dtype  \n",
            "---  ------    --------------  -----  \n",
            " 0   id        1070 non-null   int64  \n",
            " 1   age       1070 non-null   int64  \n",
            " 2   sex       1070 non-null   object \n",
            " 3   bmi       1070 non-null   float64\n",
            " 4   children  1070 non-null   int64  \n",
            " 5   smoker    1070 non-null   object \n",
            " 6   region    1070 non-null   object \n",
            "dtypes: float64(1), int64(3), object(3)\n",
            "memory usage: 66.9+ KB\n",
            "<class 'pandas.core.frame.DataFrame'>\n",
            "Int64Index: 1070 entries, 209 to 1140\n",
            "Data columns (total 2 columns):\n",
            " #   Column   Non-Null Count  Dtype  \n",
            "---  ------   --------------  -----  \n",
            " 0   id       1070 non-null   int64  \n",
            " 1   charges  1070 non-null   float64\n",
            "dtypes: float64(1), int64(1)\n",
            "memory usage: 25.1 KB\n"
          ]
        }
      ],
      "source": [
        "# 데이터 타입 및 데이터 개수 확인\n",
        "X_train.info() # 문제지\n",
        "y_train.info() # 문제지 답"
      ]
    },
    {
      "cell_type": "code",
      "execution_count": 111,
      "metadata": {
        "id": "1e0ec298",
        "outputId": "ee8ea187-e6d9-4c2a-c5f7-d9b12b0f3781",
        "colab": {
          "base_uri": "https://localhost:8080/",
          "height": 423
        }
      },
      "outputs": [
        {
          "output_type": "execute_result",
          "data": {
            "text/plain": [
              "        id      charges\n",
              "209    209   6610.10970\n",
              "540    540   6196.44800\n",
              "747    747   1627.28245\n",
              "39      39  48173.36100\n",
              "640    640   6666.24300\n",
              "...    ...          ...\n",
              "44      44   6079.67150\n",
              "621    621  40182.24600\n",
              "1152  1152  40941.28540\n",
              "57      57  34303.16720\n",
              "1140  1140   9048.02730\n",
              "\n",
              "[1070 rows x 2 columns]"
            ],
            "text/html": [
              "\n",
              "  <div id=\"df-90410341-0f19-4df2-a026-96a42e6526bb\" class=\"colab-df-container\">\n",
              "    <div>\n",
              "<style scoped>\n",
              "    .dataframe tbody tr th:only-of-type {\n",
              "        vertical-align: middle;\n",
              "    }\n",
              "\n",
              "    .dataframe tbody tr th {\n",
              "        vertical-align: top;\n",
              "    }\n",
              "\n",
              "    .dataframe thead th {\n",
              "        text-align: right;\n",
              "    }\n",
              "</style>\n",
              "<table border=\"1\" class=\"dataframe\">\n",
              "  <thead>\n",
              "    <tr style=\"text-align: right;\">\n",
              "      <th></th>\n",
              "      <th>id</th>\n",
              "      <th>charges</th>\n",
              "    </tr>\n",
              "  </thead>\n",
              "  <tbody>\n",
              "    <tr>\n",
              "      <th>209</th>\n",
              "      <td>209</td>\n",
              "      <td>6610.10970</td>\n",
              "    </tr>\n",
              "    <tr>\n",
              "      <th>540</th>\n",
              "      <td>540</td>\n",
              "      <td>6196.44800</td>\n",
              "    </tr>\n",
              "    <tr>\n",
              "      <th>747</th>\n",
              "      <td>747</td>\n",
              "      <td>1627.28245</td>\n",
              "    </tr>\n",
              "    <tr>\n",
              "      <th>39</th>\n",
              "      <td>39</td>\n",
              "      <td>48173.36100</td>\n",
              "    </tr>\n",
              "    <tr>\n",
              "      <th>640</th>\n",
              "      <td>640</td>\n",
              "      <td>6666.24300</td>\n",
              "    </tr>\n",
              "    <tr>\n",
              "      <th>...</th>\n",
              "      <td>...</td>\n",
              "      <td>...</td>\n",
              "    </tr>\n",
              "    <tr>\n",
              "      <th>44</th>\n",
              "      <td>44</td>\n",
              "      <td>6079.67150</td>\n",
              "    </tr>\n",
              "    <tr>\n",
              "      <th>621</th>\n",
              "      <td>621</td>\n",
              "      <td>40182.24600</td>\n",
              "    </tr>\n",
              "    <tr>\n",
              "      <th>1152</th>\n",
              "      <td>1152</td>\n",
              "      <td>40941.28540</td>\n",
              "    </tr>\n",
              "    <tr>\n",
              "      <th>57</th>\n",
              "      <td>57</td>\n",
              "      <td>34303.16720</td>\n",
              "    </tr>\n",
              "    <tr>\n",
              "      <th>1140</th>\n",
              "      <td>1140</td>\n",
              "      <td>9048.02730</td>\n",
              "    </tr>\n",
              "  </tbody>\n",
              "</table>\n",
              "<p>1070 rows × 2 columns</p>\n",
              "</div>\n",
              "    <div class=\"colab-df-buttons\">\n",
              "\n",
              "  <div class=\"colab-df-container\">\n",
              "    <button class=\"colab-df-convert\" onclick=\"convertToInteractive('df-90410341-0f19-4df2-a026-96a42e6526bb')\"\n",
              "            title=\"Convert this dataframe to an interactive table.\"\n",
              "            style=\"display:none;\">\n",
              "\n",
              "  <svg xmlns=\"http://www.w3.org/2000/svg\" height=\"24px\" viewBox=\"0 -960 960 960\">\n",
              "    <path d=\"M120-120v-720h720v720H120Zm60-500h600v-160H180v160Zm220 220h160v-160H400v160Zm0 220h160v-160H400v160ZM180-400h160v-160H180v160Zm440 0h160v-160H620v160ZM180-180h160v-160H180v160Zm440 0h160v-160H620v160Z\"/>\n",
              "  </svg>\n",
              "    </button>\n",
              "\n",
              "  <style>\n",
              "    .colab-df-container {\n",
              "      display:flex;\n",
              "      gap: 12px;\n",
              "    }\n",
              "\n",
              "    .colab-df-convert {\n",
              "      background-color: #E8F0FE;\n",
              "      border: none;\n",
              "      border-radius: 50%;\n",
              "      cursor: pointer;\n",
              "      display: none;\n",
              "      fill: #1967D2;\n",
              "      height: 32px;\n",
              "      padding: 0 0 0 0;\n",
              "      width: 32px;\n",
              "    }\n",
              "\n",
              "    .colab-df-convert:hover {\n",
              "      background-color: #E2EBFA;\n",
              "      box-shadow: 0px 1px 2px rgba(60, 64, 67, 0.3), 0px 1px 3px 1px rgba(60, 64, 67, 0.15);\n",
              "      fill: #174EA6;\n",
              "    }\n",
              "\n",
              "    .colab-df-buttons div {\n",
              "      margin-bottom: 4px;\n",
              "    }\n",
              "\n",
              "    [theme=dark] .colab-df-convert {\n",
              "      background-color: #3B4455;\n",
              "      fill: #D2E3FC;\n",
              "    }\n",
              "\n",
              "    [theme=dark] .colab-df-convert:hover {\n",
              "      background-color: #434B5C;\n",
              "      box-shadow: 0px 1px 3px 1px rgba(0, 0, 0, 0.15);\n",
              "      filter: drop-shadow(0px 1px 2px rgba(0, 0, 0, 0.3));\n",
              "      fill: #FFFFFF;\n",
              "    }\n",
              "  </style>\n",
              "\n",
              "    <script>\n",
              "      const buttonEl =\n",
              "        document.querySelector('#df-90410341-0f19-4df2-a026-96a42e6526bb button.colab-df-convert');\n",
              "      buttonEl.style.display =\n",
              "        google.colab.kernel.accessAllowed ? 'block' : 'none';\n",
              "\n",
              "      async function convertToInteractive(key) {\n",
              "        const element = document.querySelector('#df-90410341-0f19-4df2-a026-96a42e6526bb');\n",
              "        const dataTable =\n",
              "          await google.colab.kernel.invokeFunction('convertToInteractive',\n",
              "                                                    [key], {});\n",
              "        if (!dataTable) return;\n",
              "\n",
              "        const docLinkHtml = 'Like what you see? Visit the ' +\n",
              "          '<a target=\"_blank\" href=https://colab.research.google.com/notebooks/data_table.ipynb>data table notebook</a>'\n",
              "          + ' to learn more about interactive tables.';\n",
              "        element.innerHTML = '';\n",
              "        dataTable['output_type'] = 'display_data';\n",
              "        await google.colab.output.renderOutput(dataTable, element);\n",
              "        const docLink = document.createElement('div');\n",
              "        docLink.innerHTML = docLinkHtml;\n",
              "        element.appendChild(docLink);\n",
              "      }\n",
              "    </script>\n",
              "  </div>\n",
              "\n",
              "\n",
              "<div id=\"df-5d98ee3d-f06a-473b-88dd-f97cad963842\">\n",
              "  <button class=\"colab-df-quickchart\" onclick=\"quickchart('df-5d98ee3d-f06a-473b-88dd-f97cad963842')\"\n",
              "            title=\"Suggest charts.\"\n",
              "            style=\"display:none;\">\n",
              "\n",
              "<svg xmlns=\"http://www.w3.org/2000/svg\" height=\"24px\"viewBox=\"0 0 24 24\"\n",
              "     width=\"24px\">\n",
              "    <g>\n",
              "        <path d=\"M19 3H5c-1.1 0-2 .9-2 2v14c0 1.1.9 2 2 2h14c1.1 0 2-.9 2-2V5c0-1.1-.9-2-2-2zM9 17H7v-7h2v7zm4 0h-2V7h2v10zm4 0h-2v-4h2v4z\"/>\n",
              "    </g>\n",
              "</svg>\n",
              "  </button>\n",
              "\n",
              "<style>\n",
              "  .colab-df-quickchart {\n",
              "    background-color: #E8F0FE;\n",
              "    border: none;\n",
              "    border-radius: 50%;\n",
              "    cursor: pointer;\n",
              "    display: none;\n",
              "    fill: #1967D2;\n",
              "    height: 32px;\n",
              "    padding: 0 0 0 0;\n",
              "    width: 32px;\n",
              "  }\n",
              "\n",
              "  .colab-df-quickchart:hover {\n",
              "    background-color: #E2EBFA;\n",
              "    box-shadow: 0px 1px 2px rgba(60, 64, 67, 0.3), 0px 1px 3px 1px rgba(60, 64, 67, 0.15);\n",
              "    fill: #174EA6;\n",
              "  }\n",
              "\n",
              "  [theme=dark] .colab-df-quickchart {\n",
              "    background-color: #3B4455;\n",
              "    fill: #D2E3FC;\n",
              "  }\n",
              "\n",
              "  [theme=dark] .colab-df-quickchart:hover {\n",
              "    background-color: #434B5C;\n",
              "    box-shadow: 0px 1px 3px 1px rgba(0, 0, 0, 0.15);\n",
              "    filter: drop-shadow(0px 1px 2px rgba(0, 0, 0, 0.3));\n",
              "    fill: #FFFFFF;\n",
              "  }\n",
              "</style>\n",
              "\n",
              "  <script>\n",
              "    async function quickchart(key) {\n",
              "      const charts = await google.colab.kernel.invokeFunction(\n",
              "          'suggestCharts', [key], {});\n",
              "    }\n",
              "    (() => {\n",
              "      let quickchartButtonEl =\n",
              "        document.querySelector('#df-5d98ee3d-f06a-473b-88dd-f97cad963842 button');\n",
              "      quickchartButtonEl.style.display =\n",
              "        google.colab.kernel.accessAllowed ? 'block' : 'none';\n",
              "    })();\n",
              "  </script>\n",
              "</div>\n",
              "    </div>\n",
              "  </div>\n"
            ]
          },
          "metadata": {},
          "execution_count": 111
        }
      ],
      "source": [
        "# 타깃 데이터 확인\n",
        "y_train"
      ]
    },
    {
      "cell_type": "code",
      "execution_count": 112,
      "metadata": {
        "id": "363ebe85",
        "outputId": "214dca47-b959-4290-b1a6-b3f6d008abff",
        "colab": {
          "base_uri": "https://localhost:8080/",
          "height": 501
        }
      },
      "outputs": [
        {
          "output_type": "execute_result",
          "data": {
            "text/plain": [
              "Text(0.5, 0.98, 'Charges')"
            ]
          },
          "metadata": {},
          "execution_count": 112
        },
        {
          "output_type": "display_data",
          "data": {
            "text/plain": [
              "<Figure size 640x480 with 1 Axes>"
            ],
            "image/png": "[encoded data removed]"
          },
          "metadata": {}
        }
      ],
      "source": [
        "# 타깃 데이터 분포 확인\n",
        "import matplotlib.pyplot as plt\n",
        "y_train1=y_train['charges']\n",
        "fig=plt.figure()\n",
        "ax1=fig.add_subplot()\n",
        "ax1.hist(y_train1)\n",
        "fig.suptitle('Charges')"
      ]
    },
    {
      "cell_type": "code",
      "execution_count": 113,
      "metadata": {
        "id": "3bb61eb1",
        "outputId": "e024ad1c-b370-4b61-af82-7046451c2e0c",
        "colab": {
          "base_uri": "https://localhost:8080/",
          "height": 489
        }
      },
      "outputs": [
        {
          "output_type": "display_data",
          "data": {
            "text/plain": [
              "<Figure size 640x480 with 4 Axes>"
            ],
            "image/png": "[encoded data removed]"
          },
          "metadata": {}
        }
      ],
      "source": [
        "# 데이터 분포 확인 - 수치형\n",
        "import seaborn as sns\n",
        "import matplotlib.pyplot as plt\n",
        "sns.set(style='darkgrid')\n",
        "# 데이터 필터링\n",
        "dataset1=X_train['age']\n",
        "dataset2=X_train['bmi']\n",
        "dataset3=X_train['children']\n",
        "dataset4=y_train['charges']\n",
        "\n",
        "\n",
        "#그래프 격자 만들기\n",
        "fig=plt.figure()\n",
        "ax1=fig.add_subplot(2,2,1)\n",
        "ax2=fig.add_subplot(2,2,2)\n",
        "ax3=fig.add_subplot(2,2,3)\n",
        "ax4=fig.add_subplot(2,2,4)\n",
        "\n",
        "#그래프 그리기\n",
        "ax1.hist(dataset1)\n",
        "ax2.hist(dataset2)\n",
        "ax3.hist(dataset3)\n",
        "ax4.hist(dataset4)\n",
        "\n",
        "#각각 그래프 제목 붙이기\n",
        "ax1.set_title('Age')\n",
        "ax2.set_title('BMI')\n",
        "ax3.set_title('Children')\n",
        "ax4.set_title('Charges')\n",
        "\n",
        "#그림판 이름 붙이기\n",
        "fig.suptitle('Train_data')\n",
        "\n",
        "#그래프 글자 겹치는 부분 해결하기\n",
        "fig.tight_layout()"
      ]
    },
    {
      "cell_type": "code",
      "source": [
        "# 데이터 분포 확인 - 카테고리형 (파이차트)\n",
        "print('========sex=======')\n",
        "print(X_train['sex'].value_counts())\n",
        "new_sex=pd.DataFrame(X_train['sex'].value_counts())\n",
        "print('========smoker=======')\n",
        "print(X_train['smoker'].value_counts())\n",
        "new_smoker=pd.DataFrame(X_train['smoker'].value_counts())\n",
        "print('========region=======')\n",
        "print(X_train['region'].value_counts())\n",
        "new_region=pd.DataFrame(X_train['region'].value_counts())\n",
        "new_sex"
      ],
      "metadata": {
        "colab": {
          "base_uri": "https://localhost:8080/",
          "height": 373
        },
        "id": "J8FjSulLyt9s",
        "outputId": "088eb47c-fb39-41e7-f6b9-7c5774ce2c6a"
      },
      "execution_count": 114,
      "outputs": [
        {
          "output_type": "stream",
          "name": "stdout",
          "text": [
            "========sex=======\n",
            "male      551\n",
            "female    519\n",
            "Name: sex, dtype: int64\n",
            "========smoker=======\n",
            "no     845\n",
            "yes    225\n",
            "Name: smoker, dtype: int64\n",
            "========region=======\n",
            "southeast    304\n",
            "northeast    266\n",
            "southwest    261\n",
            "northwest    239\n",
            "Name: region, dtype: int64\n"
          ]
        },
        {
          "output_type": "execute_result",
          "data": {
            "text/plain": [
              "        sex\n",
              "male    551\n",
              "female  519"
            ],
            "text/html": [
              "\n",
              "  <div id=\"df-b27d57e8-ffdc-4450-8423-292e41b7b256\" class=\"colab-df-container\">\n",
              "    <div>\n",
              "<style scoped>\n",
              "    .dataframe tbody tr th:only-of-type {\n",
              "        vertical-align: middle;\n",
              "    }\n",
              "\n",
              "    .dataframe tbody tr th {\n",
              "        vertical-align: top;\n",
              "    }\n",
              "\n",
              "    .dataframe thead th {\n",
              "        text-align: right;\n",
              "    }\n",
              "</style>\n",
              "<table border=\"1\" class=\"dataframe\">\n",
              "  <thead>\n",
              "    <tr style=\"text-align: right;\">\n",
              "      <th></th>\n",
              "      <th>sex</th>\n",
              "    </tr>\n",
              "  </thead>\n",
              "  <tbody>\n",
              "    <tr>\n",
              "      <th>male</th>\n",
              "      <td>551</td>\n",
              "    </tr>\n",
              "    <tr>\n",
              "      <th>female</th>\n",
              "      <td>519</td>\n",
              "    </tr>\n",
              "  </tbody>\n",
              "</table>\n",
              "</div>\n",
              "    <div class=\"colab-df-buttons\">\n",
              "\n",
              "  <div class=\"colab-df-container\">\n",
              "    <button class=\"colab-df-convert\" onclick=\"convertToInteractive('df-b27d57e8-ffdc-4450-8423-292e41b7b256')\"\n",
              "            title=\"Convert this dataframe to an interactive table.\"\n",
              "            style=\"display:none;\">\n",
              "\n",
              "  <svg xmlns=\"http://www.w3.org/2000/svg\" height=\"24px\" viewBox=\"0 -960 960 960\">\n",
              "    <path d=\"M120-120v-720h720v720H120Zm60-500h600v-160H180v160Zm220 220h160v-160H400v160Zm0 220h160v-160H400v160ZM180-400h160v-160H180v160Zm440 0h160v-160H620v160ZM180-180h160v-160H180v160Zm440 0h160v-160H620v160Z\"/>\n",
              "  </svg>\n",
              "    </button>\n",
              "\n",
              "  <style>\n",
              "    .colab-df-container {\n",
              "      display:flex;\n",
              "      gap: 12px;\n",
              "    }\n",
              "\n",
              "    .colab-df-convert {\n",
              "      background-color: #E8F0FE;\n",
              "      border: none;\n",
              "      border-radius: 50%;\n",
              "      cursor: pointer;\n",
              "      display: none;\n",
              "      fill: #1967D2;\n",
              "      height: 32px;\n",
              "      padding: 0 0 0 0;\n",
              "      width: 32px;\n",
              "    }\n",
              "\n",
              "    .colab-df-convert:hover {\n",
              "      background-color: #E2EBFA;\n",
              "      box-shadow: 0px 1px 2px rgba(60, 64, 67, 0.3), 0px 1px 3px 1px rgba(60, 64, 67, 0.15);\n",
              "      fill: #174EA6;\n",
              "    }\n",
              "\n",
              "    .colab-df-buttons div {\n",
              "      margin-bottom: 4px;\n",
              "    }\n",
              "\n",
              "    [theme=dark] .colab-df-convert {\n",
              "      background-color: #3B4455;\n",
              "      fill: #D2E3FC;\n",
              "    }\n",
              "\n",
              "    [theme=dark] .colab-df-convert:hover {\n",
              "      background-color: #434B5C;\n",
              "      box-shadow: 0px 1px 3px 1px rgba(0, 0, 0, 0.15);\n",
              "      filter: drop-shadow(0px 1px 2px rgba(0, 0, 0, 0.3));\n",
              "      fill: #FFFFFF;\n",
              "    }\n",
              "  </style>\n",
              "\n",
              "    <script>\n",
              "      const buttonEl =\n",
              "        document.querySelector('#df-b27d57e8-ffdc-4450-8423-292e41b7b256 button.colab-df-convert');\n",
              "      buttonEl.style.display =\n",
              "        google.colab.kernel.accessAllowed ? 'block' : 'none';\n",
              "\n",
              "      async function convertToInteractive(key) {\n",
              "        const element = document.querySelector('#df-b27d57e8-ffdc-4450-8423-292e41b7b256');\n",
              "        const dataTable =\n",
              "          await google.colab.kernel.invokeFunction('convertToInteractive',\n",
              "                                                    [key], {});\n",
              "        if (!dataTable) return;\n",
              "\n",
              "        const docLinkHtml = 'Like what you see? Visit the ' +\n",
              "          '<a target=\"_blank\" href=https://colab.research.google.com/notebooks/data_table.ipynb>data table notebook</a>'\n",
              "          + ' to learn more about interactive tables.';\n",
              "        element.innerHTML = '';\n",
              "        dataTable['output_type'] = 'display_data';\n",
              "        await google.colab.output.renderOutput(dataTable, element);\n",
              "        const docLink = document.createElement('div');\n",
              "        docLink.innerHTML = docLinkHtml;\n",
              "        element.appendChild(docLink);\n",
              "      }\n",
              "    </script>\n",
              "  </div>\n",
              "\n",
              "    </div>\n",
              "  </div>\n"
            ]
          },
          "metadata": {},
          "execution_count": 114
        }
      ]
    },
    {
      "cell_type": "code",
      "execution_count": 115,
      "metadata": {
        "id": "e39d5737",
        "outputId": "1ebcc6e0-a9ff-4f88-fcc0-5702990af4b1",
        "colab": {
          "base_uri": "https://localhost:8080/",
          "height": 518
        }
      },
      "outputs": [
        {
          "output_type": "execute_result",
          "data": {
            "text/plain": [
              "([<matplotlib.patches.Wedge at 0x7c52f978a500>,\n",
              "  <matplotlib.patches.Wedge at 0x7c52f978a710>],\n",
              " [Text(-0.051655737683049645, 1.0987864600387194, 'male'),\n",
              "  Text(0.051655634807235895, -1.0987864648750738, 'female')],\n",
              " [Text(-0.028175856918027077, 0.5993380691120287, '51.50%'),\n",
              "  Text(0.028175800803946847, -0.5993380717500402, '48.50%')])"
            ]
          },
          "metadata": {},
          "execution_count": 115
        },
        {
          "output_type": "display_data",
          "data": {
            "text/plain": [
              "<Figure size 640x480 with 1 Axes>"
            ],
            "image/png": "[encoded data removed]"
          },
          "metadata": {}
        }
      ],
      "source": [
        "# 데이터 분포 확인 - 카테고리형 (파이차트)\n",
        "# 데이터 필터링\n",
        "plt.pie(x=list(X_train['sex'].value_counts()),labels=list(X_train['sex'].unique()),autopct='%.2f%%')"
      ]
    },
    {
      "cell_type": "code",
      "source": [
        "plt.pie(x=list(X_train['smoker'].value_counts()),labels=list(X_train['smoker'].unique()),autopct='%.2f%%')"
      ],
      "metadata": {
        "colab": {
          "base_uri": "https://localhost:8080/",
          "height": 518
        },
        "id": "-vwfjt1f1NdW",
        "outputId": "035c5c2b-ec19-49a1-c709-d2dd25629bfc"
      },
      "execution_count": 116,
      "outputs": [
        {
          "output_type": "execute_result",
          "data": {
            "text/plain": [
              "([<matplotlib.patches.Wedge at 0x7c530223b850>,\n",
              "  <matplotlib.patches.Wedge at 0x7c5302239ea0>],\n",
              " [Text(-0.8685763612924181, 0.6749630394355108, 'no'),\n",
              "  Text(0.8685763928897172, -0.6749629987745163, 'yes')],\n",
              " [Text(-0.4737689243413189, 0.36816165787391497, '78.97%'),\n",
              "  Text(0.47376894157620936, -0.3681616356951906, '21.03%')])"
            ]
          },
          "metadata": {},
          "execution_count": 116
        },
        {
          "output_type": "display_data",
          "data": {
            "text/plain": [
              "<Figure size 640x480 with 1 Axes>"
            ],
            "image/png": "[encoded data removed]"
          },
          "metadata": {}
        }
      ]
    },
    {
      "cell_type": "code",
      "source": [
        "plt.pie(x=list(X_train['region'].value_counts()),labels=list(X_train['region'].unique()),autopct='%.2f%%')"
      ],
      "metadata": {
        "colab": {
          "base_uri": "https://localhost:8080/",
          "height": 630
        },
        "id": "5mOek6v61Q8y",
        "outputId": "ef00920c-e36f-4b59-b106-83ede1bbaa49"
      },
      "execution_count": 117,
      "outputs": [
        {
          "output_type": "execute_result",
          "data": {
            "text/plain": [
              "([<matplotlib.patches.Wedge at 0x7c52f97d3430>,\n",
              "  <matplotlib.patches.Wedge at 0x7c52f97d0310>,\n",
              "  <matplotlib.patches.Wedge at 0x7c52f9808160>,\n",
              "  <matplotlib.patches.Wedge at 0x7c52f98087f0>],\n",
              " [Text(0.6901587370823247, 0.8565517600407642, 'northeast'),\n",
              "  Text(-0.9228307000064723, 0.598651400337095, 'southwest'),\n",
              "  Text(-0.6201602427164654, -0.9085159730867999, 'northwest'),\n",
              "  Text(0.8401061372755997, -0.7100856836409755, 'southeast')],\n",
              " [Text(0.3764502202267225, 0.46721005093132584, '28.41%'),\n",
              "  Text(-0.5033622000035303, 0.3265371274565972, '24.86%'),\n",
              "  Text(-0.33826922329989023, -0.4955541671382544, '24.39%'),\n",
              "  Text(0.4582397112412361, -0.3873194638041684, '22.34%')])"
            ]
          },
          "metadata": {},
          "execution_count": 117
        },
        {
          "output_type": "display_data",
          "data": {
            "text/plain": [
              "<Figure size 640x480 with 1 Axes>"
            ],
            "image/png": "[encoded data removed]"
          },
          "metadata": {}
        }
      ]
    },
    {
      "cell_type": "markdown",
      "source": [
        "## 데이터 상관계수 확인"
      ],
      "metadata": {
        "id": "AaGNJe7C2eL5"
      }
    },
    {
      "cell_type": "code",
      "source": [
        "X_corr=X_train.drop('id',axis=1) # id 변수 제거\n",
        "X_corr['target']=y_train['charges']\n",
        "sns.heatmap(X_corr.corr(), annot=True)\n",
        "# 변수간의 상관관계가 크지 않은 것을 확인함"
      ],
      "metadata": {
        "colab": {
          "base_uri": "https://localhost:8080/",
          "height": 459
        },
        "id": "IbGaveEM2gMc",
        "outputId": "64fbbd40-5cdc-4ea4-faab-e5d1ed43361d"
      },
      "execution_count": 118,
      "outputs": [
        {
          "output_type": "execute_result",
          "data": {
            "text/plain": [
              "<Axes: >"
            ]
          },
          "metadata": {},
          "execution_count": 118
        },
        {
          "output_type": "display_data",
          "data": {
            "text/plain": [
              "<Figure size 640x480 with 2 Axes>"
            ],
            "image/png": "[encoded data removed]"
          },
          "metadata": {}
        }
      ]
    },
    {
      "cell_type": "markdown",
      "metadata": {
        "id": "dfe810c0"
      },
      "source": [
        "### 데이터 전처리\n",
        "\n",
        "데이터 전처리가 필요하다면 진행하세요"
      ]
    },
    {
      "cell_type": "code",
      "execution_count": 119,
      "metadata": {
        "id": "49bebb39",
        "colab": {
          "base_uri": "https://localhost:8080/"
        },
        "outputId": "4ee80388-d1f4-46ae-daad-3ea64fea68df"
      },
      "outputs": [
        {
          "output_type": "execute_result",
          "data": {
            "text/plain": [
              "id         0\n",
              "charges    0\n",
              "dtype: int64"
            ]
          },
          "metadata": {},
          "execution_count": 119
        }
      ],
      "source": [
        "# 결측치\n",
        "X_train.isna().sum() # 결측치 없음\n",
        "X_test.isna().sum() # 결측치 없음\n",
        "y_train.isna().sum() # 결측치 없음\n",
        "y_test.isna().sum() # 결측치 없음\n"
      ]
    },
    {
      "cell_type": "code",
      "execution_count": 120,
      "metadata": {
        "id": "0e964194",
        "colab": {
          "base_uri": "https://localhost:8080/"
        },
        "outputId": "80cec27c-6386-4beb-de04-2f0c6f4a5dcb"
      },
      "outputs": [
        {
          "output_type": "stream",
          "name": "stdout",
          "text": [
            "<class 'pandas.core.frame.DataFrame'>\n",
            "Int64Index: 1070 entries, 209 to 1140\n",
            "Data columns (total 7 columns):\n",
            " #   Column    Non-Null Count  Dtype  \n",
            "---  ------    --------------  -----  \n",
            " 0   id        1070 non-null   int64  \n",
            " 1   age       1070 non-null   int64  \n",
            " 2   sex       1070 non-null   object \n",
            " 3   bmi       1070 non-null   float64\n",
            " 4   children  1070 non-null   int64  \n",
            " 5   smoker    1070 non-null   object \n",
            " 6   region    1070 non-null   object \n",
            "dtypes: float64(1), int64(3), object(3)\n",
            "memory usage: 66.9+ KB\n"
          ]
        }
      ],
      "source": [
        "# 데이터 타입 변환\n",
        "X_train.info()"
      ]
    },
    {
      "cell_type": "code",
      "execution_count": 121,
      "metadata": {
        "id": "8d6bc25d"
      },
      "outputs": [],
      "source": [
        "# 인코딩\n",
        "#X_train=pd.get_dummies(X_train['sex'])\n",
        "X_train = pd.get_dummies(data=X_train, columns=['sex'], dtype=float)\n",
        "X_train = pd.get_dummies(data=X_train, columns=['smoker'], dtype=float)\n",
        "X_train = pd.get_dummies(data=X_train, columns=['region'], dtype=float)"
      ]
    },
    {
      "cell_type": "code",
      "source": [
        "X_test = pd.get_dummies(data=X_test, columns=['sex'], dtype=float)\n",
        "X_test = pd.get_dummies(data=X_test, columns=['smoker'], dtype=float)\n",
        "X_test = pd.get_dummies(data=X_test, columns=['region'], dtype=float)"
      ],
      "metadata": {
        "id": "sbIwkwIk9JYE"
      },
      "execution_count": 122,
      "outputs": []
    },
    {
      "cell_type": "code",
      "source": [
        "# 그 외 필요한 전처리\n",
        "X_train.drop('id',axis=1,inplace=True)\n",
        "X_test.drop('id',axis=1,inplace=True)\n",
        "y_train.drop('id',axis=1,inplace=True)\n",
        "y_test.drop('id',axis=1,inplace=True)\n",
        "\n",
        "\n"
      ],
      "metadata": {
        "id": "8e2ArRoZLdsm"
      },
      "execution_count": 123,
      "outputs": []
    },
    {
      "cell_type": "code",
      "source": [
        "R2=[]\n",
        "MAE=[]\n",
        "MSE=[]\n",
        "RMSE=[]"
      ],
      "metadata": {
        "id": "_Q-nyDpbHC5Y"
      },
      "execution_count": 124,
      "outputs": []
    },
    {
      "cell_type": "markdown",
      "metadata": {
        "id": "0847211e"
      },
      "source": [
        "### 모델링"
      ]
    },
    {
      "cell_type": "code",
      "execution_count": 125,
      "metadata": {
        "id": "141a7ef4"
      },
      "outputs": [],
      "source": [
        "# Train-Validation Split\n",
        "# from sklearn.model_selection import train_test_split\n",
        "# X_tr, X_val, y_tr, y_val = train_test_split()\n",
        "\n",
        "#수업시간에는 cross validation과 tuning을 sklearn 함수인 gridsearchCV를 사용해 편리하게 했습니다.\n",
        "#이번 과제에서도 해당 함수를 사용하셔도 됩니다.\n",
        "#그러나 cross validation도 train_test_split 함수를 사용해 validation dataset을 만들어 직접 하이퍼 파라미터 튜닝을 할 수 있습니다.\n",
        "#한번 직접 구현해 보실 분들은 for를 사용해서 직접 해 보시는 걸 추천합니다."
      ]
    },
    {
      "cell_type": "markdown",
      "source": [
        "## Elastic Net"
      ],
      "metadata": {
        "id": "7xM2qgI9AfQb"
      }
    },
    {
      "cell_type": "code",
      "source": [
        "from sklearn.linear_model import ElasticNet\n",
        "\n",
        "elastic = ElasticNet(alpha=0.1, l1_ratio=0.3)\n",
        "elastic.fit(X_train, y_train)\n",
        "elastic"
      ],
      "metadata": {
        "colab": {
          "base_uri": "https://localhost:8080/",
          "height": 74
        },
        "id": "LqrvDuOF46dF",
        "outputId": "f1e12583-e3b7-4ac8-933f-ae2d3e14a5fc"
      },
      "execution_count": 126,
      "outputs": [
        {
          "output_type": "execute_result",
          "data": {
            "text/plain": [
              "ElasticNet(alpha=0.1, l1_ratio=0.3)"
            ],
            "text/html": [
              "<style>#sk-container-id-11 {color: black;background-color: white;}#sk-container-id-11 pre{padding: 0;}#sk-container-id-11 div.sk-toggleable {background-color: white;}#sk-container-id-11 label.sk-toggleable__label {cursor: pointer;display: block;width: 100%;margin-bottom: 0;padding: 0.3em;box-sizing: border-box;text-align: center;}#sk-container-id-11 label.sk-toggleable__label-arrow:before {content: \"▸\";float: left;margin-right: 0.25em;color: #696969;}#sk-container-id-11 label.sk-toggleable__label-arrow:hover:before {color: black;}#sk-container-id-11 div.sk-estimator:hover label.sk-toggleable__label-arrow:before {color: black;}#sk-container-id-11 div.sk-toggleable__content {max-height: 0;max-width: 0;overflow: hidden;text-align: left;background-color: #f0f8ff;}#sk-container-id-11 div.sk-toggleable__content pre {margin: 0.2em;color: black;border-radius: 0.25em;background-color: #f0f8ff;}#sk-container-id-11 input.sk-toggleable__control:checked~div.sk-toggleable__content {max-height: 200px;max-width: 100%;overflow: auto;}#sk-container-id-11 input.sk-toggleable__control:checked~label.sk-toggleable__label-arrow:before {content: \"▾\";}#sk-container-id-11 div.sk-estimator input.sk-toggleable__control:checked~label.sk-toggleable__label {background-color: #d4ebff;}#sk-container-id-11 div.sk-label input.sk-toggleable__control:checked~label.sk-toggleable__label {background-color: #d4ebff;}#sk-container-id-11 input.sk-hidden--visually {border: 0;clip: rect(1px 1px 1px 1px);clip: rect(1px, 1px, 1px, 1px);height: 1px;margin: -1px;overflow: hidden;padding: 0;position: absolute;width: 1px;}#sk-container-id-11 div.sk-estimator {font-family: monospace;background-color: #f0f8ff;border: 1px dotted black;border-radius: 0.25em;box-sizing: border-box;margin-bottom: 0.5em;}#sk-container-id-11 div.sk-estimator:hover {background-color: #d4ebff;}#sk-container-id-11 div.sk-parallel-item::after {content: \"\";width: 100%;border-bottom: 1px solid gray;flex-grow: 1;}#sk-container-id-11 div.sk-label:hover label.sk-toggleable__label {background-color: #d4ebff;}#sk-container-id-11 div.sk-serial::before {content: \"\";position: absolute;border-left: 1px solid gray;box-sizing: border-box;top: 0;bottom: 0;left: 50%;z-index: 0;}#sk-container-id-11 div.sk-serial {display: flex;flex-direction: column;align-items: center;background-color: white;padding-right: 0.2em;padding-left: 0.2em;position: relative;}#sk-container-id-11 div.sk-item {position: relative;z-index: 1;}#sk-container-id-11 div.sk-parallel {display: flex;align-items: stretch;justify-content: center;background-color: white;position: relative;}#sk-container-id-11 div.sk-item::before, #sk-container-id-11 div.sk-parallel-item::before {content: \"\";position: absolute;border-left: 1px solid gray;box-sizing: border-box;top: 0;bottom: 0;left: 50%;z-index: -1;}#sk-container-id-11 div.sk-parallel-item {display: flex;flex-direction: column;z-index: 1;position: relative;background-color: white;}#sk-container-id-11 div.sk-parallel-item:first-child::after {align-self: flex-end;width: 50%;}#sk-container-id-11 div.sk-parallel-item:last-child::after {align-self: flex-start;width: 50%;}#sk-container-id-11 div.sk-parallel-item:only-child::after {width: 0;}#sk-container-id-11 div.sk-dashed-wrapped {border: 1px dashed gray;margin: 0 0.4em 0.5em 0.4em;box-sizing: border-box;padding-bottom: 0.4em;background-color: white;}#sk-container-id-11 div.sk-label label {font-family: monospace;font-weight: bold;display: inline-block;line-height: 1.2em;}#sk-container-id-11 div.sk-label-container {text-align: center;}#sk-container-id-11 div.sk-container {/* jupyter's `normalize.less` sets `[hidden] { display: none; }` but bootstrap.min.css set `[hidden] { display: none !important; }` so we also need the `!important` here to be able to override the default hidden behavior on the sphinx rendered scikit-learn.org. See: https://github.com/scikit-learn/scikit-learn/issues/21755 */display: inline-block !important;position: relative;}#sk-container-id-11 div.sk-text-repr-fallback {display: none;}</style><div id=\"sk-container-id-11\" class=\"sk-top-container\"><div class=\"sk-text-repr-fallback\"><pre>ElasticNet(alpha=0.1, l1_ratio=0.3)</pre><b>In a Jupyter environment, please rerun this cell to show the HTML representation or trust the notebook. <br />On GitHub, the HTML representation is unable to render, please try loading this page with nbviewer.org.</b></div><div class=\"sk-container\" hidden><div class=\"sk-item\"><div class=\"sk-estimator sk-toggleable\"><input class=\"sk-toggleable__control sk-hidden--visually\" id=\"sk-estimator-id-23\" type=\"checkbox\" checked><label for=\"sk-estimator-id-23\" class=\"sk-toggleable__label sk-toggleable__label-arrow\">ElasticNet</label><div class=\"sk-toggleable__content\"><pre>ElasticNet(alpha=0.1, l1_ratio=0.3)</pre></div></div></div></div></div>"
            ]
          },
          "metadata": {},
          "execution_count": 126
        }
      ]
    },
    {
      "cell_type": "code",
      "source": [
        "print(\"This model accuracy is {}%\".format(round(elastic.score(X_test, y_test)*100,2)))"
      ],
      "metadata": {
        "colab": {
          "base_uri": "https://localhost:8080/"
        },
        "id": "CgUoGEkd-X05",
        "outputId": "a7041f50-8697-4dce-baeb-a5c6489922ef"
      },
      "execution_count": 127,
      "outputs": [
        {
          "output_type": "stream",
          "name": "stdout",
          "text": [
            "This model accuracy is 72.81%\n"
          ]
        }
      ]
    },
    {
      "cell_type": "code",
      "source": [
        "# CV를 이용해 하이퍼 파라미터 튜닝 --> 모델 성능 최적화\n",
        "elastic.score(X_train, y_train)\n",
        "import warnings\n",
        "warnings.filterwarnings(\"ignore\")\n",
        "\n",
        "from sklearn.model_selection import GridSearchCV\n",
        "\n",
        "model = ElasticNet()\n",
        "\n",
        "parametersGrid = {\n",
        "                \"alpha\": [0.0001, 0.01, 1, 10, 100],\n",
        "                \"l1_ratio\": np.arange(0.0, 1.2, 0.2)}\n",
        "\n",
        "grid_els = GridSearchCV(model, param_grid = parametersGrid, cv=3, refit = True ,  scoring='r2')\n",
        "\n",
        "# refit : True가 디폴트, True이면 가장 좋은 파라미터 설정으로 학습시켜서 모델 반환\n",
        "\n",
        "grid_els.fit(X_train, y_train)"
      ],
      "metadata": {
        "id": "3vD5EEr0NabX",
        "colab": {
          "base_uri": "https://localhost:8080/",
          "height": 116
        },
        "outputId": "13d87bca-1f62-406b-e1f9-2af4ad539bcd"
      },
      "execution_count": 128,
      "outputs": [
        {
          "output_type": "execute_result",
          "data": {
            "text/plain": [
              "GridSearchCV(cv=3, estimator=ElasticNet(),\n",
              "             param_grid={'alpha': [0.0001, 0.01, 1, 10, 100],\n",
              "                         'l1_ratio': array([0. , 0.2, 0.4, 0.6, 0.8, 1. ])},\n",
              "             scoring='r2')"
            ],
            "text/html": [
              "<style>#sk-container-id-12 {color: black;background-color: white;}#sk-container-id-12 pre{padding: 0;}#sk-container-id-12 div.sk-toggleable {background-color: white;}#sk-container-id-12 label.sk-toggleable__label {cursor: pointer;display: block;width: 100%;margin-bottom: 0;padding: 0.3em;box-sizing: border-box;text-align: center;}#sk-container-id-12 label.sk-toggleable__label-arrow:before {content: \"▸\";float: left;margin-right: 0.25em;color: #696969;}#sk-container-id-12 label.sk-toggleable__label-arrow:hover:before {color: black;}#sk-container-id-12 div.sk-estimator:hover label.sk-toggleable__label-arrow:before {color: black;}#sk-container-id-12 div.sk-toggleable__content {max-height: 0;max-width: 0;overflow: hidden;text-align: left;background-color: #f0f8ff;}#sk-container-id-12 div.sk-toggleable__content pre {margin: 0.2em;color: black;border-radius: 0.25em;background-color: #f0f8ff;}#sk-container-id-12 input.sk-toggleable__control:checked~div.sk-toggleable__content {max-height: 200px;max-width: 100%;overflow: auto;}#sk-container-id-12 input.sk-toggleable__control:checked~label.sk-toggleable__label-arrow:before {content: \"▾\";}#sk-container-id-12 div.sk-estimator input.sk-toggleable__control:checked~label.sk-toggleable__label {background-color: #d4ebff;}#sk-container-id-12 div.sk-label input.sk-toggleable__control:checked~label.sk-toggleable__label {background-color: #d4ebff;}#sk-container-id-12 input.sk-hidden--visually {border: 0;clip: rect(1px 1px 1px 1px);clip: rect(1px, 1px, 1px, 1px);height: 1px;margin: -1px;overflow: hidden;padding: 0;position: absolute;width: 1px;}#sk-container-id-12 div.sk-estimator {font-family: monospace;background-color: #f0f8ff;border: 1px dotted black;border-radius: 0.25em;box-sizing: border-box;margin-bottom: 0.5em;}#sk-container-id-12 div.sk-estimator:hover {background-color: #d4ebff;}#sk-container-id-12 div.sk-parallel-item::after {content: \"\";width: 100%;border-bottom: 1px solid gray;flex-grow: 1;}#sk-container-id-12 div.sk-label:hover label.sk-toggleable__label {background-color: #d4ebff;}#sk-container-id-12 div.sk-serial::before {content: \"\";position: absolute;border-left: 1px solid gray;box-sizing: border-box;top: 0;bottom: 0;left: 50%;z-index: 0;}#sk-container-id-12 div.sk-serial {display: flex;flex-direction: column;align-items: center;background-color: white;padding-right: 0.2em;padding-left: 0.2em;position: relative;}#sk-container-id-12 div.sk-item {position: relative;z-index: 1;}#sk-container-id-12 div.sk-parallel {display: flex;align-items: stretch;justify-content: center;background-color: white;position: relative;}#sk-container-id-12 div.sk-item::before, #sk-container-id-12 div.sk-parallel-item::before {content: \"\";position: absolute;border-left: 1px solid gray;box-sizing: border-box;top: 0;bottom: 0;left: 50%;z-index: -1;}#sk-container-id-12 div.sk-parallel-item {display: flex;flex-direction: column;z-index: 1;position: relative;background-color: white;}#sk-container-id-12 div.sk-parallel-item:first-child::after {align-self: flex-end;width: 50%;}#sk-container-id-12 div.sk-parallel-item:last-child::after {align-self: flex-start;width: 50%;}#sk-container-id-12 div.sk-parallel-item:only-child::after {width: 0;}#sk-container-id-12 div.sk-dashed-wrapped {border: 1px dashed gray;margin: 0 0.4em 0.5em 0.4em;box-sizing: border-box;padding-bottom: 0.4em;background-color: white;}#sk-container-id-12 div.sk-label label {font-family: monospace;font-weight: bold;display: inline-block;line-height: 1.2em;}#sk-container-id-12 div.sk-label-container {text-align: center;}#sk-container-id-12 div.sk-container {/* jupyter's `normalize.less` sets `[hidden] { display: none; }` but bootstrap.min.css set `[hidden] { display: none !important; }` so we also need the `!important` here to be able to override the default hidden behavior on the sphinx rendered scikit-learn.org. See: https://github.com/scikit-learn/scikit-learn/issues/21755 */display: inline-block !important;position: relative;}#sk-container-id-12 div.sk-text-repr-fallback {display: none;}</style><div id=\"sk-container-id-12\" class=\"sk-top-container\"><div class=\"sk-text-repr-fallback\"><pre>GridSearchCV(cv=3, estimator=ElasticNet(),\n",
              "             param_grid={&#x27;alpha&#x27;: [0.0001, 0.01, 1, 10, 100],\n",
              "                         &#x27;l1_ratio&#x27;: array([0. , 0.2, 0.4, 0.6, 0.8, 1. ])},\n",
              "             scoring=&#x27;r2&#x27;)</pre><b>In a Jupyter environment, please rerun this cell to show the HTML representation or trust the notebook. <br />On GitHub, the HTML representation is unable to render, please try loading this page with nbviewer.org.</b></div><div class=\"sk-container\" hidden><div class=\"sk-item sk-dashed-wrapped\"><div class=\"sk-label-container\"><div class=\"sk-label sk-toggleable\"><input class=\"sk-toggleable__control sk-hidden--visually\" id=\"sk-estimator-id-24\" type=\"checkbox\" ><label for=\"sk-estimator-id-24\" class=\"sk-toggleable__label sk-toggleable__label-arrow\">GridSearchCV</label><div class=\"sk-toggleable__content\"><pre>GridSearchCV(cv=3, estimator=ElasticNet(),\n",
              "             param_grid={&#x27;alpha&#x27;: [0.0001, 0.01, 1, 10, 100],\n",
              "                         &#x27;l1_ratio&#x27;: array([0. , 0.2, 0.4, 0.6, 0.8, 1. ])},\n",
              "             scoring=&#x27;r2&#x27;)</pre></div></div></div><div class=\"sk-parallel\"><div class=\"sk-parallel-item\"><div class=\"sk-item\"><div class=\"sk-label-container\"><div class=\"sk-label sk-toggleable\"><input class=\"sk-toggleable__control sk-hidden--visually\" id=\"sk-estimator-id-25\" type=\"checkbox\" ><label for=\"sk-estimator-id-25\" class=\"sk-toggleable__label sk-toggleable__label-arrow\">estimator: ElasticNet</label><div class=\"sk-toggleable__content\"><pre>ElasticNet()</pre></div></div></div><div class=\"sk-serial\"><div class=\"sk-item\"><div class=\"sk-estimator sk-toggleable\"><input class=\"sk-toggleable__control sk-hidden--visually\" id=\"sk-estimator-id-26\" type=\"checkbox\" ><label for=\"sk-estimator-id-26\" class=\"sk-toggleable__label sk-toggleable__label-arrow\">ElasticNet</label><div class=\"sk-toggleable__content\"><pre>ElasticNet()</pre></div></div></div></div></div></div></div></div></div></div>"
            ]
          },
          "metadata": {},
          "execution_count": 128
        }
      ]
    },
    {
      "cell_type": "code",
      "source": [
        "pd.DataFrame(grid_els.cv_results_)[['params', 'mean_test_score', 'rank_test_score', 'split0_test_score', 'split1_test_score', 'split2_test_score']]"
      ],
      "metadata": {
        "colab": {
          "base_uri": "https://localhost:8080/",
          "height": 990
        },
        "id": "HuKVw7A86_1o",
        "outputId": "297f2039-8f37-48ba-cdc7-ef75f8080a4f"
      },
      "execution_count": 129,
      "outputs": [
        {
          "output_type": "execute_result",
          "data": {
            "text/plain": [
              "                                               params  mean_test_score  \\\n",
              "0                  {'alpha': 0.0001, 'l1_ratio': 0.0}         0.748488   \n",
              "1                  {'alpha': 0.0001, 'l1_ratio': 0.2}         0.748488   \n",
              "2                  {'alpha': 0.0001, 'l1_ratio': 0.4}         0.748487   \n",
              "3   {'alpha': 0.0001, 'l1_ratio': 0.6000000000000001}         0.748487   \n",
              "4                  {'alpha': 0.0001, 'l1_ratio': 0.8}         0.748487   \n",
              "5                  {'alpha': 0.0001, 'l1_ratio': 1.0}         0.748487   \n",
              "6                    {'alpha': 0.01, 'l1_ratio': 0.0}         0.748098   \n",
              "7                    {'alpha': 0.01, 'l1_ratio': 0.2}         0.748266   \n",
              "8                    {'alpha': 0.01, 'l1_ratio': 0.4}         0.748390   \n",
              "9     {'alpha': 0.01, 'l1_ratio': 0.6000000000000001}         0.748470   \n",
              "10                   {'alpha': 0.01, 'l1_ratio': 0.8}         0.748502   \n",
              "11                   {'alpha': 0.01, 'l1_ratio': 1.0}         0.748487   \n",
              "12                      {'alpha': 1, 'l1_ratio': 0.0}         0.386442   \n",
              "13                      {'alpha': 1, 'l1_ratio': 0.2}         0.427516   \n",
              "14                      {'alpha': 1, 'l1_ratio': 0.4}         0.481904   \n",
              "15       {'alpha': 1, 'l1_ratio': 0.6000000000000001}         0.556103   \n",
              "16                      {'alpha': 1, 'l1_ratio': 0.8}         0.657239   \n",
              "17                      {'alpha': 1, 'l1_ratio': 1.0}         0.748487   \n",
              "18                     {'alpha': 10, 'l1_ratio': 0.0}         0.145204   \n",
              "19                     {'alpha': 10, 'l1_ratio': 0.2}         0.155219   \n",
              "20                     {'alpha': 10, 'l1_ratio': 0.4}         0.171063   \n",
              "21      {'alpha': 10, 'l1_ratio': 0.6000000000000001}         0.200511   \n",
              "22                     {'alpha': 10, 'l1_ratio': 0.8}         0.275846   \n",
              "23                     {'alpha': 10, 'l1_ratio': 1.0}         0.748470   \n",
              "24                    {'alpha': 100, 'l1_ratio': 0.0}         0.086474   \n",
              "25                    {'alpha': 100, 'l1_ratio': 0.2}         0.091646   \n",
              "26                    {'alpha': 100, 'l1_ratio': 0.4}         0.097949   \n",
              "27     {'alpha': 100, 'l1_ratio': 0.6000000000000001}         0.106472   \n",
              "28                    {'alpha': 100, 'l1_ratio': 0.8}         0.122084   \n",
              "29                    {'alpha': 100, 'l1_ratio': 1.0}         0.747190   \n",
              "\n",
              "    rank_test_score  split0_test_score  split1_test_score  split2_test_score  \n",
              "0                 2           0.793918           0.712409           0.739138  \n",
              "1                 3           0.793923           0.712405           0.739136  \n",
              "2                 4           0.793928           0.712401           0.739134  \n",
              "3                 5           0.793932           0.712398           0.739132  \n",
              "4                 6           0.793935           0.712395           0.739131  \n",
              "5                 8           0.793935           0.712394           0.739131  \n",
              "6                14           0.790880           0.713737           0.739679  \n",
              "7                13           0.791563           0.713584           0.739652  \n",
              "8                12           0.792211           0.713375           0.739585  \n",
              "9                11           0.792824           0.713108           0.739477  \n",
              "10                1           0.793399           0.712782           0.739326  \n",
              "11                7           0.793935           0.712394           0.739131  \n",
              "12               20           0.377944           0.366422           0.414960  \n",
              "13               19           0.421383           0.406647           0.454517  \n",
              "14               18           0.479373           0.460050           0.506288  \n",
              "15               17           0.559587           0.533091           0.575631  \n",
              "16               16           0.672338           0.632489           0.666890  \n",
              "17                9           0.793921           0.712423           0.739116  \n",
              "18               25           0.128359           0.134530           0.172724  \n",
              "19               24           0.138362           0.143657           0.183638  \n",
              "20               23           0.154374           0.158366           0.200449  \n",
              "21               22           0.184449           0.186215           0.230870  \n",
              "22               21           0.262240           0.258724           0.306572  \n",
              "23               10           0.793771           0.712665           0.738974  \n",
              "24               30           0.076533           0.083522           0.099366  \n",
              "25               29           0.080602           0.088231           0.106103  \n",
              "26               28           0.085565           0.093834           0.114449  \n",
              "27               27           0.092439           0.101165           0.125814  \n",
              "28               26           0.106078           0.114292           0.145884  \n",
              "29               15           0.791716           0.713467           0.736386  "
            ],
            "text/html": [
              "\n",
              "  <div id=\"df-45af999d-ac60-4b4b-b064-95d617377127\" class=\"colab-df-container\">\n",
              "    <div>\n",
              "<style scoped>\n",
              "    .dataframe tbody tr th:only-of-type {\n",
              "        vertical-align: middle;\n",
              "    }\n",
              "\n",
              "    .dataframe tbody tr th {\n",
              "        vertical-align: top;\n",
              "    }\n",
              "\n",
              "    .dataframe thead th {\n",
              "        text-align: right;\n",
              "    }\n",
              "</style>\n",
              "<table border=\"1\" class=\"dataframe\">\n",
              "  <thead>\n",
              "    <tr style=\"text-align: right;\">\n",
              "      <th></th>\n",
              "      <th>params</th>\n",
              "      <th>mean_test_score</th>\n",
              "      <th>rank_test_score</th>\n",
              "      <th>split0_test_score</th>\n",
              "      <th>split1_test_score</th>\n",
              "      <th>split2_test_score</th>\n",
              "    </tr>\n",
              "  </thead>\n",
              "  <tbody>\n",
              "    <tr>\n",
              "      <th>0</th>\n",
              "      <td>{'alpha': 0.0001, 'l1_ratio': 0.0}</td>\n",
              "      <td>0.748488</td>\n",
              "      <td>2</td>\n",
              "      <td>0.793918</td>\n",
              "      <td>0.712409</td>\n",
              "      <td>0.739138</td>\n",
              "    </tr>\n",
              "    <tr>\n",
              "      <th>1</th>\n",
              "      <td>{'alpha': 0.0001, 'l1_ratio': 0.2}</td>\n",
              "      <td>0.748488</td>\n",
              "      <td>3</td>\n",
              "      <td>0.793923</td>\n",
              "      <td>0.712405</td>\n",
              "      <td>0.739136</td>\n",
              "    </tr>\n",
              "    <tr>\n",
              "      <th>2</th>\n",
              "      <td>{'alpha': 0.0001, 'l1_ratio': 0.4}</td>\n",
              "      <td>0.748487</td>\n",
              "      <td>4</td>\n",
              "      <td>0.793928</td>\n",
              "      <td>0.712401</td>\n",
              "      <td>0.739134</td>\n",
              "    </tr>\n",
              "    <tr>\n",
              "      <th>3</th>\n",
              "      <td>{'alpha': 0.0001, 'l1_ratio': 0.6000000000000001}</td>\n",
              "      <td>0.748487</td>\n",
              "      <td>5</td>\n",
              "      <td>0.793932</td>\n",
              "      <td>0.712398</td>\n",
              "      <td>0.739132</td>\n",
              "    </tr>\n",
              "    <tr>\n",
              "      <th>4</th>\n",
              "      <td>{'alpha': 0.0001, 'l1_ratio': 0.8}</td>\n",
              "      <td>0.748487</td>\n",
              "      <td>6</td>\n",
              "      <td>0.793935</td>\n",
              "      <td>0.712395</td>\n",
              "      <td>0.739131</td>\n",
              "    </tr>\n",
              "    <tr>\n",
              "      <th>5</th>\n",
              "      <td>{'alpha': 0.0001, 'l1_ratio': 1.0}</td>\n",
              "      <td>0.748487</td>\n",
              "      <td>8</td>\n",
              "      <td>0.793935</td>\n",
              "      <td>0.712394</td>\n",
              "      <td>0.739131</td>\n",
              "    </tr>\n",
              "    <tr>\n",
              "      <th>6</th>\n",
              "      <td>{'alpha': 0.01, 'l1_ratio': 0.0}</td>\n",
              "      <td>0.748098</td>\n",
              "      <td>14</td>\n",
              "      <td>0.790880</td>\n",
              "      <td>0.713737</td>\n",
              "      <td>0.739679</td>\n",
              "    </tr>\n",
              "    <tr>\n",
              "      <th>7</th>\n",
              "      <td>{'alpha': 0.01, 'l1_ratio': 0.2}</td>\n",
              "      <td>0.748266</td>\n",
              "      <td>13</td>\n",
              "      <td>0.791563</td>\n",
              "      <td>0.713584</td>\n",
              "      <td>0.739652</td>\n",
              "    </tr>\n",
              "    <tr>\n",
              "      <th>8</th>\n",
              "      <td>{'alpha': 0.01, 'l1_ratio': 0.4}</td>\n",
              "      <td>0.748390</td>\n",
              "      <td>12</td>\n",
              "      <td>0.792211</td>\n",
              "      <td>0.713375</td>\n",
              "      <td>0.739585</td>\n",
              "    </tr>\n",
              "    <tr>\n",
              "      <th>9</th>\n",
              "      <td>{'alpha': 0.01, 'l1_ratio': 0.6000000000000001}</td>\n",
              "      <td>0.748470</td>\n",
              "      <td>11</td>\n",
              "      <td>0.792824</td>\n",
              "      <td>0.713108</td>\n",
              "      <td>0.739477</td>\n",
              "    </tr>\n",
              "    <tr>\n",
              "      <th>10</th>\n",
              "      <td>{'alpha': 0.01, 'l1_ratio': 0.8}</td>\n",
              "      <td>0.748502</td>\n",
              "      <td>1</td>\n",
              "      <td>0.793399</td>\n",
              "      <td>0.712782</td>\n",
              "      <td>0.739326</td>\n",
              "    </tr>\n",
              "    <tr>\n",
              "      <th>11</th>\n",
              "      <td>{'alpha': 0.01, 'l1_ratio': 1.0}</td>\n",
              "      <td>0.748487</td>\n",
              "      <td>7</td>\n",
              "      <td>0.793935</td>\n",
              "      <td>0.712394</td>\n",
              "      <td>0.739131</td>\n",
              "    </tr>\n",
              "    <tr>\n",
              "      <th>12</th>\n",
              "      <td>{'alpha': 1, 'l1_ratio': 0.0}</td>\n",
              "      <td>0.386442</td>\n",
              "      <td>20</td>\n",
              "      <td>0.377944</td>\n",
              "      <td>0.366422</td>\n",
              "      <td>0.414960</td>\n",
              "    </tr>\n",
              "    <tr>\n",
              "      <th>13</th>\n",
              "      <td>{'alpha': 1, 'l1_ratio': 0.2}</td>\n",
              "      <td>0.427516</td>\n",
              "      <td>19</td>\n",
              "      <td>0.421383</td>\n",
              "      <td>0.406647</td>\n",
              "      <td>0.454517</td>\n",
              "    </tr>\n",
              "    <tr>\n",
              "      <th>14</th>\n",
              "      <td>{'alpha': 1, 'l1_ratio': 0.4}</td>\n",
              "      <td>0.481904</td>\n",
              "      <td>18</td>\n",
              "      <td>0.479373</td>\n",
              "      <td>0.460050</td>\n",
              "      <td>0.506288</td>\n",
              "    </tr>\n",
              "    <tr>\n",
              "      <th>15</th>\n",
              "      <td>{'alpha': 1, 'l1_ratio': 0.6000000000000001}</td>\n",
              "      <td>0.556103</td>\n",
              "      <td>17</td>\n",
              "      <td>0.559587</td>\n",
              "      <td>0.533091</td>\n",
              "      <td>0.575631</td>\n",
              "    </tr>\n",
              "    <tr>\n",
              "      <th>16</th>\n",
              "      <td>{'alpha': 1, 'l1_ratio': 0.8}</td>\n",
              "      <td>0.657239</td>\n",
              "      <td>16</td>\n",
              "      <td>0.672338</td>\n",
              "      <td>0.632489</td>\n",
              "      <td>0.666890</td>\n",
              "    </tr>\n",
              "    <tr>\n",
              "      <th>17</th>\n",
              "      <td>{'alpha': 1, 'l1_ratio': 1.0}</td>\n",
              "      <td>0.748487</td>\n",
              "      <td>9</td>\n",
              "      <td>0.793921</td>\n",
              "      <td>0.712423</td>\n",
              "      <td>0.739116</td>\n",
              "    </tr>\n",
              "    <tr>\n",
              "      <th>18</th>\n",
              "      <td>{'alpha': 10, 'l1_ratio': 0.0}</td>\n",
              "      <td>0.145204</td>\n",
              "      <td>25</td>\n",
              "      <td>0.128359</td>\n",
              "      <td>0.134530</td>\n",
              "      <td>0.172724</td>\n",
              "    </tr>\n",
              "    <tr>\n",
              "      <th>19</th>\n",
              "      <td>{'alpha': 10, 'l1_ratio': 0.2}</td>\n",
              "      <td>0.155219</td>\n",
              "      <td>24</td>\n",
              "      <td>0.138362</td>\n",
              "      <td>0.143657</td>\n",
              "      <td>0.183638</td>\n",
              "    </tr>\n",
              "    <tr>\n",
              "      <th>20</th>\n",
              "      <td>{'alpha': 10, 'l1_ratio': 0.4}</td>\n",
              "      <td>0.171063</td>\n",
              "      <td>23</td>\n",
              "      <td>0.154374</td>\n",
              "      <td>0.158366</td>\n",
              "      <td>0.200449</td>\n",
              "    </tr>\n",
              "    <tr>\n",
              "      <th>21</th>\n",
              "      <td>{'alpha': 10, 'l1_ratio': 0.6000000000000001}</td>\n",
              "      <td>0.200511</td>\n",
              "      <td>22</td>\n",
              "      <td>0.184449</td>\n",
              "      <td>0.186215</td>\n",
              "      <td>0.230870</td>\n",
              "    </tr>\n",
              "    <tr>\n",
              "      <th>22</th>\n",
              "      <td>{'alpha': 10, 'l1_ratio': 0.8}</td>\n",
              "      <td>0.275846</td>\n",
              "      <td>21</td>\n",
              "      <td>0.262240</td>\n",
              "      <td>0.258724</td>\n",
              "      <td>0.306572</td>\n",
              "    </tr>\n",
              "    <tr>\n",
              "      <th>23</th>\n",
              "      <td>{'alpha': 10, 'l1_ratio': 1.0}</td>\n",
              "      <td>0.748470</td>\n",
              "      <td>10</td>\n",
              "      <td>0.793771</td>\n",
              "      <td>0.712665</td>\n",
              "      <td>0.738974</td>\n",
              "    </tr>\n",
              "    <tr>\n",
              "      <th>24</th>\n",
              "      <td>{'alpha': 100, 'l1_ratio': 0.0}</td>\n",
              "      <td>0.086474</td>\n",
              "      <td>30</td>\n",
              "      <td>0.076533</td>\n",
              "      <td>0.083522</td>\n",
              "      <td>0.099366</td>\n",
              "    </tr>\n",
              "    <tr>\n",
              "      <th>25</th>\n",
              "      <td>{'alpha': 100, 'l1_ratio': 0.2}</td>\n",
              "      <td>0.091646</td>\n",
              "      <td>29</td>\n",
              "      <td>0.080602</td>\n",
              "      <td>0.088231</td>\n",
              "      <td>0.106103</td>\n",
              "    </tr>\n",
              "    <tr>\n",
              "      <th>26</th>\n",
              "      <td>{'alpha': 100, 'l1_ratio': 0.4}</td>\n",
              "      <td>0.097949</td>\n",
              "      <td>28</td>\n",
              "      <td>0.085565</td>\n",
              "      <td>0.093834</td>\n",
              "      <td>0.114449</td>\n",
              "    </tr>\n",
              "    <tr>\n",
              "      <th>27</th>\n",
              "      <td>{'alpha': 100, 'l1_ratio': 0.6000000000000001}</td>\n",
              "      <td>0.106472</td>\n",
              "      <td>27</td>\n",
              "      <td>0.092439</td>\n",
              "      <td>0.101165</td>\n",
              "      <td>0.125814</td>\n",
              "    </tr>\n",
              "    <tr>\n",
              "      <th>28</th>\n",
              "      <td>{'alpha': 100, 'l1_ratio': 0.8}</td>\n",
              "      <td>0.122084</td>\n",
              "      <td>26</td>\n",
              "      <td>0.106078</td>\n",
              "      <td>0.114292</td>\n",
              "      <td>0.145884</td>\n",
              "    </tr>\n",
              "    <tr>\n",
              "      <th>29</th>\n",
              "      <td>{'alpha': 100, 'l1_ratio': 1.0}</td>\n",
              "      <td>0.747190</td>\n",
              "      <td>15</td>\n",
              "      <td>0.791716</td>\n",
              "      <td>0.713467</td>\n",
              "      <td>0.736386</td>\n",
              "    </tr>\n",
              "  </tbody>\n",
              "</table>\n",
              "</div>\n",
              "    <div class=\"colab-df-buttons\">\n",
              "\n",
              "  <div class=\"colab-df-container\">\n",
              "    <button class=\"colab-df-convert\" onclick=\"convertToInteractive('df-45af999d-ac60-4b4b-b064-95d617377127')\"\n",
              "            title=\"Convert this dataframe to an interactive table.\"\n",
              "            style=\"display:none;\">\n",
              "\n",
              "  <svg xmlns=\"http://www.w3.org/2000/svg\" height=\"24px\" viewBox=\"0 -960 960 960\">\n",
              "    <path d=\"M120-120v-720h720v720H120Zm60-500h600v-160H180v160Zm220 220h160v-160H400v160Zm0 220h160v-160H400v160ZM180-400h160v-160H180v160Zm440 0h160v-160H620v160ZM180-180h160v-160H180v160Zm440 0h160v-160H620v160Z\"/>\n",
              "  </svg>\n",
              "    </button>\n",
              "\n",
              "  <style>\n",
              "    .colab-df-container {\n",
              "      display:flex;\n",
              "      gap: 12px;\n",
              "    }\n",
              "\n",
              "    .colab-df-convert {\n",
              "      background-color: #E8F0FE;\n",
              "      border: none;\n",
              "      border-radius: 50%;\n",
              "      cursor: pointer;\n",
              "      display: none;\n",
              "      fill: #1967D2;\n",
              "      height: 32px;\n",
              "      padding: 0 0 0 0;\n",
              "      width: 32px;\n",
              "    }\n",
              "\n",
              "    .colab-df-convert:hover {\n",
              "      background-color: #E2EBFA;\n",
              "      box-shadow: 0px 1px 2px rgba(60, 64, 67, 0.3), 0px 1px 3px 1px rgba(60, 64, 67, 0.15);\n",
              "      fill: #174EA6;\n",
              "    }\n",
              "\n",
              "    .colab-df-buttons div {\n",
              "      margin-bottom: 4px;\n",
              "    }\n",
              "\n",
              "    [theme=dark] .colab-df-convert {\n",
              "      background-color: #3B4455;\n",
              "      fill: #D2E3FC;\n",
              "    }\n",
              "\n",
              "    [theme=dark] .colab-df-convert:hover {\n",
              "      background-color: #434B5C;\n",
              "      box-shadow: 0px 1px 3px 1px rgba(0, 0, 0, 0.15);\n",
              "      filter: drop-shadow(0px 1px 2px rgba(0, 0, 0, 0.3));\n",
              "      fill: #FFFFFF;\n",
              "    }\n",
              "  </style>\n",
              "\n",
              "    <script>\n",
              "      const buttonEl =\n",
              "        document.querySelector('#df-45af999d-ac60-4b4b-b064-95d617377127 button.colab-df-convert');\n",
              "      buttonEl.style.display =\n",
              "        google.colab.kernel.accessAllowed ? 'block' : 'none';\n",
              "\n",
              "      async function convertToInteractive(key) {\n",
              "        const element = document.querySelector('#df-45af999d-ac60-4b4b-b064-95d617377127');\n",
              "        const dataTable =\n",
              "          await google.colab.kernel.invokeFunction('convertToInteractive',\n",
              "                                                    [key], {});\n",
              "        if (!dataTable) return;\n",
              "\n",
              "        const docLinkHtml = 'Like what you see? Visit the ' +\n",
              "          '<a target=\"_blank\" href=https://colab.research.google.com/notebooks/data_table.ipynb>data table notebook</a>'\n",
              "          + ' to learn more about interactive tables.';\n",
              "        element.innerHTML = '';\n",
              "        dataTable['output_type'] = 'display_data';\n",
              "        await google.colab.output.renderOutput(dataTable, element);\n",
              "        const docLink = document.createElement('div');\n",
              "        docLink.innerHTML = docLinkHtml;\n",
              "        element.appendChild(docLink);\n",
              "      }\n",
              "    </script>\n",
              "  </div>\n",
              "\n",
              "\n",
              "<div id=\"df-4f0f6930-0063-45aa-a003-d6afd0354b4c\">\n",
              "  <button class=\"colab-df-quickchart\" onclick=\"quickchart('df-4f0f6930-0063-45aa-a003-d6afd0354b4c')\"\n",
              "            title=\"Suggest charts.\"\n",
              "            style=\"display:none;\">\n",
              "\n",
              "<svg xmlns=\"http://www.w3.org/2000/svg\" height=\"24px\"viewBox=\"0 0 24 24\"\n",
              "     width=\"24px\">\n",
              "    <g>\n",
              "        <path d=\"M19 3H5c-1.1 0-2 .9-2 2v14c0 1.1.9 2 2 2h14c1.1 0 2-.9 2-2V5c0-1.1-.9-2-2-2zM9 17H7v-7h2v7zm4 0h-2V7h2v10zm4 0h-2v-4h2v4z\"/>\n",
              "    </g>\n",
              "</svg>\n",
              "  </button>\n",
              "\n",
              "<style>\n",
              "  .colab-df-quickchart {\n",
              "    background-color: #E8F0FE;\n",
              "    border: none;\n",
              "    border-radius: 50%;\n",
              "    cursor: pointer;\n",
              "    display: none;\n",
              "    fill: #1967D2;\n",
              "    height: 32px;\n",
              "    padding: 0 0 0 0;\n",
              "    width: 32px;\n",
              "  }\n",
              "\n",
              "  .colab-df-quickchart:hover {\n",
              "    background-color: #E2EBFA;\n",
              "    box-shadow: 0px 1px 2px rgba(60, 64, 67, 0.3), 0px 1px 3px 1px rgba(60, 64, 67, 0.15);\n",
              "    fill: #174EA6;\n",
              "  }\n",
              "\n",
              "  [theme=dark] .colab-df-quickchart {\n",
              "    background-color: #3B4455;\n",
              "    fill: #D2E3FC;\n",
              "  }\n",
              "\n",
              "  [theme=dark] .colab-df-quickchart:hover {\n",
              "    background-color: #434B5C;\n",
              "    box-shadow: 0px 1px 3px 1px rgba(0, 0, 0, 0.15);\n",
              "    filter: drop-shadow(0px 1px 2px rgba(0, 0, 0, 0.3));\n",
              "    fill: #FFFFFF;\n",
              "  }\n",
              "</style>\n",
              "\n",
              "  <script>\n",
              "    async function quickchart(key) {\n",
              "      const charts = await google.colab.kernel.invokeFunction(\n",
              "          'suggestCharts', [key], {});\n",
              "    }\n",
              "    (() => {\n",
              "      let quickchartButtonEl =\n",
              "        document.querySelector('#df-4f0f6930-0063-45aa-a003-d6afd0354b4c button');\n",
              "      quickchartButtonEl.style.display =\n",
              "        google.colab.kernel.accessAllowed ? 'block' : 'none';\n",
              "    })();\n",
              "  </script>\n",
              "</div>\n",
              "    </div>\n",
              "  </div>\n"
            ]
          },
          "metadata": {},
          "execution_count": 129
        }
      ]
    },
    {
      "cell_type": "code",
      "source": [
        "#최적 Hyperparameters로 수정\n",
        "from sklearn.linear_model import ElasticNet\n",
        "\n",
        "elastic = ElasticNet(alpha=0.01, l1_ratio=0.8)\n",
        "elastic.fit(X_train, y_train)\n",
        "elastic"
      ],
      "metadata": {
        "colab": {
          "base_uri": "https://localhost:8080/",
          "height": 74
        },
        "id": "JkXRuaNg-KFP",
        "outputId": "964b0fae-4fb3-4c55-c091-5a5239b13cb6"
      },
      "execution_count": 130,
      "outputs": [
        {
          "output_type": "execute_result",
          "data": {
            "text/plain": [
              "ElasticNet(alpha=0.01, l1_ratio=0.8)"
            ],
            "text/html": [
              "<style>#sk-container-id-13 {color: black;background-color: white;}#sk-container-id-13 pre{padding: 0;}#sk-container-id-13 div.sk-toggleable {background-color: white;}#sk-container-id-13 label.sk-toggleable__label {cursor: pointer;display: block;width: 100%;margin-bottom: 0;padding: 0.3em;box-sizing: border-box;text-align: center;}#sk-container-id-13 label.sk-toggleable__label-arrow:before {content: \"▸\";float: left;margin-right: 0.25em;color: #696969;}#sk-container-id-13 label.sk-toggleable__label-arrow:hover:before {color: black;}#sk-container-id-13 div.sk-estimator:hover label.sk-toggleable__label-arrow:before {color: black;}#sk-container-id-13 div.sk-toggleable__content {max-height: 0;max-width: 0;overflow: hidden;text-align: left;background-color: #f0f8ff;}#sk-container-id-13 div.sk-toggleable__content pre {margin: 0.2em;color: black;border-radius: 0.25em;background-color: #f0f8ff;}#sk-container-id-13 input.sk-toggleable__control:checked~div.sk-toggleable__content {max-height: 200px;max-width: 100%;overflow: auto;}#sk-container-id-13 input.sk-toggleable__control:checked~label.sk-toggleable__label-arrow:before {content: \"▾\";}#sk-container-id-13 div.sk-estimator input.sk-toggleable__control:checked~label.sk-toggleable__label {background-color: #d4ebff;}#sk-container-id-13 div.sk-label input.sk-toggleable__control:checked~label.sk-toggleable__label {background-color: #d4ebff;}#sk-container-id-13 input.sk-hidden--visually {border: 0;clip: rect(1px 1px 1px 1px);clip: rect(1px, 1px, 1px, 1px);height: 1px;margin: -1px;overflow: hidden;padding: 0;position: absolute;width: 1px;}#sk-container-id-13 div.sk-estimator {font-family: monospace;background-color: #f0f8ff;border: 1px dotted black;border-radius: 0.25em;box-sizing: border-box;margin-bottom: 0.5em;}#sk-container-id-13 div.sk-estimator:hover {background-color: #d4ebff;}#sk-container-id-13 div.sk-parallel-item::after {content: \"\";width: 100%;border-bottom: 1px solid gray;flex-grow: 1;}#sk-container-id-13 div.sk-label:hover label.sk-toggleable__label {background-color: #d4ebff;}#sk-container-id-13 div.sk-serial::before {content: \"\";position: absolute;border-left: 1px solid gray;box-sizing: border-box;top: 0;bottom: 0;left: 50%;z-index: 0;}#sk-container-id-13 div.sk-serial {display: flex;flex-direction: column;align-items: center;background-color: white;padding-right: 0.2em;padding-left: 0.2em;position: relative;}#sk-container-id-13 div.sk-item {position: relative;z-index: 1;}#sk-container-id-13 div.sk-parallel {display: flex;align-items: stretch;justify-content: center;background-color: white;position: relative;}#sk-container-id-13 div.sk-item::before, #sk-container-id-13 div.sk-parallel-item::before {content: \"\";position: absolute;border-left: 1px solid gray;box-sizing: border-box;top: 0;bottom: 0;left: 50%;z-index: -1;}#sk-container-id-13 div.sk-parallel-item {display: flex;flex-direction: column;z-index: 1;position: relative;background-color: white;}#sk-container-id-13 div.sk-parallel-item:first-child::after {align-self: flex-end;width: 50%;}#sk-container-id-13 div.sk-parallel-item:last-child::after {align-self: flex-start;width: 50%;}#sk-container-id-13 div.sk-parallel-item:only-child::after {width: 0;}#sk-container-id-13 div.sk-dashed-wrapped {border: 1px dashed gray;margin: 0 0.4em 0.5em 0.4em;box-sizing: border-box;padding-bottom: 0.4em;background-color: white;}#sk-container-id-13 div.sk-label label {font-family: monospace;font-weight: bold;display: inline-block;line-height: 1.2em;}#sk-container-id-13 div.sk-label-container {text-align: center;}#sk-container-id-13 div.sk-container {/* jupyter's `normalize.less` sets `[hidden] { display: none; }` but bootstrap.min.css set `[hidden] { display: none !important; }` so we also need the `!important` here to be able to override the default hidden behavior on the sphinx rendered scikit-learn.org. See: https://github.com/scikit-learn/scikit-learn/issues/21755 */display: inline-block !important;position: relative;}#sk-container-id-13 div.sk-text-repr-fallback {display: none;}</style><div id=\"sk-container-id-13\" class=\"sk-top-container\"><div class=\"sk-text-repr-fallback\"><pre>ElasticNet(alpha=0.01, l1_ratio=0.8)</pre><b>In a Jupyter environment, please rerun this cell to show the HTML representation or trust the notebook. <br />On GitHub, the HTML representation is unable to render, please try loading this page with nbviewer.org.</b></div><div class=\"sk-container\" hidden><div class=\"sk-item\"><div class=\"sk-estimator sk-toggleable\"><input class=\"sk-toggleable__control sk-hidden--visually\" id=\"sk-estimator-id-27\" type=\"checkbox\" checked><label for=\"sk-estimator-id-27\" class=\"sk-toggleable__label sk-toggleable__label-arrow\">ElasticNet</label><div class=\"sk-toggleable__content\"><pre>ElasticNet(alpha=0.01, l1_ratio=0.8)</pre></div></div></div></div></div>"
            ]
          },
          "metadata": {},
          "execution_count": 130
        }
      ]
    },
    {
      "cell_type": "code",
      "execution_count": 131,
      "metadata": {
        "id": "bd9bd0eb",
        "colab": {
          "base_uri": "https://localhost:8080/"
        },
        "outputId": "60194d0b-b192-4ddf-dac7-b2518dbcd0c1"
      },
      "outputs": [
        {
          "output_type": "stream",
          "name": "stdout",
          "text": [
            "R2: 0.7390516211639369\n",
            "MAE: 4114.965864387991\n",
            "MSE:  36792012.67025914\n",
            "RMSE:  6065.641983356679\n"
          ]
        }
      ],
      "source": [
        "# 모델 성능 확인 - 다양한 성능지표(R2, RMSE, MAE)\n",
        "from sklearn import metrics\n",
        "y_pred = elastic.predict(X_test)\n",
        "#print(plt.scatter(y_test, y_pred))\n",
        "\n",
        "\n",
        "print(\"R2:\", elastic.score(X_test,y_test))\n",
        "R2.append(elastic.score(X_test,y_test))\n",
        "print(\"MAE:\", metrics.mean_absolute_error(y_test, y_pred))\n",
        "MAE.append( metrics.mean_absolute_error(y_test, y_pred))\n",
        "print(\"MSE: \", metrics.mean_squared_error(y_test, y_pred))\n",
        "MSE.append(metrics.mean_squared_error(y_test, y_pred))\n",
        "print(\"RMSE: \", np.sqrt(metrics.mean_squared_error(y_test, y_pred)))\n",
        "RMSE.append(np.sqrt(metrics.mean_squared_error(y_test, y_pred)))\n"
      ]
    },
    {
      "cell_type": "code",
      "source": [
        "print(\"This model accuracy is {}%\".format(round(elastic.score(X_test, y_test)*100,2)))"
      ],
      "metadata": {
        "colab": {
          "base_uri": "https://localhost:8080/"
        },
        "id": "tbwVjVMv9mw1",
        "outputId": "ef3480c7-21b4-4ed9-ae56-a03561ff0704"
      },
      "execution_count": 132,
      "outputs": [
        {
          "output_type": "stream",
          "name": "stdout",
          "text": [
            "This model accuracy is 73.91%\n"
          ]
        }
      ]
    },
    {
      "cell_type": "code",
      "source": [
        "coeff_df = pd.DataFrame(elastic.coef_,X_train.columns,columns=['Coefficient'])\n",
        "print(coeff_df)"
      ],
      "metadata": {
        "colab": {
          "base_uri": "https://localhost:8080/"
        },
        "id": "DOfChBdZDg0s",
        "outputId": "0e82816b-92be-40e1-87cb-7d42a4793821"
      },
      "execution_count": 133,
      "outputs": [
        {
          "output_type": "stream",
          "name": "stdout",
          "text": [
            "                   Coefficient\n",
            "age                 250.673591\n",
            "bmi                 371.303412\n",
            "children            551.978034\n",
            "sex_female           84.855372\n",
            "sex_male            -84.308739\n",
            "smoker_no        -11922.112054\n",
            "smoker_yes        11917.986690\n",
            "region_northeast    629.664464\n",
            "region_northwest    430.556326\n",
            "region_southeast   -863.066670\n",
            "region_southwest   -196.534686\n"
          ]
        }
      ]
    },
    {
      "cell_type": "markdown",
      "source": [
        "## Ridge"
      ],
      "metadata": {
        "id": "Tp1aokLfDxEW"
      }
    },
    {
      "cell_type": "code",
      "execution_count": 134,
      "metadata": {
        "id": "f384e030",
        "outputId": "d9766497-7c13-4db2-c95d-8b5ba86e54d4",
        "colab": {
          "base_uri": "https://localhost:8080/"
        }
      },
      "outputs": [
        {
          "output_type": "execute_result",
          "data": {
            "text/plain": [
              "(11989.695207293866, -11989.695207281871, 106.85369817735264)"
            ]
          },
          "metadata": {},
          "execution_count": 134
        }
      ],
      "source": [
        "from sklearn.linear_model import Ridge\n",
        "\n",
        "ridge = Ridge(alpha=0.1).fit(X_train, y_train) # - 모델링. alpha는 우리가따로 선정안하면 1로 되어 있음 및 학습\n",
        "ridge.coef_.max(), ridge.coef_.min(), np.mean(ridge.coef_)"
      ]
    },
    {
      "cell_type": "code",
      "execution_count": 135,
      "metadata": {
        "id": "09194452",
        "outputId": "202e9158-d7c4-42cc-d545-715e1f1a0824",
        "colab": {
          "base_uri": "https://localhost:8080/"
        }
      },
      "outputs": [
        {
          "output_type": "execute_result",
          "data": {
            "text/plain": [
              "6"
            ]
          },
          "metadata": {},
          "execution_count": 135
        }
      ],
      "source": [
        "ridge.coef_.argmax()"
      ]
    },
    {
      "cell_type": "code",
      "source": [
        "import warnings\n",
        "warnings.filterwarnings(\"ignore\")\n",
        "\n",
        "from sklearn.model_selection import GridSearchCV\n",
        "\n",
        "model = Ridge()\n",
        "\n",
        "parametersGrid = {\"alpha\": [0.0001, 0.01, 1, 10, 100]}\n",
        "\n",
        "grid_els = GridSearchCV(model, param_grid = parametersGrid, cv=3, refit = True ,  scoring='r2')\n",
        "# refit : True가 디폴트, True이면 가장 좋은 파라미터 설정으로 학습시켜서 모델 반환\n",
        "# cv=3 한번 체크하면 잘 못된 결정을 할 수 있으니, 3번 정도 확인해서 평균을 내겠다.\n",
        "# scoring = r2 r2를 기준으로 점수를 내겠다.\n",
        "grid_els.fit(X_train, y_train)"
      ],
      "metadata": {
        "colab": {
          "base_uri": "https://localhost:8080/",
          "height": 116
        },
        "id": "cwJO4iZREFl-",
        "outputId": "c5b30467-c168-467f-99c9-f6af2caff069"
      },
      "execution_count": 136,
      "outputs": [
        {
          "output_type": "execute_result",
          "data": {
            "text/plain": [
              "GridSearchCV(cv=3, estimator=Ridge(),\n",
              "             param_grid={'alpha': [0.0001, 0.01, 1, 10, 100]}, scoring='r2')"
            ],
            "text/html": [
              "<style>#sk-container-id-14 {color: black;background-color: white;}#sk-container-id-14 pre{padding: 0;}#sk-container-id-14 div.sk-toggleable {background-color: white;}#sk-container-id-14 label.sk-toggleable__label {cursor: pointer;display: block;width: 100%;margin-bottom: 0;padding: 0.3em;box-sizing: border-box;text-align: center;}#sk-container-id-14 label.sk-toggleable__label-arrow:before {content: \"▸\";float: left;margin-right: 0.25em;color: #696969;}#sk-container-id-14 label.sk-toggleable__label-arrow:hover:before {color: black;}#sk-container-id-14 div.sk-estimator:hover label.sk-toggleable__label-arrow:before {color: black;}#sk-container-id-14 div.sk-toggleable__content {max-height: 0;max-width: 0;overflow: hidden;text-align: left;background-color: #f0f8ff;}#sk-container-id-14 div.sk-toggleable__content pre {margin: 0.2em;color: black;border-radius: 0.25em;background-color: #f0f8ff;}#sk-container-id-14 input.sk-toggleable__control:checked~div.sk-toggleable__content {max-height: 200px;max-width: 100%;overflow: auto;}#sk-container-id-14 input.sk-toggleable__control:checked~label.sk-toggleable__label-arrow:before {content: \"▾\";}#sk-container-id-14 div.sk-estimator input.sk-toggleable__control:checked~label.sk-toggleable__label {background-color: #d4ebff;}#sk-container-id-14 div.sk-label input.sk-toggleable__control:checked~label.sk-toggleable__label {background-color: #d4ebff;}#sk-container-id-14 input.sk-hidden--visually {border: 0;clip: rect(1px 1px 1px 1px);clip: rect(1px, 1px, 1px, 1px);height: 1px;margin: -1px;overflow: hidden;padding: 0;position: absolute;width: 1px;}#sk-container-id-14 div.sk-estimator {font-family: monospace;background-color: #f0f8ff;border: 1px dotted black;border-radius: 0.25em;box-sizing: border-box;margin-bottom: 0.5em;}#sk-container-id-14 div.sk-estimator:hover {background-color: #d4ebff;}#sk-container-id-14 div.sk-parallel-item::after {content: \"\";width: 100%;border-bottom: 1px solid gray;flex-grow: 1;}#sk-container-id-14 div.sk-label:hover label.sk-toggleable__label {background-color: #d4ebff;}#sk-container-id-14 div.sk-serial::before {content: \"\";position: absolute;border-left: 1px solid gray;box-sizing: border-box;top: 0;bottom: 0;left: 50%;z-index: 0;}#sk-container-id-14 div.sk-serial {display: flex;flex-direction: column;align-items: center;background-color: white;padding-right: 0.2em;padding-left: 0.2em;position: relative;}#sk-container-id-14 div.sk-item {position: relative;z-index: 1;}#sk-container-id-14 div.sk-parallel {display: flex;align-items: stretch;justify-content: center;background-color: white;position: relative;}#sk-container-id-14 div.sk-item::before, #sk-container-id-14 div.sk-parallel-item::before {content: \"\";position: absolute;border-left: 1px solid gray;box-sizing: border-box;top: 0;bottom: 0;left: 50%;z-index: -1;}#sk-container-id-14 div.sk-parallel-item {display: flex;flex-direction: column;z-index: 1;position: relative;background-color: white;}#sk-container-id-14 div.sk-parallel-item:first-child::after {align-self: flex-end;width: 50%;}#sk-container-id-14 div.sk-parallel-item:last-child::after {align-self: flex-start;width: 50%;}#sk-container-id-14 div.sk-parallel-item:only-child::after {width: 0;}#sk-container-id-14 div.sk-dashed-wrapped {border: 1px dashed gray;margin: 0 0.4em 0.5em 0.4em;box-sizing: border-box;padding-bottom: 0.4em;background-color: white;}#sk-container-id-14 div.sk-label label {font-family: monospace;font-weight: bold;display: inline-block;line-height: 1.2em;}#sk-container-id-14 div.sk-label-container {text-align: center;}#sk-container-id-14 div.sk-container {/* jupyter's `normalize.less` sets `[hidden] { display: none; }` but bootstrap.min.css set `[hidden] { display: none !important; }` so we also need the `!important` here to be able to override the default hidden behavior on the sphinx rendered scikit-learn.org. See: https://github.com/scikit-learn/scikit-learn/issues/21755 */display: inline-block !important;position: relative;}#sk-container-id-14 div.sk-text-repr-fallback {display: none;}</style><div id=\"sk-container-id-14\" class=\"sk-top-container\"><div class=\"sk-text-repr-fallback\"><pre>GridSearchCV(cv=3, estimator=Ridge(),\n",
              "             param_grid={&#x27;alpha&#x27;: [0.0001, 0.01, 1, 10, 100]}, scoring=&#x27;r2&#x27;)</pre><b>In a Jupyter environment, please rerun this cell to show the HTML representation or trust the notebook. <br />On GitHub, the HTML representation is unable to render, please try loading this page with nbviewer.org.</b></div><div class=\"sk-container\" hidden><div class=\"sk-item sk-dashed-wrapped\"><div class=\"sk-label-container\"><div class=\"sk-label sk-toggleable\"><input class=\"sk-toggleable__control sk-hidden--visually\" id=\"sk-estimator-id-28\" type=\"checkbox\" ><label for=\"sk-estimator-id-28\" class=\"sk-toggleable__label sk-toggleable__label-arrow\">GridSearchCV</label><div class=\"sk-toggleable__content\"><pre>GridSearchCV(cv=3, estimator=Ridge(),\n",
              "             param_grid={&#x27;alpha&#x27;: [0.0001, 0.01, 1, 10, 100]}, scoring=&#x27;r2&#x27;)</pre></div></div></div><div class=\"sk-parallel\"><div class=\"sk-parallel-item\"><div class=\"sk-item\"><div class=\"sk-label-container\"><div class=\"sk-label sk-toggleable\"><input class=\"sk-toggleable__control sk-hidden--visually\" id=\"sk-estimator-id-29\" type=\"checkbox\" ><label for=\"sk-estimator-id-29\" class=\"sk-toggleable__label sk-toggleable__label-arrow\">estimator: Ridge</label><div class=\"sk-toggleable__content\"><pre>Ridge()</pre></div></div></div><div class=\"sk-serial\"><div class=\"sk-item\"><div class=\"sk-estimator sk-toggleable\"><input class=\"sk-toggleable__control sk-hidden--visually\" id=\"sk-estimator-id-30\" type=\"checkbox\" ><label for=\"sk-estimator-id-30\" class=\"sk-toggleable__label sk-toggleable__label-arrow\">Ridge</label><div class=\"sk-toggleable__content\"><pre>Ridge()</pre></div></div></div></div></div></div></div></div></div></div>"
            ]
          },
          "metadata": {},
          "execution_count": 136
        }
      ]
    },
    {
      "cell_type": "code",
      "source": [
        "pd.DataFrame(grid_els.cv_results_)[['params', 'mean_test_score', 'rank_test_score', 'split0_test_score', 'split1_test_score', 'split2_test_score']]"
      ],
      "metadata": {
        "colab": {
          "base_uri": "https://localhost:8080/",
          "height": 206
        },
        "id": "RGS2I6ujEZQt",
        "outputId": "e37aa24e-716e-4592-e12f-8c8129abc86e"
      },
      "execution_count": 137,
      "outputs": [
        {
          "output_type": "execute_result",
          "data": {
            "text/plain": [
              "              params  mean_test_score  rank_test_score  split0_test_score  \\\n",
              "0  {'alpha': 0.0001}         0.748487                3           0.793935   \n",
              "1    {'alpha': 0.01}         0.748487                2           0.793932   \n",
              "2       {'alpha': 1}         0.748503                1           0.793563   \n",
              "3      {'alpha': 10}         0.747637                4           0.789406   \n",
              "4     {'alpha': 100}         0.691692                5           0.712558   \n",
              "\n",
              "   split1_test_score  split2_test_score  \n",
              "0           0.712394           0.739131  \n",
              "1           0.712397           0.739132  \n",
              "2           0.712673           0.739272  \n",
              "3           0.713888           0.739617  \n",
              "4           0.665846           0.696671  "
            ],
            "text/html": [
              "\n",
              "  <div id=\"df-4c8b2846-0a1c-475a-949e-b97b283c5960\" class=\"colab-df-container\">\n",
              "    <div>\n",
              "<style scoped>\n",
              "    .dataframe tbody tr th:only-of-type {\n",
              "        vertical-align: middle;\n",
              "    }\n",
              "\n",
              "    .dataframe tbody tr th {\n",
              "        vertical-align: top;\n",
              "    }\n",
              "\n",
              "    .dataframe thead th {\n",
              "        text-align: right;\n",
              "    }\n",
              "</style>\n",
              "<table border=\"1\" class=\"dataframe\">\n",
              "  <thead>\n",
              "    <tr style=\"text-align: right;\">\n",
              "      <th></th>\n",
              "      <th>params</th>\n",
              "      <th>mean_test_score</th>\n",
              "      <th>rank_test_score</th>\n",
              "      <th>split0_test_score</th>\n",
              "      <th>split1_test_score</th>\n",
              "      <th>split2_test_score</th>\n",
              "    </tr>\n",
              "  </thead>\n",
              "  <tbody>\n",
              "    <tr>\n",
              "      <th>0</th>\n",
              "      <td>{'alpha': 0.0001}</td>\n",
              "      <td>0.748487</td>\n",
              "      <td>3</td>\n",
              "      <td>0.793935</td>\n",
              "      <td>0.712394</td>\n",
              "      <td>0.739131</td>\n",
              "    </tr>\n",
              "    <tr>\n",
              "      <th>1</th>\n",
              "      <td>{'alpha': 0.01}</td>\n",
              "      <td>0.748487</td>\n",
              "      <td>2</td>\n",
              "      <td>0.793932</td>\n",
              "      <td>0.712397</td>\n",
              "      <td>0.739132</td>\n",
              "    </tr>\n",
              "    <tr>\n",
              "      <th>2</th>\n",
              "      <td>{'alpha': 1}</td>\n",
              "      <td>0.748503</td>\n",
              "      <td>1</td>\n",
              "      <td>0.793563</td>\n",
              "      <td>0.712673</td>\n",
              "      <td>0.739272</td>\n",
              "    </tr>\n",
              "    <tr>\n",
              "      <th>3</th>\n",
              "      <td>{'alpha': 10}</td>\n",
              "      <td>0.747637</td>\n",
              "      <td>4</td>\n",
              "      <td>0.789406</td>\n",
              "      <td>0.713888</td>\n",
              "      <td>0.739617</td>\n",
              "    </tr>\n",
              "    <tr>\n",
              "      <th>4</th>\n",
              "      <td>{'alpha': 100}</td>\n",
              "      <td>0.691692</td>\n",
              "      <td>5</td>\n",
              "      <td>0.712558</td>\n",
              "      <td>0.665846</td>\n",
              "      <td>0.696671</td>\n",
              "    </tr>\n",
              "  </tbody>\n",
              "</table>\n",
              "</div>\n",
              "    <div class=\"colab-df-buttons\">\n",
              "\n",
              "  <div class=\"colab-df-container\">\n",
              "    <button class=\"colab-df-convert\" onclick=\"convertToInteractive('df-4c8b2846-0a1c-475a-949e-b97b283c5960')\"\n",
              "            title=\"Convert this dataframe to an interactive table.\"\n",
              "            style=\"display:none;\">\n",
              "\n",
              "  <svg xmlns=\"http://www.w3.org/2000/svg\" height=\"24px\" viewBox=\"0 -960 960 960\">\n",
              "    <path d=\"M120-120v-720h720v720H120Zm60-500h600v-160H180v160Zm220 220h160v-160H400v160Zm0 220h160v-160H400v160ZM180-400h160v-160H180v160Zm440 0h160v-160H620v160ZM180-180h160v-160H180v160Zm440 0h160v-160H620v160Z\"/>\n",
              "  </svg>\n",
              "    </button>\n",
              "\n",
              "  <style>\n",
              "    .colab-df-container {\n",
              "      display:flex;\n",
              "      gap: 12px;\n",
              "    }\n",
              "\n",
              "    .colab-df-convert {\n",
              "      background-color: #E8F0FE;\n",
              "      border: none;\n",
              "      border-radius: 50%;\n",
              "      cursor: pointer;\n",
              "      display: none;\n",
              "      fill: #1967D2;\n",
              "      height: 32px;\n",
              "      padding: 0 0 0 0;\n",
              "      width: 32px;\n",
              "    }\n",
              "\n",
              "    .colab-df-convert:hover {\n",
              "      background-color: #E2EBFA;\n",
              "      box-shadow: 0px 1px 2px rgba(60, 64, 67, 0.3), 0px 1px 3px 1px rgba(60, 64, 67, 0.15);\n",
              "      fill: #174EA6;\n",
              "    }\n",
              "\n",
              "    .colab-df-buttons div {\n",
              "      margin-bottom: 4px;\n",
              "    }\n",
              "\n",
              "    [theme=dark] .colab-df-convert {\n",
              "      background-color: #3B4455;\n",
              "      fill: #D2E3FC;\n",
              "    }\n",
              "\n",
              "    [theme=dark] .colab-df-convert:hover {\n",
              "      background-color: #434B5C;\n",
              "      box-shadow: 0px 1px 3px 1px rgba(0, 0, 0, 0.15);\n",
              "      filter: drop-shadow(0px 1px 2px rgba(0, 0, 0, 0.3));\n",
              "      fill: #FFFFFF;\n",
              "    }\n",
              "  </style>\n",
              "\n",
              "    <script>\n",
              "      const buttonEl =\n",
              "        document.querySelector('#df-4c8b2846-0a1c-475a-949e-b97b283c5960 button.colab-df-convert');\n",
              "      buttonEl.style.display =\n",
              "        google.colab.kernel.accessAllowed ? 'block' : 'none';\n",
              "\n",
              "      async function convertToInteractive(key) {\n",
              "        const element = document.querySelector('#df-4c8b2846-0a1c-475a-949e-b97b283c5960');\n",
              "        const dataTable =\n",
              "          await google.colab.kernel.invokeFunction('convertToInteractive',\n",
              "                                                    [key], {});\n",
              "        if (!dataTable) return;\n",
              "\n",
              "        const docLinkHtml = 'Like what you see? Visit the ' +\n",
              "          '<a target=\"_blank\" href=https://colab.research.google.com/notebooks/data_table.ipynb>data table notebook</a>'\n",
              "          + ' to learn more about interactive tables.';\n",
              "        element.innerHTML = '';\n",
              "        dataTable['output_type'] = 'display_data';\n",
              "        await google.colab.output.renderOutput(dataTable, element);\n",
              "        const docLink = document.createElement('div');\n",
              "        docLink.innerHTML = docLinkHtml;\n",
              "        element.appendChild(docLink);\n",
              "      }\n",
              "    </script>\n",
              "  </div>\n",
              "\n",
              "\n",
              "<div id=\"df-20921a97-ae34-412a-b233-e46468936b67\">\n",
              "  <button class=\"colab-df-quickchart\" onclick=\"quickchart('df-20921a97-ae34-412a-b233-e46468936b67')\"\n",
              "            title=\"Suggest charts.\"\n",
              "            style=\"display:none;\">\n",
              "\n",
              "<svg xmlns=\"http://www.w3.org/2000/svg\" height=\"24px\"viewBox=\"0 0 24 24\"\n",
              "     width=\"24px\">\n",
              "    <g>\n",
              "        <path d=\"M19 3H5c-1.1 0-2 .9-2 2v14c0 1.1.9 2 2 2h14c1.1 0 2-.9 2-2V5c0-1.1-.9-2-2-2zM9 17H7v-7h2v7zm4 0h-2V7h2v10zm4 0h-2v-4h2v4z\"/>\n",
              "    </g>\n",
              "</svg>\n",
              "  </button>\n",
              "\n",
              "<style>\n",
              "  .colab-df-quickchart {\n",
              "    background-color: #E8F0FE;\n",
              "    border: none;\n",
              "    border-radius: 50%;\n",
              "    cursor: pointer;\n",
              "    display: none;\n",
              "    fill: #1967D2;\n",
              "    height: 32px;\n",
              "    padding: 0 0 0 0;\n",
              "    width: 32px;\n",
              "  }\n",
              "\n",
              "  .colab-df-quickchart:hover {\n",
              "    background-color: #E2EBFA;\n",
              "    box-shadow: 0px 1px 2px rgba(60, 64, 67, 0.3), 0px 1px 3px 1px rgba(60, 64, 67, 0.15);\n",
              "    fill: #174EA6;\n",
              "  }\n",
              "\n",
              "  [theme=dark] .colab-df-quickchart {\n",
              "    background-color: #3B4455;\n",
              "    fill: #D2E3FC;\n",
              "  }\n",
              "\n",
              "  [theme=dark] .colab-df-quickchart:hover {\n",
              "    background-color: #434B5C;\n",
              "    box-shadow: 0px 1px 3px 1px rgba(0, 0, 0, 0.15);\n",
              "    filter: drop-shadow(0px 1px 2px rgba(0, 0, 0, 0.3));\n",
              "    fill: #FFFFFF;\n",
              "  }\n",
              "</style>\n",
              "\n",
              "  <script>\n",
              "    async function quickchart(key) {\n",
              "      const charts = await google.colab.kernel.invokeFunction(\n",
              "          'suggestCharts', [key], {});\n",
              "    }\n",
              "    (() => {\n",
              "      let quickchartButtonEl =\n",
              "        document.querySelector('#df-20921a97-ae34-412a-b233-e46468936b67 button');\n",
              "      quickchartButtonEl.style.display =\n",
              "        google.colab.kernel.accessAllowed ? 'block' : 'none';\n",
              "    })();\n",
              "  </script>\n",
              "</div>\n",
              "    </div>\n",
              "  </div>\n"
            ]
          },
          "metadata": {},
          "execution_count": 137
        }
      ]
    },
    {
      "cell_type": "code",
      "source": [
        "ridge = Ridge(alpha=1).fit(X_train, y_train) # - 모델링. alpha는 우리가따로 선정안하면 1로 되어 있음 및 학습\n",
        "ridge.coef_.max(), ridge.coef_.min(), np.mean(ridge.coef_)"
      ],
      "metadata": {
        "colab": {
          "base_uri": "https://localhost:8080/"
        },
        "id": "ze7xAGCFEdZi",
        "outputId": "87e1fa7c-072b-4bcf-84e9-675b7600cb80"
      },
      "execution_count": 138,
      "outputs": [
        {
          "output_type": "execute_result",
          "data": {
            "text/plain": [
              "(11958.874271071252, -11958.874271071943, 106.79626270588687)"
            ]
          },
          "metadata": {},
          "execution_count": 138
        }
      ]
    },
    {
      "cell_type": "code",
      "source": [
        "ridge.score(X_train, y_train)"
      ],
      "metadata": {
        "colab": {
          "base_uri": "https://localhost:8080/"
        },
        "id": "plkOwSSAE0aB",
        "outputId": "ecf23ecf-dd1e-483e-f31d-6862cfab893f"
      },
      "execution_count": 139,
      "outputs": [
        {
          "output_type": "execute_result",
          "data": {
            "text/plain": [
              "0.752828669014842"
            ]
          },
          "metadata": {},
          "execution_count": 139
        }
      ]
    },
    {
      "cell_type": "code",
      "source": [
        "ridge.score(X_test, y_test) #"
      ],
      "metadata": {
        "colab": {
          "base_uri": "https://localhost:8080/"
        },
        "id": "qX9Q-HoEE21j",
        "outputId": "b57bad7b-0538-4120-a68c-345eb4479dc3"
      },
      "execution_count": 140,
      "outputs": [
        {
          "output_type": "execute_result",
          "data": {
            "text/plain": [
              "0.7389026067071858"
            ]
          },
          "metadata": {},
          "execution_count": 140
        }
      ]
    },
    {
      "cell_type": "code",
      "source": [
        "y_pred = ridge.predict(X_test)\n",
        "#print(plt.scatter(y_test, y_pred))\n",
        "\n",
        "\n",
        "print(\"R2:\", ridge.score(X_test,y_test))\n",
        "R2.append(ridge.score(X_test,y_test))\n",
        "print(\"MAE:\", metrics.mean_absolute_error(y_test, y_pred))\n",
        "MAE.append( metrics.mean_absolute_error(y_test, y_pred))\n",
        "print(\"MSE: \", metrics.mean_squared_error(y_test, y_pred))\n",
        "MSE.append(metrics.mean_squared_error(y_test, y_pred))\n",
        "print(\"RMSE: \", np.sqrt(metrics.mean_squared_error(y_test, y_pred)))\n",
        "RMSE.append(np.sqrt(metrics.mean_squared_error(y_test, y_pred)))"
      ],
      "metadata": {
        "colab": {
          "base_uri": "https://localhost:8080/"
        },
        "id": "qtGHDn4kF9SL",
        "outputId": "7028fac8-6ce0-4da9-f7e2-7bec0621fae2"
      },
      "execution_count": 141,
      "outputs": [
        {
          "output_type": "stream",
          "name": "stdout",
          "text": [
            "R2: 0.7389026067071858\n",
            "MAE: 4111.515454474051\n",
            "MSE:  36813022.73288262\n",
            "RMSE:  6067.373627269267\n"
          ]
        }
      ]
    },
    {
      "cell_type": "markdown",
      "source": [
        "## Laso"
      ],
      "metadata": {
        "id": "7c8bTHxsE98J"
      }
    },
    {
      "cell_type": "code",
      "execution_count": 142,
      "metadata": {
        "id": "26616b85",
        "outputId": "26d20083-a5ec-435d-b2ce-135bbee08833",
        "colab": {
          "base_uri": "https://localhost:8080/"
        }
      },
      "outputs": [
        {
          "output_type": "execute_result",
          "data": {
            "text/plain": [
              "(830.1224143704443, -23985.56396954546, -1986.295547862615)"
            ]
          },
          "metadata": {},
          "execution_count": 142
        }
      ],
      "source": [
        "from sklearn.linear_model import Lasso\n",
        "\n",
        "lasso = Lasso(alpha=0.1).fit(X_train, y_train)\n",
        "lasso.coef_.max(), lasso.coef_.min(), np.mean(lasso.coef_)"
      ]
    },
    {
      "cell_type": "code",
      "execution_count": 143,
      "metadata": {
        "id": "bbda0e59",
        "outputId": "981205bb-feb9-4338-fa78-cd625deea2b4",
        "colab": {
          "base_uri": "https://localhost:8080/",
          "height": 116
        }
      },
      "outputs": [
        {
          "output_type": "execute_result",
          "data": {
            "text/plain": [
              "GridSearchCV(cv=3, estimator=Lasso(),\n",
              "             param_grid={'alpha': [0.0001, 0.01, 1, 10, 100]}, scoring='r2')"
            ],
            "text/html": [
              "<style>#sk-container-id-15 {color: black;background-color: white;}#sk-container-id-15 pre{padding: 0;}#sk-container-id-15 div.sk-toggleable {background-color: white;}#sk-container-id-15 label.sk-toggleable__label {cursor: pointer;display: block;width: 100%;margin-bottom: 0;padding: 0.3em;box-sizing: border-box;text-align: center;}#sk-container-id-15 label.sk-toggleable__label-arrow:before {content: \"▸\";float: left;margin-right: 0.25em;color: #696969;}#sk-container-id-15 label.sk-toggleable__label-arrow:hover:before {color: black;}#sk-container-id-15 div.sk-estimator:hover label.sk-toggleable__label-arrow:before {color: black;}#sk-container-id-15 div.sk-toggleable__content {max-height: 0;max-width: 0;overflow: hidden;text-align: left;background-color: #f0f8ff;}#sk-container-id-15 div.sk-toggleable__content pre {margin: 0.2em;color: black;border-radius: 0.25em;background-color: #f0f8ff;}#sk-container-id-15 input.sk-toggleable__control:checked~div.sk-toggleable__content {max-height: 200px;max-width: 100%;overflow: auto;}#sk-container-id-15 input.sk-toggleable__control:checked~label.sk-toggleable__label-arrow:before {content: \"▾\";}#sk-container-id-15 div.sk-estimator input.sk-toggleable__control:checked~label.sk-toggleable__label {background-color: #d4ebff;}#sk-container-id-15 div.sk-label input.sk-toggleable__control:checked~label.sk-toggleable__label {background-color: #d4ebff;}#sk-container-id-15 input.sk-hidden--visually {border: 0;clip: rect(1px 1px 1px 1px);clip: rect(1px, 1px, 1px, 1px);height: 1px;margin: -1px;overflow: hidden;padding: 0;position: absolute;width: 1px;}#sk-container-id-15 div.sk-estimator {font-family: monospace;background-color: #f0f8ff;border: 1px dotted black;border-radius: 0.25em;box-sizing: border-box;margin-bottom: 0.5em;}#sk-container-id-15 div.sk-estimator:hover {background-color: #d4ebff;}#sk-container-id-15 div.sk-parallel-item::after {content: \"\";width: 100%;border-bottom: 1px solid gray;flex-grow: 1;}#sk-container-id-15 div.sk-label:hover label.sk-toggleable__label {background-color: #d4ebff;}#sk-container-id-15 div.sk-serial::before {content: \"\";position: absolute;border-left: 1px solid gray;box-sizing: border-box;top: 0;bottom: 0;left: 50%;z-index: 0;}#sk-container-id-15 div.sk-serial {display: flex;flex-direction: column;align-items: center;background-color: white;padding-right: 0.2em;padding-left: 0.2em;position: relative;}#sk-container-id-15 div.sk-item {position: relative;z-index: 1;}#sk-container-id-15 div.sk-parallel {display: flex;align-items: stretch;justify-content: center;background-color: white;position: relative;}#sk-container-id-15 div.sk-item::before, #sk-container-id-15 div.sk-parallel-item::before {content: \"\";position: absolute;border-left: 1px solid gray;box-sizing: border-box;top: 0;bottom: 0;left: 50%;z-index: -1;}#sk-container-id-15 div.sk-parallel-item {display: flex;flex-direction: column;z-index: 1;position: relative;background-color: white;}#sk-container-id-15 div.sk-parallel-item:first-child::after {align-self: flex-end;width: 50%;}#sk-container-id-15 div.sk-parallel-item:last-child::after {align-self: flex-start;width: 50%;}#sk-container-id-15 div.sk-parallel-item:only-child::after {width: 0;}#sk-container-id-15 div.sk-dashed-wrapped {border: 1px dashed gray;margin: 0 0.4em 0.5em 0.4em;box-sizing: border-box;padding-bottom: 0.4em;background-color: white;}#sk-container-id-15 div.sk-label label {font-family: monospace;font-weight: bold;display: inline-block;line-height: 1.2em;}#sk-container-id-15 div.sk-label-container {text-align: center;}#sk-container-id-15 div.sk-container {/* jupyter's `normalize.less` sets `[hidden] { display: none; }` but bootstrap.min.css set `[hidden] { display: none !important; }` so we also need the `!important` here to be able to override the default hidden behavior on the sphinx rendered scikit-learn.org. See: https://github.com/scikit-learn/scikit-learn/issues/21755 */display: inline-block !important;position: relative;}#sk-container-id-15 div.sk-text-repr-fallback {display: none;}</style><div id=\"sk-container-id-15\" class=\"sk-top-container\"><div class=\"sk-text-repr-fallback\"><pre>GridSearchCV(cv=3, estimator=Lasso(),\n",
              "             param_grid={&#x27;alpha&#x27;: [0.0001, 0.01, 1, 10, 100]}, scoring=&#x27;r2&#x27;)</pre><b>In a Jupyter environment, please rerun this cell to show the HTML representation or trust the notebook. <br />On GitHub, the HTML representation is unable to render, please try loading this page with nbviewer.org.</b></div><div class=\"sk-container\" hidden><div class=\"sk-item sk-dashed-wrapped\"><div class=\"sk-label-container\"><div class=\"sk-label sk-toggleable\"><input class=\"sk-toggleable__control sk-hidden--visually\" id=\"sk-estimator-id-31\" type=\"checkbox\" ><label for=\"sk-estimator-id-31\" class=\"sk-toggleable__label sk-toggleable__label-arrow\">GridSearchCV</label><div class=\"sk-toggleable__content\"><pre>GridSearchCV(cv=3, estimator=Lasso(),\n",
              "             param_grid={&#x27;alpha&#x27;: [0.0001, 0.01, 1, 10, 100]}, scoring=&#x27;r2&#x27;)</pre></div></div></div><div class=\"sk-parallel\"><div class=\"sk-parallel-item\"><div class=\"sk-item\"><div class=\"sk-label-container\"><div class=\"sk-label sk-toggleable\"><input class=\"sk-toggleable__control sk-hidden--visually\" id=\"sk-estimator-id-32\" type=\"checkbox\" ><label for=\"sk-estimator-id-32\" class=\"sk-toggleable__label sk-toggleable__label-arrow\">estimator: Lasso</label><div class=\"sk-toggleable__content\"><pre>Lasso()</pre></div></div></div><div class=\"sk-serial\"><div class=\"sk-item\"><div class=\"sk-estimator sk-toggleable\"><input class=\"sk-toggleable__control sk-hidden--visually\" id=\"sk-estimator-id-33\" type=\"checkbox\" ><label for=\"sk-estimator-id-33\" class=\"sk-toggleable__label sk-toggleable__label-arrow\">Lasso</label><div class=\"sk-toggleable__content\"><pre>Lasso()</pre></div></div></div></div></div></div></div></div></div></div>"
            ]
          },
          "metadata": {},
          "execution_count": 143
        }
      ],
      "source": [
        "model = Lasso()\n",
        "\n",
        "parametersGrid = {\"alpha\": [0.0001, 0.01, 1, 10, 100]}\n",
        "\n",
        "grid_els = GridSearchCV(model, param_grid = parametersGrid, cv=3, refit = True ,  scoring='r2')\n",
        "# refit : True가 디폴트, True이면 가장 좋은 파라미터 설정으로 학습시켜서 모델 반환\n",
        "# cv=3 한번 체크하면 잘 못된 결정을 할 수 있으니, 3번 정도 확인해서 평균을 내겠다.\n",
        "# scoring = r2 r2를 기준으로 점수를 내겠다.\n",
        "grid_els.fit(X_train, y_train)"
      ]
    },
    {
      "cell_type": "code",
      "source": [
        "pd.DataFrame(grid_els.cv_results_)[['params', 'mean_test_score', 'rank_test_score', 'split0_test_score', 'split1_test_score', 'split2_test_score']]"
      ],
      "metadata": {
        "colab": {
          "base_uri": "https://localhost:8080/",
          "height": 206
        },
        "id": "8TSldCIXFIs2",
        "outputId": "ead69065-4613-4fca-c043-bed5a5667254"
      },
      "execution_count": 144,
      "outputs": [
        {
          "output_type": "execute_result",
          "data": {
            "text/plain": [
              "              params  mean_test_score  rank_test_score  split0_test_score  \\\n",
              "0  {'alpha': 0.0001}         0.748487                2           0.793935   \n",
              "1    {'alpha': 0.01}         0.748487                1           0.793935   \n",
              "2       {'alpha': 1}         0.748487                3           0.793921   \n",
              "3      {'alpha': 10}         0.748470                4           0.793771   \n",
              "4     {'alpha': 100}         0.747190                5           0.791716   \n",
              "\n",
              "   split1_test_score  split2_test_score  \n",
              "0           0.712394           0.739131  \n",
              "1           0.712394           0.739131  \n",
              "2           0.712423           0.739116  \n",
              "3           0.712665           0.738974  \n",
              "4           0.713467           0.736386  "
            ],
            "text/html": [
              "\n",
              "  <div id=\"df-fe57c00a-7411-428e-9b4e-39fa94578bd2\" class=\"colab-df-container\">\n",
              "    <div>\n",
              "<style scoped>\n",
              "    .dataframe tbody tr th:only-of-type {\n",
              "        vertical-align: middle;\n",
              "    }\n",
              "\n",
              "    .dataframe tbody tr th {\n",
              "        vertical-align: top;\n",
              "    }\n",
              "\n",
              "    .dataframe thead th {\n",
              "        text-align: right;\n",
              "    }\n",
              "</style>\n",
              "<table border=\"1\" class=\"dataframe\">\n",
              "  <thead>\n",
              "    <tr style=\"text-align: right;\">\n",
              "      <th></th>\n",
              "      <th>params</th>\n",
              "      <th>mean_test_score</th>\n",
              "      <th>rank_test_score</th>\n",
              "      <th>split0_test_score</th>\n",
              "      <th>split1_test_score</th>\n",
              "      <th>split2_test_score</th>\n",
              "    </tr>\n",
              "  </thead>\n",
              "  <tbody>\n",
              "    <tr>\n",
              "      <th>0</th>\n",
              "      <td>{'alpha': 0.0001}</td>\n",
              "      <td>0.748487</td>\n",
              "      <td>2</td>\n",
              "      <td>0.793935</td>\n",
              "      <td>0.712394</td>\n",
              "      <td>0.739131</td>\n",
              "    </tr>\n",
              "    <tr>\n",
              "      <th>1</th>\n",
              "      <td>{'alpha': 0.01}</td>\n",
              "      <td>0.748487</td>\n",
              "      <td>1</td>\n",
              "      <td>0.793935</td>\n",
              "      <td>0.712394</td>\n",
              "      <td>0.739131</td>\n",
              "    </tr>\n",
              "    <tr>\n",
              "      <th>2</th>\n",
              "      <td>{'alpha': 1}</td>\n",
              "      <td>0.748487</td>\n",
              "      <td>3</td>\n",
              "      <td>0.793921</td>\n",
              "      <td>0.712423</td>\n",
              "      <td>0.739116</td>\n",
              "    </tr>\n",
              "    <tr>\n",
              "      <th>3</th>\n",
              "      <td>{'alpha': 10}</td>\n",
              "      <td>0.748470</td>\n",
              "      <td>4</td>\n",
              "      <td>0.793771</td>\n",
              "      <td>0.712665</td>\n",
              "      <td>0.738974</td>\n",
              "    </tr>\n",
              "    <tr>\n",
              "      <th>4</th>\n",
              "      <td>{'alpha': 100}</td>\n",
              "      <td>0.747190</td>\n",
              "      <td>5</td>\n",
              "      <td>0.791716</td>\n",
              "      <td>0.713467</td>\n",
              "      <td>0.736386</td>\n",
              "    </tr>\n",
              "  </tbody>\n",
              "</table>\n",
              "</div>\n",
              "    <div class=\"colab-df-buttons\">\n",
              "\n",
              "  <div class=\"colab-df-container\">\n",
              "    <button class=\"colab-df-convert\" onclick=\"convertToInteractive('df-fe57c00a-7411-428e-9b4e-39fa94578bd2')\"\n",
              "            title=\"Convert this dataframe to an interactive table.\"\n",
              "            style=\"display:none;\">\n",
              "\n",
              "  <svg xmlns=\"http://www.w3.org/2000/svg\" height=\"24px\" viewBox=\"0 -960 960 960\">\n",
              "    <path d=\"M120-120v-720h720v720H120Zm60-500h600v-160H180v160Zm220 220h160v-160H400v160Zm0 220h160v-160H400v160ZM180-400h160v-160H180v160Zm440 0h160v-160H620v160ZM180-180h160v-160H180v160Zm440 0h160v-160H620v160Z\"/>\n",
              "  </svg>\n",
              "    </button>\n",
              "\n",
              "  <style>\n",
              "    .colab-df-container {\n",
              "      display:flex;\n",
              "      gap: 12px;\n",
              "    }\n",
              "\n",
              "    .colab-df-convert {\n",
              "      background-color: #E8F0FE;\n",
              "      border: none;\n",
              "      border-radius: 50%;\n",
              "      cursor: pointer;\n",
              "      display: none;\n",
              "      fill: #1967D2;\n",
              "      height: 32px;\n",
              "      padding: 0 0 0 0;\n",
              "      width: 32px;\n",
              "    }\n",
              "\n",
              "    .colab-df-convert:hover {\n",
              "      background-color: #E2EBFA;\n",
              "      box-shadow: 0px 1px 2px rgba(60, 64, 67, 0.3), 0px 1px 3px 1px rgba(60, 64, 67, 0.15);\n",
              "      fill: #174EA6;\n",
              "    }\n",
              "\n",
              "    .colab-df-buttons div {\n",
              "      margin-bottom: 4px;\n",
              "    }\n",
              "\n",
              "    [theme=dark] .colab-df-convert {\n",
              "      background-color: #3B4455;\n",
              "      fill: #D2E3FC;\n",
              "    }\n",
              "\n",
              "    [theme=dark] .colab-df-convert:hover {\n",
              "      background-color: #434B5C;\n",
              "      box-shadow: 0px 1px 3px 1px rgba(0, 0, 0, 0.15);\n",
              "      filter: drop-shadow(0px 1px 2px rgba(0, 0, 0, 0.3));\n",
              "      fill: #FFFFFF;\n",
              "    }\n",
              "  </style>\n",
              "\n",
              "    <script>\n",
              "      const buttonEl =\n",
              "        document.querySelector('#df-fe57c00a-7411-428e-9b4e-39fa94578bd2 button.colab-df-convert');\n",
              "      buttonEl.style.display =\n",
              "        google.colab.kernel.accessAllowed ? 'block' : 'none';\n",
              "\n",
              "      async function convertToInteractive(key) {\n",
              "        const element = document.querySelector('#df-fe57c00a-7411-428e-9b4e-39fa94578bd2');\n",
              "        const dataTable =\n",
              "          await google.colab.kernel.invokeFunction('convertToInteractive',\n",
              "                                                    [key], {});\n",
              "        if (!dataTable) return;\n",
              "\n",
              "        const docLinkHtml = 'Like what you see? Visit the ' +\n",
              "          '<a target=\"_blank\" href=https://colab.research.google.com/notebooks/data_table.ipynb>data table notebook</a>'\n",
              "          + ' to learn more about interactive tables.';\n",
              "        element.innerHTML = '';\n",
              "        dataTable['output_type'] = 'display_data';\n",
              "        await google.colab.output.renderOutput(dataTable, element);\n",
              "        const docLink = document.createElement('div');\n",
              "        docLink.innerHTML = docLinkHtml;\n",
              "        element.appendChild(docLink);\n",
              "      }\n",
              "    </script>\n",
              "  </div>\n",
              "\n",
              "\n",
              "<div id=\"df-2fb4ee3f-99d8-4d08-ad3a-d4cb84fe46a6\">\n",
              "  <button class=\"colab-df-quickchart\" onclick=\"quickchart('df-2fb4ee3f-99d8-4d08-ad3a-d4cb84fe46a6')\"\n",
              "            title=\"Suggest charts.\"\n",
              "            style=\"display:none;\">\n",
              "\n",
              "<svg xmlns=\"http://www.w3.org/2000/svg\" height=\"24px\"viewBox=\"0 0 24 24\"\n",
              "     width=\"24px\">\n",
              "    <g>\n",
              "        <path d=\"M19 3H5c-1.1 0-2 .9-2 2v14c0 1.1.9 2 2 2h14c1.1 0 2-.9 2-2V5c0-1.1-.9-2-2-2zM9 17H7v-7h2v7zm4 0h-2V7h2v10zm4 0h-2v-4h2v4z\"/>\n",
              "    </g>\n",
              "</svg>\n",
              "  </button>\n",
              "\n",
              "<style>\n",
              "  .colab-df-quickchart {\n",
              "    background-color: #E8F0FE;\n",
              "    border: none;\n",
              "    border-radius: 50%;\n",
              "    cursor: pointer;\n",
              "    display: none;\n",
              "    fill: #1967D2;\n",
              "    height: 32px;\n",
              "    padding: 0 0 0 0;\n",
              "    width: 32px;\n",
              "  }\n",
              "\n",
              "  .colab-df-quickchart:hover {\n",
              "    background-color: #E2EBFA;\n",
              "    box-shadow: 0px 1px 2px rgba(60, 64, 67, 0.3), 0px 1px 3px 1px rgba(60, 64, 67, 0.15);\n",
              "    fill: #174EA6;\n",
              "  }\n",
              "\n",
              "  [theme=dark] .colab-df-quickchart {\n",
              "    background-color: #3B4455;\n",
              "    fill: #D2E3FC;\n",
              "  }\n",
              "\n",
              "  [theme=dark] .colab-df-quickchart:hover {\n",
              "    background-color: #434B5C;\n",
              "    box-shadow: 0px 1px 3px 1px rgba(0, 0, 0, 0.15);\n",
              "    filter: drop-shadow(0px 1px 2px rgba(0, 0, 0, 0.3));\n",
              "    fill: #FFFFFF;\n",
              "  }\n",
              "</style>\n",
              "\n",
              "  <script>\n",
              "    async function quickchart(key) {\n",
              "      const charts = await google.colab.kernel.invokeFunction(\n",
              "          'suggestCharts', [key], {});\n",
              "    }\n",
              "    (() => {\n",
              "      let quickchartButtonEl =\n",
              "        document.querySelector('#df-2fb4ee3f-99d8-4d08-ad3a-d4cb84fe46a6 button');\n",
              "      quickchartButtonEl.style.display =\n",
              "        google.colab.kernel.accessAllowed ? 'block' : 'none';\n",
              "    })();\n",
              "  </script>\n",
              "</div>\n",
              "    </div>\n",
              "  </div>\n"
            ]
          },
          "metadata": {},
          "execution_count": 144
        }
      ]
    },
    {
      "cell_type": "code",
      "source": [
        "lasso = Lasso(alpha=0.01).fit(X_train, y_train)\n",
        "lasso.coef_.max(), lasso.coef_.min(), np.mean(lasso.coef_)"
      ],
      "metadata": {
        "colab": {
          "base_uri": "https://localhost:8080/"
        },
        "id": "dI3Xq4Y4FqKX",
        "outputId": "58262a17-a45f-4ba4-d7c9-052d83c1c5f4"
      },
      "execution_count": 145,
      "outputs": [
        {
          "output_type": "execute_result",
          "data": {
            "text/plain": [
              "(927.2837502599801, -23986.188429721384, -1951.0702896237663)"
            ]
          },
          "metadata": {},
          "execution_count": 145
        }
      ]
    },
    {
      "cell_type": "code",
      "source": [
        "lasso.score(X_train, y_train)"
      ],
      "metadata": {
        "colab": {
          "base_uri": "https://localhost:8080/"
        },
        "outputId": "532bba27-ce3d-400e-b841-1dcbb27557df",
        "id": "D2dQsZzGFjt4"
      },
      "execution_count": 146,
      "outputs": [
        {
          "output_type": "execute_result",
          "data": {
            "text/plain": [
              "0.7528339112756228"
            ]
          },
          "metadata": {},
          "execution_count": 146
        }
      ]
    },
    {
      "cell_type": "code",
      "source": [
        "lasso.score(X_test, y_test)"
      ],
      "metadata": {
        "colab": {
          "base_uri": "https://localhost:8080/"
        },
        "outputId": "019fc1e4-b641-4122-f8cf-e49a45c5f755",
        "id": "fVuDQsAEFjt4"
      },
      "execution_count": 147,
      "outputs": [
        {
          "output_type": "execute_result",
          "data": {
            "text/plain": [
              "0.7387610828607734"
            ]
          },
          "metadata": {},
          "execution_count": 147
        }
      ]
    },
    {
      "cell_type": "code",
      "source": [
        "y_pred = lasso.predict(X_test)\n",
        "#print(plt.scatter(y_test, y_pred))\n",
        "\n",
        "print(\"R2:\", lasso.score(X_test,y_test))\n",
        "R2.append(lasso.score(X_test,y_test))\n",
        "print(\"MAE:\", metrics.mean_absolute_error(y_test, y_pred))\n",
        "MAE.append( metrics.mean_absolute_error(y_test, y_pred))\n",
        "print(\"MSE: \", metrics.mean_squared_error(y_test, y_pred))\n",
        "MSE.append(metrics.mean_squared_error(y_test, y_pred))\n",
        "print(\"RMSE: \", np.sqrt(metrics.mean_squared_error(y_test, y_pred)))\n",
        "RMSE.append(np.sqrt(metrics.mean_squared_error(y_test, y_pred)))"
      ],
      "metadata": {
        "colab": {
          "base_uri": "https://localhost:8080/"
        },
        "id": "v3icAQ57GTdQ",
        "outputId": "b1883cdb-5350-440d-9643-b8a1f87b0559"
      },
      "execution_count": 148,
      "outputs": [
        {
          "output_type": "stream",
          "name": "stdout",
          "text": [
            "R2: 0.7387610828607734\n",
            "MAE: 4108.581536733067\n",
            "MSE:  36832976.66849845\n",
            "RMSE:  6069.017768016374\n"
          ]
        }
      ]
    },
    {
      "cell_type": "code",
      "source": [
        "df1=pd.DataFrame({'R2':R2,'Mae':MAE,'MSE':MSE,'RMSE':RMSE},index=['Elastic','Ridge','Lasso'])"
      ],
      "metadata": {
        "id": "iur3mo3nGhCz"
      },
      "execution_count": 149,
      "outputs": []
    },
    {
      "cell_type": "code",
      "source": [
        "df1\n",
        "#Elastic이 R2이 가장 높고 MSE,RMSE 값이 가장 작은 모델 -> 성능이 가장 좋은 것으로 판단해 체택"
      ],
      "metadata": {
        "colab": {
          "base_uri": "https://localhost:8080/",
          "height": 143
        },
        "id": "Fkp12VnUHzYT",
        "outputId": "6148526e-de25-4e3a-8e6e-8b3d3a2db033"
      },
      "execution_count": 150,
      "outputs": [
        {
          "output_type": "execute_result",
          "data": {
            "text/plain": [
              "               R2          Mae           MSE         RMSE\n",
              "Elastic  0.739052  4114.965864  3.679201e+07  6065.641983\n",
              "Ridge    0.738903  4111.515454  3.681302e+07  6067.373627\n",
              "Lasso    0.738761  4108.581537  3.683298e+07  6069.017768"
            ],
            "text/html": [
              "\n",
              "  <div id=\"df-25397c9d-b3be-4297-a646-027108d84624\" class=\"colab-df-container\">\n",
              "    <div>\n",
              "<style scoped>\n",
              "    .dataframe tbody tr th:only-of-type {\n",
              "        vertical-align: middle;\n",
              "    }\n",
              "\n",
              "    .dataframe tbody tr th {\n",
              "        vertical-align: top;\n",
              "    }\n",
              "\n",
              "    .dataframe thead th {\n",
              "        text-align: right;\n",
              "    }\n",
              "</style>\n",
              "<table border=\"1\" class=\"dataframe\">\n",
              "  <thead>\n",
              "    <tr style=\"text-align: right;\">\n",
              "      <th></th>\n",
              "      <th>R2</th>\n",
              "      <th>Mae</th>\n",
              "      <th>MSE</th>\n",
              "      <th>RMSE</th>\n",
              "    </tr>\n",
              "  </thead>\n",
              "  <tbody>\n",
              "    <tr>\n",
              "      <th>Elastic</th>\n",
              "      <td>0.739052</td>\n",
              "      <td>4114.965864</td>\n",
              "      <td>3.679201e+07</td>\n",
              "      <td>6065.641983</td>\n",
              "    </tr>\n",
              "    <tr>\n",
              "      <th>Ridge</th>\n",
              "      <td>0.738903</td>\n",
              "      <td>4111.515454</td>\n",
              "      <td>3.681302e+07</td>\n",
              "      <td>6067.373627</td>\n",
              "    </tr>\n",
              "    <tr>\n",
              "      <th>Lasso</th>\n",
              "      <td>0.738761</td>\n",
              "      <td>4108.581537</td>\n",
              "      <td>3.683298e+07</td>\n",
              "      <td>6069.017768</td>\n",
              "    </tr>\n",
              "  </tbody>\n",
              "</table>\n",
              "</div>\n",
              "    <div class=\"colab-df-buttons\">\n",
              "\n",
              "  <div class=\"colab-df-container\">\n",
              "    <button class=\"colab-df-convert\" onclick=\"convertToInteractive('df-25397c9d-b3be-4297-a646-027108d84624')\"\n",
              "            title=\"Convert this dataframe to an interactive table.\"\n",
              "            style=\"display:none;\">\n",
              "\n",
              "  <svg xmlns=\"http://www.w3.org/2000/svg\" height=\"24px\" viewBox=\"0 -960 960 960\">\n",
              "    <path d=\"M120-120v-720h720v720H120Zm60-500h600v-160H180v160Zm220 220h160v-160H400v160Zm0 220h160v-160H400v160ZM180-400h160v-160H180v160Zm440 0h160v-160H620v160ZM180-180h160v-160H180v160Zm440 0h160v-160H620v160Z\"/>\n",
              "  </svg>\n",
              "    </button>\n",
              "\n",
              "  <style>\n",
              "    .colab-df-container {\n",
              "      display:flex;\n",
              "      gap: 12px;\n",
              "    }\n",
              "\n",
              "    .colab-df-convert {\n",
              "      background-color: #E8F0FE;\n",
              "      border: none;\n",
              "      border-radius: 50%;\n",
              "      cursor: pointer;\n",
              "      display: none;\n",
              "      fill: #1967D2;\n",
              "      height: 32px;\n",
              "      padding: 0 0 0 0;\n",
              "      width: 32px;\n",
              "    }\n",
              "\n",
              "    .colab-df-convert:hover {\n",
              "      background-color: #E2EBFA;\n",
              "      box-shadow: 0px 1px 2px rgba(60, 64, 67, 0.3), 0px 1px 3px 1px rgba(60, 64, 67, 0.15);\n",
              "      fill: #174EA6;\n",
              "    }\n",
              "\n",
              "    .colab-df-buttons div {\n",
              "      margin-bottom: 4px;\n",
              "    }\n",
              "\n",
              "    [theme=dark] .colab-df-convert {\n",
              "      background-color: #3B4455;\n",
              "      fill: #D2E3FC;\n",
              "    }\n",
              "\n",
              "    [theme=dark] .colab-df-convert:hover {\n",
              "      background-color: #434B5C;\n",
              "      box-shadow: 0px 1px 3px 1px rgba(0, 0, 0, 0.15);\n",
              "      filter: drop-shadow(0px 1px 2px rgba(0, 0, 0, 0.3));\n",
              "      fill: #FFFFFF;\n",
              "    }\n",
              "  </style>\n",
              "\n",
              "    <script>\n",
              "      const buttonEl =\n",
              "        document.querySelector('#df-25397c9d-b3be-4297-a646-027108d84624 button.colab-df-convert');\n",
              "      buttonEl.style.display =\n",
              "        google.colab.kernel.accessAllowed ? 'block' : 'none';\n",
              "\n",
              "      async function convertToInteractive(key) {\n",
              "        const element = document.querySelector('#df-25397c9d-b3be-4297-a646-027108d84624');\n",
              "        const dataTable =\n",
              "          await google.colab.kernel.invokeFunction('convertToInteractive',\n",
              "                                                    [key], {});\n",
              "        if (!dataTable) return;\n",
              "\n",
              "        const docLinkHtml = 'Like what you see? Visit the ' +\n",
              "          '<a target=\"_blank\" href=https://colab.research.google.com/notebooks/data_table.ipynb>data table notebook</a>'\n",
              "          + ' to learn more about interactive tables.';\n",
              "        element.innerHTML = '';\n",
              "        dataTable['output_type'] = 'display_data';\n",
              "        await google.colab.output.renderOutput(dataTable, element);\n",
              "        const docLink = document.createElement('div');\n",
              "        docLink.innerHTML = docLinkHtml;\n",
              "        element.appendChild(docLink);\n",
              "      }\n",
              "    </script>\n",
              "  </div>\n",
              "\n",
              "    </div>\n",
              "  </div>\n"
            ]
          },
          "metadata": {},
          "execution_count": 150
        }
      ]
    },
    {
      "cell_type": "code",
      "source": [
        "# 최적 모델의 weight 시각화\n",
        "plt.bar(X_test.columns, elastic.coef_)\n",
        "plt.xticks(rotation=30)\n",
        "plt.show()"
      ],
      "metadata": {
        "id": "KrDt4julNLzL",
        "colab": {
          "base_uri": "https://localhost:8080/",
          "height": 501
        },
        "outputId": "e90ae6c2-f9d1-4337-935f-4ce9e114f0e3"
      },
      "execution_count": 151,
      "outputs": [
        {
          "output_type": "display_data",
          "data": {
            "text/plain": [
              "<Figure size 640x480 with 1 Axes>"
            ],
            "image/png": "[encoded data removed]"
          },
          "metadata": {}
        }
      ]
    },
    {
      "cell_type": "markdown",
      "source": [
        "## 성능 올려보기"
      ],
      "metadata": {
        "id": "uBLSBMQKWB2r"
      }
    },
    {
      "cell_type": "code",
      "source": [
        "import pandas as pd\n",
        "import numpy as np\n",
        "import statsmodels.api as sm\n",
        "# 상수항 추가\n",
        "x_data2_ = sm.add_constant(X_train, has_constant = \"add\")\n",
        "\n",
        "# 회귀모델 적합\n",
        "multi_model2 = sm.OLS(y_train, X_train)\n",
        "fitted_multi_model2 = multi_model2.fit()\n",
        "\n",
        "# 결과 출력\n",
        "fitted_multi_model2.summary()\n",
        "# OLS Regression 모델은 R2값이 0.753으로 매우 높음을 알 수 있다.\n",
        "# 유의하지 않은 변수는 sex_female,sex_male,region_northeast,region_northwest,region_southeast\n",
        "# 성별이 보험료에 유의한 영향력을 주지 않는다. 지역의 경우 region_southeast만 보험료에 유의하게 영향을 주는 것을 확인할 수 있다."
      ],
      "metadata": {
        "colab": {
          "base_uri": "https://localhost:8080/",
          "height": 676
        },
        "id": "8jA3dFeHWEEY",
        "outputId": "304fff84-2332-454c-ce73-6604f6ef180f"
      },
      "execution_count": 157,
      "outputs": [
        {
          "output_type": "execute_result",
          "data": {
            "text/plain": [
              "<class 'statsmodels.iolib.summary.Summary'>\n",
              "\"\"\"\n",
              "                            OLS Regression Results                            \n",
              "==============================================================================\n",
              "Dep. Variable:                charges   R-squared:                       0.753\n",
              "Model:                            OLS   Adj. R-squared:                  0.751\n",
              "Method:                 Least Squares   F-statistic:                     404.0\n",
              "Date:                Tue, 29 Aug 2023   Prob (F-statistic):          1.03e-315\n",
              "Time:                        18:01:31   Log-Likelihood:                -10835.\n",
              "No. Observations:                1070   AIC:                         2.169e+04\n",
              "Df Residuals:                    1061   BIC:                         2.173e+04\n",
              "Df Model:                           8                                         \n",
              "Covariance Type:            nonrobust                                         \n",
              "====================================================================================\n",
              "                       coef    std err          t      P>|t|      [0.025      0.975]\n",
              "------------------------------------------------------------------------------------\n",
              "age                250.7841     13.370     18.757      0.000     224.549     277.020\n",
              "bmi                371.7932     31.702     11.728      0.000     309.588     433.999\n",
              "children           552.8837    152.981      3.614      0.000     252.705     853.063\n",
              "sex_female        -514.6248    469.513     -1.096      0.273   -1435.905     406.656\n",
              "sex_male          -692.9315    474.778     -1.459      0.145   -1624.541     238.678\n",
              "smoker_no         -1.26e+04    472.661    -26.651      0.000   -1.35e+04   -1.17e+04\n",
              "smoker_yes        1.139e+04    507.932     22.423      0.000    1.04e+04    1.24e+04\n",
              "region_northeast   332.7203    370.780      0.897      0.370    -394.825    1060.266\n",
              "region_northwest   137.4280    383.771      0.358      0.720    -615.608     890.464\n",
              "region_southeast -1179.8473    421.149     -2.801      0.005   -2006.227    -353.467\n",
              "region_southwest  -497.8573    393.943     -1.264      0.207   -1270.853     275.138\n",
              "==============================================================================\n",
              "Omnibus:                      229.020   Durbin-Watson:                   2.103\n",
              "Prob(Omnibus):                  0.000   Jarque-Bera (JB):              525.262\n",
              "Skew:                           1.164   Prob(JB):                    8.73e-115\n",
              "Kurtosis:                       5.522   Cond. No.                     4.39e+17\n",
              "==============================================================================\n",
              "\n",
              "Notes:\n",
              "[1] Standard Errors assume that the covariance matrix of the errors is correctly specified.\n",
              "[2] The smallest eigenvalue is 1.47e-29. This might indicate that there are\n",
              "strong multicollinearity problems or that the design matrix is singular.\n",
              "\"\"\""
            ],
            "text/html": [
              "<table class=\"simpletable\">\n",
              "<caption>OLS Regression Results</caption>\n",
              "<tr>\n",
              "  <th>Dep. Variable:</th>         <td>charges</td>     <th>  R-squared:         </th> <td>   0.753</td> \n",
              "</tr>\n",
              "<tr>\n",
              "  <th>Model:</th>                   <td>OLS</td>       <th>  Adj. R-squared:    </th> <td>   0.751</td> \n",
              "</tr>\n",
              "<tr>\n",
              "  <th>Method:</th>             <td>Least Squares</td>  <th>  F-statistic:       </th> <td>   404.0</td> \n",
              "</tr>\n",
              "<tr>\n",
              "  <th>Date:</th>             <td>Tue, 29 Aug 2023</td> <th>  Prob (F-statistic):</th> <td>1.03e-315</td>\n",
              "</tr>\n",
              "<tr>\n",
              "  <th>Time:</th>                 <td>18:01:31</td>     <th>  Log-Likelihood:    </th> <td> -10835.</td> \n",
              "</tr>\n",
              "<tr>\n",
              "  <th>No. Observations:</th>      <td>  1070</td>      <th>  AIC:               </th> <td>2.169e+04</td>\n",
              "</tr>\n",
              "<tr>\n",
              "  <th>Df Residuals:</th>          <td>  1061</td>      <th>  BIC:               </th> <td>2.173e+04</td>\n",
              "</tr>\n",
              "<tr>\n",
              "  <th>Df Model:</th>              <td>     8</td>      <th>                     </th>     <td> </td>    \n",
              "</tr>\n",
              "<tr>\n",
              "  <th>Covariance Type:</th>      <td>nonrobust</td>    <th>                     </th>     <td> </td>    \n",
              "</tr>\n",
              "</table>\n",
              "<table class=\"simpletable\">\n",
              "<tr>\n",
              "          <td></td>            <th>coef</th>     <th>std err</th>      <th>t</th>      <th>P>|t|</th>  <th>[0.025</th>    <th>0.975]</th>  \n",
              "</tr>\n",
              "<tr>\n",
              "  <th>age</th>              <td>  250.7841</td> <td>   13.370</td> <td>   18.757</td> <td> 0.000</td> <td>  224.549</td> <td>  277.020</td>\n",
              "</tr>\n",
              "<tr>\n",
              "  <th>bmi</th>              <td>  371.7932</td> <td>   31.702</td> <td>   11.728</td> <td> 0.000</td> <td>  309.588</td> <td>  433.999</td>\n",
              "</tr>\n",
              "<tr>\n",
              "  <th>children</th>         <td>  552.8837</td> <td>  152.981</td> <td>    3.614</td> <td> 0.000</td> <td>  252.705</td> <td>  853.063</td>\n",
              "</tr>\n",
              "<tr>\n",
              "  <th>sex_female</th>       <td> -514.6248</td> <td>  469.513</td> <td>   -1.096</td> <td> 0.273</td> <td>-1435.905</td> <td>  406.656</td>\n",
              "</tr>\n",
              "<tr>\n",
              "  <th>sex_male</th>         <td> -692.9315</td> <td>  474.778</td> <td>   -1.459</td> <td> 0.145</td> <td>-1624.541</td> <td>  238.678</td>\n",
              "</tr>\n",
              "<tr>\n",
              "  <th>smoker_no</th>        <td> -1.26e+04</td> <td>  472.661</td> <td>  -26.651</td> <td> 0.000</td> <td>-1.35e+04</td> <td>-1.17e+04</td>\n",
              "</tr>\n",
              "<tr>\n",
              "  <th>smoker_yes</th>       <td> 1.139e+04</td> <td>  507.932</td> <td>   22.423</td> <td> 0.000</td> <td> 1.04e+04</td> <td> 1.24e+04</td>\n",
              "</tr>\n",
              "<tr>\n",
              "  <th>region_northeast</th> <td>  332.7203</td> <td>  370.780</td> <td>    0.897</td> <td> 0.370</td> <td> -394.825</td> <td> 1060.266</td>\n",
              "</tr>\n",
              "<tr>\n",
              "  <th>region_northwest</th> <td>  137.4280</td> <td>  383.771</td> <td>    0.358</td> <td> 0.720</td> <td> -615.608</td> <td>  890.464</td>\n",
              "</tr>\n",
              "<tr>\n",
              "  <th>region_southeast</th> <td>-1179.8473</td> <td>  421.149</td> <td>   -2.801</td> <td> 0.005</td> <td>-2006.227</td> <td> -353.467</td>\n",
              "</tr>\n",
              "<tr>\n",
              "  <th>region_southwest</th> <td> -497.8573</td> <td>  393.943</td> <td>   -1.264</td> <td> 0.207</td> <td>-1270.853</td> <td>  275.138</td>\n",
              "</tr>\n",
              "</table>\n",
              "<table class=\"simpletable\">\n",
              "<tr>\n",
              "  <th>Omnibus:</th>       <td>229.020</td> <th>  Durbin-Watson:     </th> <td>   2.103</td> \n",
              "</tr>\n",
              "<tr>\n",
              "  <th>Prob(Omnibus):</th> <td> 0.000</td>  <th>  Jarque-Bera (JB):  </th> <td> 525.262</td> \n",
              "</tr>\n",
              "<tr>\n",
              "  <th>Skew:</th>          <td> 1.164</td>  <th>  Prob(JB):          </th> <td>8.73e-115</td>\n",
              "</tr>\n",
              "<tr>\n",
              "  <th>Kurtosis:</th>      <td> 5.522</td>  <th>  Cond. No.          </th> <td>4.39e+17</td> \n",
              "</tr>\n",
              "</table><br/><br/>Notes:<br/>[1] Standard Errors assume that the covariance matrix of the errors is correctly specified.<br/>[2] The smallest eigenvalue is 1.47e-29. This might indicate that there are<br/>strong multicollinearity problems or that the design matrix is singular."
            ],
            "text/latex": "\\begin{center}\n\\begin{tabular}{lclc}\n\\toprule\n\\textbf{Dep. Variable:}    &     charges      & \\textbf{  R-squared:         } &     0.753   \\\\\n\\textbf{Model:}            &       OLS        & \\textbf{  Adj. R-squared:    } &     0.751   \\\\\n\\textbf{Method:}           &  Least Squares   & \\textbf{  F-statistic:       } &     404.0   \\\\\n\\textbf{Date:}             & Tue, 29 Aug 2023 & \\textbf{  Prob (F-statistic):} & 1.03e-315   \\\\\n\\textbf{Time:}             &     18:01:31     & \\textbf{  Log-Likelihood:    } &   -10835.   \\\\\n\\textbf{No. Observations:} &        1070      & \\textbf{  AIC:               } & 2.169e+04   \\\\\n\\textbf{Df Residuals:}     &        1061      & \\textbf{  BIC:               } & 2.173e+04   \\\\\n\\textbf{Df Model:}         &           8      & \\textbf{                     } &             \\\\\n\\textbf{Covariance Type:}  &    nonrobust     & \\textbf{                     } &             \\\\\n\\bottomrule\n\\end{tabular}\n\\begin{tabular}{lcccccc}\n                           & \\textbf{coef} & \\textbf{std err} & \\textbf{t} & \\textbf{P$> |$t$|$} & \\textbf{[0.025} & \\textbf{0.975]}  \\\\\n\\midrule\n\\textbf{age}               &     250.7841  &       13.370     &    18.757  &         0.000        &      224.549    &      277.020     \\\\\n\\textbf{bmi}               &     371.7932  &       31.702     &    11.728  &         0.000        &      309.588    &      433.999     \\\\\n\\textbf{children}          &     552.8837  &      152.981     &     3.614  &         0.000        &      252.705    &      853.063     \\\\\n\\textbf{sex\\_female}       &    -514.6248  &      469.513     &    -1.096  &         0.273        &    -1435.905    &      406.656     \\\\\n\\textbf{sex\\_male}         &    -692.9315  &      474.778     &    -1.459  &         0.145        &    -1624.541    &      238.678     \\\\\n\\textbf{smoker\\_no}        &    -1.26e+04  &      472.661     &   -26.651  &         0.000        &    -1.35e+04    &    -1.17e+04     \\\\\n\\textbf{smoker\\_yes}       &    1.139e+04  &      507.932     &    22.423  &         0.000        &     1.04e+04    &     1.24e+04     \\\\\n\\textbf{region\\_northeast} &     332.7203  &      370.780     &     0.897  &         0.370        &     -394.825    &     1060.266     \\\\\n\\textbf{region\\_northwest} &     137.4280  &      383.771     &     0.358  &         0.720        &     -615.608    &      890.464     \\\\\n\\textbf{region\\_southeast} &   -1179.8473  &      421.149     &    -2.801  &         0.005        &    -2006.227    &     -353.467     \\\\\n\\textbf{region\\_southwest} &    -497.8573  &      393.943     &    -1.264  &         0.207        &    -1270.853    &      275.138     \\\\\n\\bottomrule\n\\end{tabular}\n\\begin{tabular}{lclc}\n\\textbf{Omnibus:}       & 229.020 & \\textbf{  Durbin-Watson:     } &     2.103  \\\\\n\\textbf{Prob(Omnibus):} &   0.000 & \\textbf{  Jarque-Bera (JB):  } &   525.262  \\\\\n\\textbf{Skew:}          &   1.164 & \\textbf{  Prob(JB):          } & 8.73e-115  \\\\\n\\textbf{Kurtosis:}      &   5.522 & \\textbf{  Cond. No.          } &  4.39e+17  \\\\\n\\bottomrule\n\\end{tabular}\n%\\caption{OLS Regression Results}\n\\end{center}\n\nNotes: \\newline\n [1] Standard Errors assume that the covariance matrix of the errors is correctly specified. \\newline\n [2] The smallest eigenvalue is 1.47e-29. This might indicate that there are \\newline\n strong multicollinearity problems or that the design matrix is singular."
          },
          "metadata": {},
          "execution_count": 157
        }
      ]
    },
    {
      "cell_type": "code",
      "source": [
        "# 유의한 변수만 남기고 돌려보기 - 크게 성능 차이는 없음\n",
        "import pandas as pd\n",
        "import numpy as np\n",
        "import statsmodels.api as sm\n",
        "# 상수항 추가\n",
        "x_data2_ = sm.add_constant(X_train, has_constant = \"add\")\n",
        "X_train=X_train.drop(['sex_female','sex_male','region_northeast','region_northwest'],axis=1)\n",
        "\n",
        "# 회귀모델 적합\n",
        "multi_model2 = sm.OLS(y_train, X_train)\n",
        "fitted_multi_model2 = multi_model2.fit()\n",
        "\n",
        "# 결과 출력\n",
        "fitted_multi_model2.summary()"
      ],
      "metadata": {
        "colab": {
          "base_uri": "https://localhost:8080/",
          "height": 556
        },
        "id": "ruHCOCl7dc5A",
        "outputId": "7a167993-03be-48b1-ce29-02a49ec9c636"
      },
      "execution_count": 160,
      "outputs": [
        {
          "output_type": "execute_result",
          "data": {
            "text/plain": [
              "<class 'statsmodels.iolib.summary.Summary'>\n",
              "\"\"\"\n",
              "                            OLS Regression Results                            \n",
              "==============================================================================\n",
              "Dep. Variable:                charges   R-squared:                       0.753\n",
              "Model:                            OLS   Adj. R-squared:                  0.751\n",
              "Method:                 Least Squares   F-statistic:                     539.4\n",
              "Date:                Tue, 29 Aug 2023   Prob (F-statistic):          2.28e-318\n",
              "Time:                        18:04:28   Log-Likelihood:                -10835.\n",
              "No. Observations:                1070   AIC:                         2.168e+04\n",
              "Df Residuals:                    1063   BIC:                         2.172e+04\n",
              "Df Model:                           6                                         \n",
              "Covariance Type:            nonrobust                                         \n",
              "====================================================================================\n",
              "                       coef    std err          t      P>|t|      [0.025      0.975]\n",
              "------------------------------------------------------------------------------------\n",
              "age                251.0359     13.353     18.799      0.000     224.834     277.238\n",
              "bmi                371.1354     31.649     11.726      0.000     309.033     433.238\n",
              "children           549.3266    152.706      3.597      0.000     249.687     848.966\n",
              "smoker_no        -1.295e+04   1068.731    -12.116      0.000    -1.5e+04   -1.09e+04\n",
              "smoker_yes        1.103e+04   1111.766      9.919      0.000    8845.918    1.32e+04\n",
              "region_southeast -1416.8751    460.346     -3.078      0.002   -2320.166    -513.584\n",
              "region_southwest  -734.2207    464.637     -1.580      0.114   -1645.931     177.490\n",
              "==============================================================================\n",
              "Omnibus:                      229.333   Durbin-Watson:                   2.104\n",
              "Prob(Omnibus):                  0.000   Jarque-Bera (JB):              525.594\n",
              "Skew:                           1.166   Prob(JB):                    7.39e-115\n",
              "Kurtosis:                       5.520   Cond. No.                         418.\n",
              "==============================================================================\n",
              "\n",
              "Notes:\n",
              "[1] Standard Errors assume that the covariance matrix of the errors is correctly specified.\n",
              "\"\"\""
            ],
            "text/html": [
              "<table class=\"simpletable\">\n",
              "<caption>OLS Regression Results</caption>\n",
              "<tr>\n",
              "  <th>Dep. Variable:</th>         <td>charges</td>     <th>  R-squared:         </th> <td>   0.753</td> \n",
              "</tr>\n",
              "<tr>\n",
              "  <th>Model:</th>                   <td>OLS</td>       <th>  Adj. R-squared:    </th> <td>   0.751</td> \n",
              "</tr>\n",
              "<tr>\n",
              "  <th>Method:</th>             <td>Least Squares</td>  <th>  F-statistic:       </th> <td>   539.4</td> \n",
              "</tr>\n",
              "<tr>\n",
              "  <th>Date:</th>             <td>Tue, 29 Aug 2023</td> <th>  Prob (F-statistic):</th> <td>2.28e-318</td>\n",
              "</tr>\n",
              "<tr>\n",
              "  <th>Time:</th>                 <td>18:04:28</td>     <th>  Log-Likelihood:    </th> <td> -10835.</td> \n",
              "</tr>\n",
              "<tr>\n",
              "  <th>No. Observations:</th>      <td>  1070</td>      <th>  AIC:               </th> <td>2.168e+04</td>\n",
              "</tr>\n",
              "<tr>\n",
              "  <th>Df Residuals:</th>          <td>  1063</td>      <th>  BIC:               </th> <td>2.172e+04</td>\n",
              "</tr>\n",
              "<tr>\n",
              "  <th>Df Model:</th>              <td>     6</td>      <th>                     </th>     <td> </td>    \n",
              "</tr>\n",
              "<tr>\n",
              "  <th>Covariance Type:</th>      <td>nonrobust</td>    <th>                     </th>     <td> </td>    \n",
              "</tr>\n",
              "</table>\n",
              "<table class=\"simpletable\">\n",
              "<tr>\n",
              "          <td></td>            <th>coef</th>     <th>std err</th>      <th>t</th>      <th>P>|t|</th>  <th>[0.025</th>    <th>0.975]</th>  \n",
              "</tr>\n",
              "<tr>\n",
              "  <th>age</th>              <td>  251.0359</td> <td>   13.353</td> <td>   18.799</td> <td> 0.000</td> <td>  224.834</td> <td>  277.238</td>\n",
              "</tr>\n",
              "<tr>\n",
              "  <th>bmi</th>              <td>  371.1354</td> <td>   31.649</td> <td>   11.726</td> <td> 0.000</td> <td>  309.033</td> <td>  433.238</td>\n",
              "</tr>\n",
              "<tr>\n",
              "  <th>children</th>         <td>  549.3266</td> <td>  152.706</td> <td>    3.597</td> <td> 0.000</td> <td>  249.687</td> <td>  848.966</td>\n",
              "</tr>\n",
              "<tr>\n",
              "  <th>smoker_no</th>        <td>-1.295e+04</td> <td> 1068.731</td> <td>  -12.116</td> <td> 0.000</td> <td> -1.5e+04</td> <td>-1.09e+04</td>\n",
              "</tr>\n",
              "<tr>\n",
              "  <th>smoker_yes</th>       <td> 1.103e+04</td> <td> 1111.766</td> <td>    9.919</td> <td> 0.000</td> <td> 8845.918</td> <td> 1.32e+04</td>\n",
              "</tr>\n",
              "<tr>\n",
              "  <th>region_southeast</th> <td>-1416.8751</td> <td>  460.346</td> <td>   -3.078</td> <td> 0.002</td> <td>-2320.166</td> <td> -513.584</td>\n",
              "</tr>\n",
              "<tr>\n",
              "  <th>region_southwest</th> <td> -734.2207</td> <td>  464.637</td> <td>   -1.580</td> <td> 0.114</td> <td>-1645.931</td> <td>  177.490</td>\n",
              "</tr>\n",
              "</table>\n",
              "<table class=\"simpletable\">\n",
              "<tr>\n",
              "  <th>Omnibus:</th>       <td>229.333</td> <th>  Durbin-Watson:     </th> <td>   2.104</td> \n",
              "</tr>\n",
              "<tr>\n",
              "  <th>Prob(Omnibus):</th> <td> 0.000</td>  <th>  Jarque-Bera (JB):  </th> <td> 525.594</td> \n",
              "</tr>\n",
              "<tr>\n",
              "  <th>Skew:</th>          <td> 1.166</td>  <th>  Prob(JB):          </th> <td>7.39e-115</td>\n",
              "</tr>\n",
              "<tr>\n",
              "  <th>Kurtosis:</th>      <td> 5.520</td>  <th>  Cond. No.          </th> <td>    418.</td> \n",
              "</tr>\n",
              "</table><br/><br/>Notes:<br/>[1] Standard Errors assume that the covariance matrix of the errors is correctly specified."
            ],
            "text/latex": "\\begin{center}\n\\begin{tabular}{lclc}\n\\toprule\n\\textbf{Dep. Variable:}    &     charges      & \\textbf{  R-squared:         } &     0.753   \\\\\n\\textbf{Model:}            &       OLS        & \\textbf{  Adj. R-squared:    } &     0.751   \\\\\n\\textbf{Method:}           &  Least Squares   & \\textbf{  F-statistic:       } &     539.4   \\\\\n\\textbf{Date:}             & Tue, 29 Aug 2023 & \\textbf{  Prob (F-statistic):} & 2.28e-318   \\\\\n\\textbf{Time:}             &     18:04:28     & \\textbf{  Log-Likelihood:    } &   -10835.   \\\\\n\\textbf{No. Observations:} &        1070      & \\textbf{  AIC:               } & 2.168e+04   \\\\\n\\textbf{Df Residuals:}     &        1063      & \\textbf{  BIC:               } & 2.172e+04   \\\\\n\\textbf{Df Model:}         &           6      & \\textbf{                     } &             \\\\\n\\textbf{Covariance Type:}  &    nonrobust     & \\textbf{                     } &             \\\\\n\\bottomrule\n\\end{tabular}\n\\begin{tabular}{lcccccc}\n                           & \\textbf{coef} & \\textbf{std err} & \\textbf{t} & \\textbf{P$> |$t$|$} & \\textbf{[0.025} & \\textbf{0.975]}  \\\\\n\\midrule\n\\textbf{age}               &     251.0359  &       13.353     &    18.799  &         0.000        &      224.834    &      277.238     \\\\\n\\textbf{bmi}               &     371.1354  &       31.649     &    11.726  &         0.000        &      309.033    &      433.238     \\\\\n\\textbf{children}          &     549.3266  &      152.706     &     3.597  &         0.000        &      249.687    &      848.966     \\\\\n\\textbf{smoker\\_no}        &   -1.295e+04  &     1068.731     &   -12.116  &         0.000        &     -1.5e+04    &    -1.09e+04     \\\\\n\\textbf{smoker\\_yes}       &    1.103e+04  &     1111.766     &     9.919  &         0.000        &     8845.918    &     1.32e+04     \\\\\n\\textbf{region\\_southeast} &   -1416.8751  &      460.346     &    -3.078  &         0.002        &    -2320.166    &     -513.584     \\\\\n\\textbf{region\\_southwest} &    -734.2207  &      464.637     &    -1.580  &         0.114        &    -1645.931    &      177.490     \\\\\n\\bottomrule\n\\end{tabular}\n\\begin{tabular}{lclc}\n\\textbf{Omnibus:}       & 229.333 & \\textbf{  Durbin-Watson:     } &     2.104  \\\\\n\\textbf{Prob(Omnibus):} &   0.000 & \\textbf{  Jarque-Bera (JB):  } &   525.594  \\\\\n\\textbf{Skew:}          &   1.166 & \\textbf{  Prob(JB):          } & 7.39e-115  \\\\\n\\textbf{Kurtosis:}      &   5.520 & \\textbf{  Cond. No.          } &      418.  \\\\\n\\bottomrule\n\\end{tabular}\n%\\caption{OLS Regression Results}\n\\end{center}\n\nNotes: \\newline\n [1] Standard Errors assume that the covariance matrix of the errors is correctly specified."
          },
          "metadata": {},
          "execution_count": 160
        }
      ]
    }
  ]
}