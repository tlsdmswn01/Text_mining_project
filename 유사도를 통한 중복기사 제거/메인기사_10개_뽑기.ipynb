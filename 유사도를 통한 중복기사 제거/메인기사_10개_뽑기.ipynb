{
  "nbformat": 4,
  "nbformat_minor": 0,
  "metadata": {
    "colab": {
      "private_outputs": true,
      "provenance": [],
      "authorship_tag": "ABX9TyMPajiN4YNqPBE6Ag/1HfeC",
      "include_colab_link": true
    },
    "kernelspec": {
      "name": "python3",
      "display_name": "Python 3"
    },
    "language_info": {
      "name": "python"
    }
  },
  "cells": [
    {
      "cell_type": "markdown",
      "metadata": {
        "id": "view-in-github",
        "colab_type": "text"
      },
      "source": [
        "<a href=\"https://colab.research.google.com/github/tlsdmswn01/Text_mining_project/blob/main/%EC%9C%A0%EC%82%AC%EB%8F%84%EB%A5%BC%20%ED%86%B5%ED%95%9C%20%EC%A4%91%EB%B3%B5%EA%B8%B0%EC%82%AC%20%EC%A0%9C%EA%B1%B0/%EB%A9%94%EC%9D%B8%EA%B8%B0%EC%82%AC_10%EA%B0%9C_%EB%BD%91%EA%B8%B0.ipynb\" target=\"_parent\"><img src=\"https://colab.research.google.com/assets/colab-badge.svg\" alt=\"Open In Colab\"/></a>"
      ]
    },
    {
      "cell_type": "code",
      "execution_count": null,
      "metadata": {
        "id": "P_fBqrY299rD"
      },
      "outputs": [],
      "source": [
        "from google.colab import drive\n",
        "drive.mount('/content/drive')"
      ]
    },
    {
      "cell_type": "code",
      "source": [
        "cd/content/drive/Shareddrives/텍스트 마이닝 프로젝트/웹 크롤링 코드 및 데이터"
      ],
      "metadata": {
        "id": "0sTs6B-H-Gfm"
      },
      "execution_count": null,
      "outputs": []
    },
    {
      "cell_type": "code",
      "source": [
        "import pandas as pd\n",
        "from sklearn.feature_extraction.text import TfidfVectorizer\n",
        "import numpy as np"
      ],
      "metadata": {
        "id": "S1oQEMBx-PGo"
      },
      "execution_count": null,
      "outputs": []
    },
    {
      "cell_type": "code",
      "source": [
        "clustering_df=pd.read_csv('clustering_df')\n",
        "clustering_df[clustering_df['cluster1st']==-1]\n",
        "df=[]\n",
        "n=43\n",
        "for i in range(n+1):\n",
        "    df.append(clustering_df[clustering_df['cluster1st']==i])\n"
      ],
      "metadata": {
        "id": "mFCvK5mX-LU6"
      },
      "execution_count": null,
      "outputs": []
    },
    {
      "cell_type": "code",
      "source": [
        "df[2]"
      ],
      "metadata": {
        "id": "0Iz0DsEQy7S5"
      },
      "execution_count": null,
      "outputs": []
    },
    {
      "cell_type": "markdown",
      "source": [
        "# 코사인 유사도"
      ],
      "metadata": {
        "id": "zw5feGxRJS7E"
      }
    },
    {
      "cell_type": "code",
      "source": [
        "from sklearn.metrics.pairwise import cosine_similarity\n",
        "best=[]\n",
        "for i in range(n+1):\n",
        "    dfn=df[i]\n",
        "    dfnk=dfn['키워드']\n",
        "    tfidf=TfidfVectorizer(stop_words='english')\n",
        "    vec=tfidf.fit_transform(dfnk)\n",
        "    best=[]\n",
        "    for k in range(dfnk.count()):\n",
        "        all_cos_sim=cosine_similarity(vec[k],vec)\n",
        "        all_cos_sim=np.delete(all_cos_sim,k,axis=1)\n",
        "        sum_1=np.sum(all_cos_sim)\n",
        "        best.append(sum_1)\n",
        "    df[i]['sim']=best"
      ],
      "metadata": {
        "id": "uR25kRT5KEBl"
      },
      "execution_count": null,
      "outputs": []
    },
    {
      "cell_type": "code",
      "source": [
        "df[2]"
      ],
      "metadata": {
        "id": "sOs77ohQnb3d"
      },
      "execution_count": null,
      "outputs": []
    },
    {
      "cell_type": "code",
      "source": [
        "title=[]\n",
        "url=[]\n",
        "doc=[]\n",
        "for i in range(n+1):\n",
        "    df_result=df[i].sort_values(by='sim',ascending=False)\n",
        "    print(df_result.iloc[0,:]['제목'])\n",
        "    print(df_result.iloc[0,:]['URL'])\n",
        "    print('==============================================')\n",
        "    title.append(df_result.iloc[0,:]['제목'])\n",
        "    doc.append(df_result.iloc[0,:]['키워드'])\n",
        "    url.append(df_result.iloc[0,:]['URL'])\n"
      ],
      "metadata": {
        "id": "Cfsdp12KLQEz"
      },
      "execution_count": null,
      "outputs": []
    },
    {
      "cell_type": "code",
      "source": [
        "main_report=pd.DataFrame({'title':title,'key':doc,'url':url})"
      ],
      "metadata": {
        "id": "i9RJoqXk0Yl_"
      },
      "execution_count": null,
      "outputs": []
    },
    {
      "cell_type": "code",
      "source": [
        "main_report"
      ],
      "metadata": {
        "id": "Zj9lBYP_0lP4"
      },
      "execution_count": null,
      "outputs": []
    },
    {
      "cell_type": "markdown",
      "source": [
        "# 자카드 유사도"
      ],
      "metadata": {
        "id": "z0hn_GeWNWvo"
      }
    },
    {
      "cell_type": "code",
      "source": [
        "import pickle\n",
        "\n",
        "with open(\"삼성전자 사업개요.pkl\",\"rb\") as f:\n",
        "    samsung_load = pickle.load(f)\n",
        "samsung_load.append('삼성')\n",
        "samsung_load.append('전자')\n",
        "samsung_load.append('삼성전자')\n"
      ],
      "metadata": {
        "id": "Ix4-IpffNY6K"
      },
      "execution_count": null,
      "outputs": []
    },
    {
      "cell_type": "code",
      "source": [
        "samsung_load"
      ],
      "metadata": {
        "id": "L7aAcUtlneoC"
      },
      "execution_count": null,
      "outputs": []
    },
    {
      "cell_type": "code",
      "source": [
        "samsung_load.count('삼성')"
      ],
      "metadata": {
        "id": "R-w1nBV-NgVd"
      },
      "execution_count": null,
      "outputs": []
    },
    {
      "cell_type": "code",
      "source": [
        "def jaccard_sim(d1,d2):\n",
        "    s1=set(d1)\n",
        "    s2=set(d2)\n",
        "    return float(len(s1.intersection(s2))/len(s1.union(s2)))\n"
      ],
      "metadata": {
        "id": "XA79vZlvN08M"
      },
      "execution_count": null,
      "outputs": []
    },
    {
      "cell_type": "code",
      "source": [
        "dfnk=main_report['key']\n",
        "jaccard_sim(dfnk.iloc[0].split(','),samsung_load)"
      ],
      "metadata": {
        "id": "xhdQQ4Z-Q_U0"
      },
      "execution_count": null,
      "outputs": []
    },
    {
      "cell_type": "code",
      "source": [
        "best=[]\n",
        "for k in range(dfnk.count()):\n",
        "    best.append(jaccard_sim(dfnk.iloc[k].split(','),samsung_load))\n",
        "main_report['sim']=best"
      ],
      "metadata": {
        "id": "v0Li8anC1nlT"
      },
      "execution_count": null,
      "outputs": []
    },
    {
      "cell_type": "code",
      "source": [
        "main_report=main_report.sort_values(by='sim',ascending=False)\n",
        "main_report.iloc[:10,:]"
      ],
      "metadata": {
        "id": "8XbnTDNt187c"
      },
      "execution_count": null,
      "outputs": []
    }
  ]
}